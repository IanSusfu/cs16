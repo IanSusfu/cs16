{
 "cells": [
  {
   "attachments": {},
   "cell_type": "markdown",
   "id": "8546a5b4",
   "metadata": {},
   "source": [
    "# DPA"
   ]
  },
  {
   "cell_type": "code",
   "execution_count": 26,
   "id": "2a28f2a7",
   "metadata": {},
   "outputs": [],
   "source": [
    "#============================================================\n",
    "# Verson 1.2 19/05/2023\n",
    "#============================================================\n",
    "\n",
    "import tensorflow as tf\n",
    "import sys\n",
    "sys.path.append('./cs16')\n",
    "import cs16.prep as prep16\n",
    "import cs16.plot as plot16\n",
    "import cs16.build as build16\n",
    "\n",
    "import cv2\n",
    "import matplotlib.pyplot as plt\n",
    "import numpy as np\n",
    "import os\n",
    "import pandas as pd\n",
    "import re\n",
    "from keras.callbacks import EarlyStopping\n",
    "from keras.layers import (Activation, Attention, Bidirectional, Concatenate, Conv1D, Conv2D, Add, Multiply,\n",
    "                           Dense, Dropout, Embedding, Flatten, GlobalMaxPooling1D, GlobalMaxPooling2D,MaxPooling2D,\n",
    "                           Input, Layer, LSTM, MaxPooling2D, Multiply, Permute, AveragePooling2D, UpSampling2D,\n",
    "                           RepeatVector, Reshape, SpatialDropout1D, TimeDistributed, GlobalAveragePooling2D, BatchNormalization)\n",
    "\n",
    "from keras.models import Model\n",
    "from keras import backend as K\n",
    "from keras.preprocessing.text import Tokenizer\n",
    "from keras.utils import to_categorical\n",
    "from sklearn.metrics import accuracy_score, classification_report, confusion_matrix\n",
    "from sklearn.model_selection import train_test_split\n",
    "from tensorflow.keras.preprocessing.sequence import pad_sequences\n",
    "from nltk.corpus import stopwords\n",
    "\n",
    "imagesize = 64\n",
    "\n",
    "#------------------------------------------------------------\n",
    "# Dataset Selection\n",
    "#------------------------------------------------------------\n",
    "\n",
    "data_type = input(\"Enter '1. single' for single dataset or '2. multi' for multiple dataset: \")\n",
    "\n",
    "if data_type == '1':\n",
    "    file_path = 'single.txt'\n",
    "    folder_path = 'C:/Users/Jeffan/Downloads/MVSA-Single/MVSA_Single/data/'\n",
    "elif data_type == '2':\n",
    "    file_path = 'multi.txt'\n",
    "    folder_path = 'C:/Users/Jeffan/Downloads/MVSA-multiple/MVSA/data/'\n",
    "else:\n",
    "    print(\"Invalid input. Please enter either 'single' or 'multi'.\")\n",
    "    exit()\n",
    "\n",
    "df = pd.read_csv(file_path, index_col=None, encoding='ISO-8859-1')\n"
   ]
  },
  {
   "attachments": {},
   "cell_type": "markdown",
   "id": "9d4a3b88",
   "metadata": {},
   "source": [
    "# Text Preprocess"
   ]
  },
  {
   "cell_type": "code",
   "execution_count": 13,
   "id": "14f3c9f3",
   "metadata": {},
   "outputs": [],
   "source": [
    "# %pip install demoji"
   ]
  },
  {
   "cell_type": "code",
   "execution_count": 27,
   "id": "7e96f3f4",
   "metadata": {},
   "outputs": [
    {
     "name": "stderr",
     "output_type": "stream",
     "text": [
      "[nltk_data] Downloading package stopwords to\n",
      "[nltk_data]     C:\\Users\\Jeffan\\AppData\\Roaming\\nltk_data...\n",
      "[nltk_data]   Package stopwords is already up-to-date!\n",
      "[nltk_data] Downloading package punkt to\n",
      "[nltk_data]     C:\\Users\\Jeffan\\AppData\\Roaming\\nltk_data...\n",
      "[nltk_data]   Package punkt is already up-to-date!\n"
     ]
    }
   ],
   "source": [
    "import re\n",
    "import nltk\n",
    "from nltk.corpus import stopwords\n",
    "from nltk.stem import PorterStemmer\n",
    "from nltk.tokenize import word_tokenize\n",
    "import pandas as pd\n",
    "import matplotlib.pyplot as plt\n",
    "import contractions\n",
    "import demoji\n",
    "\n",
    "nltk.download('stopwords')\n",
    "nltk.download('punkt')\n",
    "\n",
    "# Define a function to preprocess text\n",
    "def nlp_text(text, use_emoji = False):\n",
    "    \n",
    "    #--------- TEXT -----------\n",
    "    # Convert text to lowercase\n",
    "    text = text.lower()\n",
    "    text = re.sub(r'http\\S+', '', text) # Remove URLs \n",
    "    text = re.sub(r'RT @\\w+: |@\\w+', '', text) # Remove @user \n",
    "    text = re.sub(r'#\\w*', '', text) # Remove Tags\n",
    "    if use_emoji:\n",
    "        # inittext = text\n",
    "        text = demoji.replace_with_desc(text)\n",
    "        # aftertext = text\n",
    "        # if inittext != aftertext:\n",
    "        #     print(\"emoji detected\")\n",
    "        #     print(inittext)\n",
    "        #     print(aftertext)\n",
    "    text = contractions.fix(text) # expand contractions\n",
    "    text = re.sub(r'[^\\w\\s]', '', text) # Remove punctuation\n",
    "\n",
    "    words = word_tokenize(text) # Tokenize text into words\n",
    "    \n",
    "    #--------- WORD -----------\n",
    "    # stop_words = set(stopwords.words('english'))\n",
    "    # words = [word for word in words if word not in stop_words]\n",
    "    \n",
    "    # --------- Stemmer -----------\n",
    "    stemmer = PorterStemmer()\n",
    "    words = [stemmer.stem(word) for word in words]\n",
    "   \n",
    "    text = ' '.join(words) # Join words back into a single string\n",
    "    \n",
    "    return text\n",
    "\n",
    "# Apply the preprocess_text function to the 'tweet' column of the dataframe\n",
    "df['tweet'] = df['tweet'].apply(nlp_text)"
   ]
  },
  {
   "attachments": {},
   "cell_type": "markdown",
   "id": "c557bfd8",
   "metadata": {},
   "source": [
    "# Train/Val/Test"
   ]
  },
  {
   "cell_type": "code",
   "execution_count": 28,
   "id": "3e5e4873",
   "metadata": {},
   "outputs": [
    {
     "name": "stdout",
     "output_type": "stream",
     "text": [
      "Processed Dataset:single.txt\n"
     ]
    }
   ],
   "source": [
    "\n",
    "#---------------Text--------------------\n",
    "X_text, y_text = prep16.preprocess_text(df)\n",
    "X_train_text, X_val_text, X_test_text, \\\n",
    "y_train_text, y_val_text, y_test_text = prep16.split_data(X_text, y_text, random_state=42)\n",
    "\n",
    "#---------------Image--------------------\n",
    "image_data_s, image_label_s = prep16.preprocess_images(df, folder_path, imagesize)\n",
    "y_s = to_categorical(image_label_s, num_classes=3)\n",
    "\n",
    "X_train_image, X_val_image, X_test_image, \\\n",
    "y_train_image, y_val_image, y_test_image= prep16.split_data(image_data_s, y_s, random_state=42)\n",
    "\n",
    "\n",
    "#---------------combined--------------------\n",
    "X_polar, y_polar = prep16.preprocess_text(df,label = 'polarity')\n",
    "X_train_polar, X_val_polar, X_test_polar, \\\n",
    "y_train_polar, y_val_polar, y_test_polar = prep16.split_data(X_polar, y_polar, random_state=42)\n",
    "\n",
    "\n",
    "y_train = to_categorical(y_train_polar, num_classes=3)\n",
    "y_val =to_categorical(y_val_polar, num_classes=3)\n",
    "y_test =to_categorical(y_test_polar, num_classes=3)\n",
    "print(f\"Processed Dataset:{file_path}\")"
   ]
  },
  {
   "attachments": {},
   "cell_type": "markdown",
   "id": "13dd117b",
   "metadata": {},
   "source": [
    "# Polarity Distribution"
   ]
  },
  {
   "cell_type": "code",
   "execution_count": 29,
   "id": "26029a65",
   "metadata": {},
   "outputs": [
    {
     "data": {
      "image/png": "[encoded data removed]",
      "text/plain": [
       "<Figure size 640x480 with 1 Axes>"
      ]
     },
     "metadata": {},
     "output_type": "display_data"
    }
   ],
   "source": [
    "#distribution of polarity\n",
    "polarity_counts =df['polarity'].value_counts(normalize=True)\n",
    "\n",
    "# assign colors for each category\n",
    "colors = ['#3cfa54', '#f44336', '#ffe119']\n",
    "\n",
    "# Create a pie chart of the polarity distribution\n",
    "plt.pie(polarity_counts.values, labels=polarity_counts.index, colors=colors, autopct='%1.1f%%', startangle=90)\n",
    "plt.axis('equal')\n",
    "plt.title(f'Polarity Distribution:{file_path}')\n",
    "plt.legend(title='Polarity', loc='best')\n",
    "plt.show()"
   ]
  },
  {
   "attachments": {},
   "cell_type": "markdown",
   "id": "282c5e52",
   "metadata": {},
   "source": [
    "# TEXT"
   ]
  },
  {
   "cell_type": "code",
   "execution_count": 30,
   "id": "6028d97d",
   "metadata": {},
   "outputs": [
    {
     "name": "stdout",
     "output_type": "stream",
     "text": [
      "BiLSTM + ATT\n"
     ]
    }
   ],
   "source": [
    "#============================================================\n",
    "# TEXT Classification\n",
    "# Pipeline 1: BiLSTM\n",
    "# Pipeline 2: BiLSTM\n",
    "#============================================================\n",
    "textclassifier ='BiLSTM + ATT' \n",
    "from keras import regularizers\n",
    "from keras.layers import Bidirectional, LSTM, Concatenate, Reshape\n",
    "\n",
    "#---------------ContentAttention--------------------\n",
    "# code adopted and modified from : \n",
    "# https://machinelearningmastery.com/adding-a-custom-attention-layer-to-recurrent-neural-network-in-keras/\n",
    "# https://www.kaggle.com/code/haithemhermessi/attention-mechanism-keras-as-simple-as-possible\n",
    "\n",
    "\n",
    "class ContentAttention(Layer):\n",
    "    def __init__(self, **kwargs):\n",
    "        super(ContentAttention, self).__init__(**kwargs)\n",
    "\n",
    "    def build(self, input_shape):\n",
    "        self.W = self.add_weight(name=\"att_weight\", shape=(input_shape[-1], 1), initializer=\"normal\")\n",
    "        self.b = self.add_weight(name=\"att_bias\", shape=(input_shape[1], 1), initializer=\"zeros\")\n",
    "        super(ContentAttention, self).build(input_shape)\n",
    "\n",
    "    def call(self, x):\n",
    "        e = K.tanh(K.dot(x, self.W) + self.b)\n",
    "        a = K.softmax(e, axis=1)\n",
    "        output = x * a\n",
    "        return K.sum(output, axis=1)    \n",
    "    \n",
    "text_input = Input(shape=(X_train_text.shape[1],), dtype='int32', name='text_input')\n",
    "\n",
    "embedding_layer = Embedding(input_dim=10000, output_dim=100, \n",
    "                            input_length=X_train_text.shape[1])(text_input)\n",
    "\n",
    "#--------- pipeline1 -----------\n",
    "lstm1 = Bidirectional(LSTM(128, return_sequences=True))(embedding_layer)\n",
    "lstm1 = Dropout(0.25)(lstm1) \n",
    "att_layer1 = ContentAttention()(lstm1)\n",
    "sent_representation1 = att_layer1\n",
    "\n",
    "#--------- pipeline2 -----------\n",
    "lstm2 = Bidirectional(LSTM(64, return_sequences=True))(embedding_layer)\n",
    "lstm2 = Dropout(0.25)(lstm2) \n",
    "att_layer2 = ContentAttention()(lstm2)\n",
    "sent_representation2 = att_layer2\n",
    "\n",
    "#--------- Concatenate -----------\n",
    "merged_layer = Concatenate()([sent_representation1, sent_representation2]) \n",
    "merged = Dense(128, activation='tanh')(merged_layer)\n",
    "\n",
    "reshaped = Reshape((1, 128))(merged)  \n",
    "t = Bidirectional(LSTM(256))(reshaped)\n",
    "text_output = Dense(3, activation='softmax', kernel_regularizer=regularizers.l2(0.01))(t)\n",
    "\n",
    "print(textclassifier)"
   ]
  },
  {
   "cell_type": "code",
   "execution_count": 31,
   "id": "c4d5904a",
   "metadata": {},
   "outputs": [],
   "source": [
    "from tensorflow.keras.metrics import Precision, Recall, AUC\n",
    "\n",
    "precision = Precision()\n",
    "recall = Recall()\n",
    "\n",
    "def F1Score(y_true, y_pred): \n",
    "    precision_value = precision(y_true, y_pred)\n",
    "    recall_value = recall(y_true, y_pred)\n",
    "    return 2*((precision_value*recall_value)/(precision_value+recall_value+1e-5))\n"
   ]
  },
  {
   "cell_type": "code",
   "execution_count": 32,
   "id": "300a1874",
   "metadata": {},
   "outputs": [
    {
     "name": "stdout",
     "output_type": "stream",
     "text": [
      "Epoch 1/10\n",
      "122/122 [==============================] - 269s 2s/step - loss: 1.4727 - accuracy: 0.5589 - F1Score: 0.3858 - val_loss: 1.0463 - val_accuracy: 0.5462 - val_F1Score: 0.4821 - lr: 0.0010\n",
      "Epoch 2/10\n",
      " 90/122 [=====================>........] - ETA: 1:08 - loss: 0.7132 - accuracy: 0.7188 - F1Score: 0.5395"
     ]
    },
    {
     "ename": "KeyboardInterrupt",
     "evalue": "",
     "output_type": "error",
     "traceback": [
      "\u001b[1;31m---------------------------------------------------------------------------\u001b[0m",
      "\u001b[1;31mKeyboardInterrupt\u001b[0m                         Traceback (most recent call last)",
      "Cell \u001b[1;32mIn[32], line 56\u001b[0m\n\u001b[0;32m     53\u001b[0m model\u001b[39m.\u001b[39mcompile(loss\u001b[39m=\u001b[39m\u001b[39m'\u001b[39m\u001b[39mcategorical_crossentropy\u001b[39m\u001b[39m'\u001b[39m, optimizer\u001b[39m=\u001b[39moptimizer, metrics\u001b[39m=\u001b[39m[\u001b[39m'\u001b[39m\u001b[39maccuracy\u001b[39m\u001b[39m'\u001b[39m, F1Score])\n\u001b[0;32m     55\u001b[0m \u001b[39m# Train the model\u001b[39;00m\n\u001b[1;32m---> 56\u001b[0m history \u001b[39m=\u001b[39m model\u001b[39m.\u001b[39;49mfit(X_train_text, y_train, validation_data\u001b[39m=\u001b[39;49m(X_val_text, y_val),\n\u001b[0;32m     57\u001b[0m                     epochs\u001b[39m=\u001b[39;49m\u001b[39m10\u001b[39;49m, batch_size\u001b[39m=\u001b[39;49m\u001b[39m32\u001b[39;49m, callbacks\u001b[39m=\u001b[39;49m[earlystop_callback, lr_scheduler])\n\u001b[0;32m     59\u001b[0m \u001b[39m# Evaluate the model\u001b[39;00m\n\u001b[0;32m     60\u001b[0m test_loss, test_acc, test_f1 \u001b[39m=\u001b[39m model\u001b[39m.\u001b[39mevaluate(X_test_text, y_test)\n",
      "File \u001b[1;32mc:\\Users\\Jeffan\\.conda\\envs\\MGNNS\\lib\\site-packages\\keras\\utils\\traceback_utils.py:65\u001b[0m, in \u001b[0;36mfilter_traceback.<locals>.error_handler\u001b[1;34m(*args, **kwargs)\u001b[0m\n\u001b[0;32m     63\u001b[0m filtered_tb \u001b[39m=\u001b[39m \u001b[39mNone\u001b[39;00m\n\u001b[0;32m     64\u001b[0m \u001b[39mtry\u001b[39;00m:\n\u001b[1;32m---> 65\u001b[0m     \u001b[39mreturn\u001b[39;00m fn(\u001b[39m*\u001b[39margs, \u001b[39m*\u001b[39m\u001b[39m*\u001b[39mkwargs)\n\u001b[0;32m     66\u001b[0m \u001b[39mexcept\u001b[39;00m \u001b[39mException\u001b[39;00m \u001b[39mas\u001b[39;00m e:\n\u001b[0;32m     67\u001b[0m     filtered_tb \u001b[39m=\u001b[39m _process_traceback_frames(e\u001b[39m.\u001b[39m__traceback__)\n",
      "File \u001b[1;32mc:\\Users\\Jeffan\\.conda\\envs\\MGNNS\\lib\\site-packages\\keras\\engine\\training.py:1685\u001b[0m, in \u001b[0;36mModel.fit\u001b[1;34m(self, x, y, batch_size, epochs, verbose, callbacks, validation_split, validation_data, shuffle, class_weight, sample_weight, initial_epoch, steps_per_epoch, validation_steps, validation_batch_size, validation_freq, max_queue_size, workers, use_multiprocessing)\u001b[0m\n\u001b[0;32m   1677\u001b[0m \u001b[39mwith\u001b[39;00m tf\u001b[39m.\u001b[39mprofiler\u001b[39m.\u001b[39mexperimental\u001b[39m.\u001b[39mTrace(\n\u001b[0;32m   1678\u001b[0m     \u001b[39m\"\u001b[39m\u001b[39mtrain\u001b[39m\u001b[39m\"\u001b[39m,\n\u001b[0;32m   1679\u001b[0m     epoch_num\u001b[39m=\u001b[39mepoch,\n\u001b[1;32m   (...)\u001b[0m\n\u001b[0;32m   1682\u001b[0m     _r\u001b[39m=\u001b[39m\u001b[39m1\u001b[39m,\n\u001b[0;32m   1683\u001b[0m ):\n\u001b[0;32m   1684\u001b[0m     callbacks\u001b[39m.\u001b[39mon_train_batch_begin(step)\n\u001b[1;32m-> 1685\u001b[0m     tmp_logs \u001b[39m=\u001b[39m \u001b[39mself\u001b[39;49m\u001b[39m.\u001b[39;49mtrain_function(iterator)\n\u001b[0;32m   1686\u001b[0m     \u001b[39mif\u001b[39;00m data_handler\u001b[39m.\u001b[39mshould_sync:\n\u001b[0;32m   1687\u001b[0m         context\u001b[39m.\u001b[39masync_wait()\n",
      "File \u001b[1;32mc:\\Users\\Jeffan\\.conda\\envs\\MGNNS\\lib\\site-packages\\tensorflow\\python\\util\\traceback_utils.py:150\u001b[0m, in \u001b[0;36mfilter_traceback.<locals>.error_handler\u001b[1;34m(*args, **kwargs)\u001b[0m\n\u001b[0;32m    148\u001b[0m filtered_tb \u001b[39m=\u001b[39m \u001b[39mNone\u001b[39;00m\n\u001b[0;32m    149\u001b[0m \u001b[39mtry\u001b[39;00m:\n\u001b[1;32m--> 150\u001b[0m   \u001b[39mreturn\u001b[39;00m fn(\u001b[39m*\u001b[39margs, \u001b[39m*\u001b[39m\u001b[39m*\u001b[39mkwargs)\n\u001b[0;32m    151\u001b[0m \u001b[39mexcept\u001b[39;00m \u001b[39mException\u001b[39;00m \u001b[39mas\u001b[39;00m e:\n\u001b[0;32m    152\u001b[0m   filtered_tb \u001b[39m=\u001b[39m _process_traceback_frames(e\u001b[39m.\u001b[39m__traceback__)\n",
      "File \u001b[1;32mc:\\Users\\Jeffan\\.conda\\envs\\MGNNS\\lib\\site-packages\\tensorflow\\python\\eager\\polymorphic_function\\polymorphic_function.py:894\u001b[0m, in \u001b[0;36mFunction.__call__\u001b[1;34m(self, *args, **kwds)\u001b[0m\n\u001b[0;32m    891\u001b[0m compiler \u001b[39m=\u001b[39m \u001b[39m\"\u001b[39m\u001b[39mxla\u001b[39m\u001b[39m\"\u001b[39m \u001b[39mif\u001b[39;00m \u001b[39mself\u001b[39m\u001b[39m.\u001b[39m_jit_compile \u001b[39melse\u001b[39;00m \u001b[39m\"\u001b[39m\u001b[39mnonXla\u001b[39m\u001b[39m\"\u001b[39m\n\u001b[0;32m    893\u001b[0m \u001b[39mwith\u001b[39;00m OptionalXlaContext(\u001b[39mself\u001b[39m\u001b[39m.\u001b[39m_jit_compile):\n\u001b[1;32m--> 894\u001b[0m   result \u001b[39m=\u001b[39m \u001b[39mself\u001b[39m\u001b[39m.\u001b[39m_call(\u001b[39m*\u001b[39margs, \u001b[39m*\u001b[39m\u001b[39m*\u001b[39mkwds)\n\u001b[0;32m    896\u001b[0m new_tracing_count \u001b[39m=\u001b[39m \u001b[39mself\u001b[39m\u001b[39m.\u001b[39mexperimental_get_tracing_count()\n\u001b[0;32m    897\u001b[0m without_tracing \u001b[39m=\u001b[39m (tracing_count \u001b[39m==\u001b[39m new_tracing_count)\n",
      "File \u001b[1;32mc:\\Users\\Jeffan\\.conda\\envs\\MGNNS\\lib\\site-packages\\tensorflow\\python\\eager\\polymorphic_function\\polymorphic_function.py:926\u001b[0m, in \u001b[0;36mFunction._call\u001b[1;34m(self, *args, **kwds)\u001b[0m\n\u001b[0;32m    923\u001b[0m   \u001b[39mself\u001b[39m\u001b[39m.\u001b[39m_lock\u001b[39m.\u001b[39mrelease()\n\u001b[0;32m    924\u001b[0m   \u001b[39m# In this case we have created variables on the first call, so we run the\u001b[39;00m\n\u001b[0;32m    925\u001b[0m   \u001b[39m# defunned version which is guaranteed to never create variables.\u001b[39;00m\n\u001b[1;32m--> 926\u001b[0m   \u001b[39mreturn\u001b[39;00m \u001b[39mself\u001b[39m\u001b[39m.\u001b[39m_no_variable_creation_fn(\u001b[39m*\u001b[39margs, \u001b[39m*\u001b[39m\u001b[39m*\u001b[39mkwds)  \u001b[39m# pylint: disable=not-callable\u001b[39;00m\n\u001b[0;32m    927\u001b[0m \u001b[39melif\u001b[39;00m \u001b[39mself\u001b[39m\u001b[39m.\u001b[39m_variable_creation_fn \u001b[39mis\u001b[39;00m \u001b[39mnot\u001b[39;00m \u001b[39mNone\u001b[39;00m:\n\u001b[0;32m    928\u001b[0m   \u001b[39m# Release the lock early so that multiple threads can perform the call\u001b[39;00m\n\u001b[0;32m    929\u001b[0m   \u001b[39m# in parallel.\u001b[39;00m\n\u001b[0;32m    930\u001b[0m   \u001b[39mself\u001b[39m\u001b[39m.\u001b[39m_lock\u001b[39m.\u001b[39mrelease()\n",
      "File \u001b[1;32mc:\\Users\\Jeffan\\.conda\\envs\\MGNNS\\lib\\site-packages\\tensorflow\\python\\eager\\polymorphic_function\\tracing_compiler.py:143\u001b[0m, in \u001b[0;36mTracingCompiler.__call__\u001b[1;34m(self, *args, **kwargs)\u001b[0m\n\u001b[0;32m    140\u001b[0m \u001b[39mwith\u001b[39;00m \u001b[39mself\u001b[39m\u001b[39m.\u001b[39m_lock:\n\u001b[0;32m    141\u001b[0m   (concrete_function,\n\u001b[0;32m    142\u001b[0m    filtered_flat_args) \u001b[39m=\u001b[39m \u001b[39mself\u001b[39m\u001b[39m.\u001b[39m_maybe_define_function(args, kwargs)\n\u001b[1;32m--> 143\u001b[0m \u001b[39mreturn\u001b[39;00m concrete_function\u001b[39m.\u001b[39;49m_call_flat(\n\u001b[0;32m    144\u001b[0m     filtered_flat_args, captured_inputs\u001b[39m=\u001b[39;49mconcrete_function\u001b[39m.\u001b[39;49mcaptured_inputs)\n",
      "File \u001b[1;32mc:\\Users\\Jeffan\\.conda\\envs\\MGNNS\\lib\\site-packages\\tensorflow\\python\\eager\\polymorphic_function\\monomorphic_function.py:1757\u001b[0m, in \u001b[0;36mConcreteFunction._call_flat\u001b[1;34m(self, args, captured_inputs, cancellation_manager)\u001b[0m\n\u001b[0;32m   1753\u001b[0m possible_gradient_type \u001b[39m=\u001b[39m gradients_util\u001b[39m.\u001b[39mPossibleTapeGradientTypes(args)\n\u001b[0;32m   1754\u001b[0m \u001b[39mif\u001b[39;00m (possible_gradient_type \u001b[39m==\u001b[39m gradients_util\u001b[39m.\u001b[39mPOSSIBLE_GRADIENT_TYPES_NONE\n\u001b[0;32m   1755\u001b[0m     \u001b[39mand\u001b[39;00m executing_eagerly):\n\u001b[0;32m   1756\u001b[0m   \u001b[39m# No tape is watching; skip to running the function.\u001b[39;00m\n\u001b[1;32m-> 1757\u001b[0m   \u001b[39mreturn\u001b[39;00m \u001b[39mself\u001b[39m\u001b[39m.\u001b[39m_build_call_outputs(\u001b[39mself\u001b[39;49m\u001b[39m.\u001b[39;49m_inference_function\u001b[39m.\u001b[39;49mcall(\n\u001b[0;32m   1758\u001b[0m       ctx, args, cancellation_manager\u001b[39m=\u001b[39;49mcancellation_manager))\n\u001b[0;32m   1759\u001b[0m forward_backward \u001b[39m=\u001b[39m \u001b[39mself\u001b[39m\u001b[39m.\u001b[39m_select_forward_and_backward_functions(\n\u001b[0;32m   1760\u001b[0m     args,\n\u001b[0;32m   1761\u001b[0m     possible_gradient_type,\n\u001b[0;32m   1762\u001b[0m     executing_eagerly)\n\u001b[0;32m   1763\u001b[0m forward_function, args_with_tangents \u001b[39m=\u001b[39m forward_backward\u001b[39m.\u001b[39mforward()\n",
      "File \u001b[1;32mc:\\Users\\Jeffan\\.conda\\envs\\MGNNS\\lib\\site-packages\\tensorflow\\python\\eager\\polymorphic_function\\monomorphic_function.py:381\u001b[0m, in \u001b[0;36m_EagerDefinedFunction.call\u001b[1;34m(self, ctx, args, cancellation_manager)\u001b[0m\n\u001b[0;32m    379\u001b[0m \u001b[39mwith\u001b[39;00m _InterpolateFunctionError(\u001b[39mself\u001b[39m):\n\u001b[0;32m    380\u001b[0m   \u001b[39mif\u001b[39;00m cancellation_manager \u001b[39mis\u001b[39;00m \u001b[39mNone\u001b[39;00m:\n\u001b[1;32m--> 381\u001b[0m     outputs \u001b[39m=\u001b[39m execute\u001b[39m.\u001b[39;49mexecute(\n\u001b[0;32m    382\u001b[0m         \u001b[39mstr\u001b[39;49m(\u001b[39mself\u001b[39;49m\u001b[39m.\u001b[39;49msignature\u001b[39m.\u001b[39;49mname),\n\u001b[0;32m    383\u001b[0m         num_outputs\u001b[39m=\u001b[39;49m\u001b[39mself\u001b[39;49m\u001b[39m.\u001b[39;49m_num_outputs,\n\u001b[0;32m    384\u001b[0m         inputs\u001b[39m=\u001b[39;49margs,\n\u001b[0;32m    385\u001b[0m         attrs\u001b[39m=\u001b[39;49mattrs,\n\u001b[0;32m    386\u001b[0m         ctx\u001b[39m=\u001b[39;49mctx)\n\u001b[0;32m    387\u001b[0m   \u001b[39melse\u001b[39;00m:\n\u001b[0;32m    388\u001b[0m     outputs \u001b[39m=\u001b[39m execute\u001b[39m.\u001b[39mexecute_with_cancellation(\n\u001b[0;32m    389\u001b[0m         \u001b[39mstr\u001b[39m(\u001b[39mself\u001b[39m\u001b[39m.\u001b[39msignature\u001b[39m.\u001b[39mname),\n\u001b[0;32m    390\u001b[0m         num_outputs\u001b[39m=\u001b[39m\u001b[39mself\u001b[39m\u001b[39m.\u001b[39m_num_outputs,\n\u001b[1;32m   (...)\u001b[0m\n\u001b[0;32m    393\u001b[0m         ctx\u001b[39m=\u001b[39mctx,\n\u001b[0;32m    394\u001b[0m         cancellation_manager\u001b[39m=\u001b[39mcancellation_manager)\n",
      "File \u001b[1;32mc:\\Users\\Jeffan\\.conda\\envs\\MGNNS\\lib\\site-packages\\tensorflow\\python\\eager\\execute.py:52\u001b[0m, in \u001b[0;36mquick_execute\u001b[1;34m(op_name, num_outputs, inputs, attrs, ctx, name)\u001b[0m\n\u001b[0;32m     50\u001b[0m \u001b[39mtry\u001b[39;00m:\n\u001b[0;32m     51\u001b[0m   ctx\u001b[39m.\u001b[39mensure_initialized()\n\u001b[1;32m---> 52\u001b[0m   tensors \u001b[39m=\u001b[39m pywrap_tfe\u001b[39m.\u001b[39;49mTFE_Py_Execute(ctx\u001b[39m.\u001b[39;49m_handle, device_name, op_name,\n\u001b[0;32m     53\u001b[0m                                       inputs, attrs, num_outputs)\n\u001b[0;32m     54\u001b[0m \u001b[39mexcept\u001b[39;00m core\u001b[39m.\u001b[39m_NotOkStatusException \u001b[39mas\u001b[39;00m e:\n\u001b[0;32m     55\u001b[0m   \u001b[39mif\u001b[39;00m name \u001b[39mis\u001b[39;00m \u001b[39mnot\u001b[39;00m \u001b[39mNone\u001b[39;00m:\n",
      "\u001b[1;31mKeyboardInterrupt\u001b[0m: "
     ]
    }
   ],
   "source": [
    "from keras.layers import Embedding, BatchNormalization\n",
    "from keras.layers import Bidirectional, LSTM, Input, Dense, Dropout, Concatenate, MultiHeadAttention, GlobalAveragePooling1D\n",
    "from keras.models import Model\n",
    "from keras.optimizers import Adam\n",
    "from keras.callbacks import EarlyStopping, ReduceLROnPlateau\n",
    "\n",
    "def transformer_pipeline(input_layer, num_heads, key_dim, dropout_rate):\n",
    "    transformer_block = MultiHeadAttention(num_heads=num_heads, key_dim=key_dim)\n",
    "    transformed = transformer_block(input_layer, input_layer)\n",
    "    dropout = Dropout(dropout_rate)(transformed)\n",
    "    return dropout\n",
    "\n",
    "def lstm_pipeline(input_layer, units, dropout_rate):\n",
    "    lstm = Bidirectional(LSTM(units, return_sequences=True))(input_layer)\n",
    "    lstm = Dropout(dropout_rate)(lstm)\n",
    "    att_layer = ContentAttention()(lstm)\n",
    "    return att_layer\n",
    "\n",
    "# Create callbacks\n",
    "earlystop_callback = EarlyStopping(monitor='val_loss', patience=3, verbose=1, mode='auto')\n",
    "lr_scheduler = ReduceLROnPlateau(monitor='val_loss', factor=0.1, patience=2)\n",
    "\n",
    "# Define input\n",
    "text_input = Input(shape=(X_train_text.shape[1],), dtype='int32', name='text_input')\n",
    "embedding_layer = Embedding(input_dim=10000, output_dim=100, input_length=X_train_text.shape[1])(text_input)\n",
    "\n",
    "# Create transformer pipelines\n",
    "dropout1 = transformer_pipeline(embedding_layer, num_heads=2, key_dim=2, dropout_rate=0.5)\n",
    "dropout2 = transformer_pipeline(embedding_layer, num_heads=2, key_dim=2, dropout_rate=0.5)\n",
    "# dropout3 = transformer_pipeline(embedding_layer, num_heads=2, key_dim=2, dropout_rate=0.5)\n",
    "\n",
    "# Create LSTM pipelines\n",
    "sent_representation1 = lstm_pipeline(embedding_layer, units=256, dropout_rate=0.25)\n",
    "sent_representation2 = lstm_pipeline(embedding_layer, units=128, dropout_rate=0.25)\n",
    "sent_representation3 = lstm_pipeline(embedding_layer, units=64, dropout_rate=0.25)\n",
    "\n",
    "# Concatenate and pool\n",
    "merged_transformer_layer = Concatenate()([dropout1, dropout2])\n",
    "pooled = GlobalAveragePooling1D()(merged_transformer_layer)\n",
    "merged_lstm_layer = Concatenate()([sent_representation1, sent_representation2, sent_representation3]) \n",
    "\n",
    "merged_layer = Concatenate()([pooled, merged_lstm_layer])\n",
    "merged_layer = BatchNormalization()(merged_layer)\n",
    "merged = Dense(128, activation='tanh', kernel_regularizer=regularizers.l2(0.01))(merged_layer)\n",
    "\n",
    "# Output\n",
    "text_output = Dense(3, activation='softmax', kernel_regularizer=regularizers.l2(0.01))(merged)\n",
    "\n",
    "model = Model(inputs=text_input, outputs=text_output)\n",
    "\n",
    "# Compile the model\n",
    "optimizer = Adam(learning_rate=1e-3)\n",
    "model.compile(loss='categorical_crossentropy', optimizer=optimizer, metrics=['accuracy', F1Score])\n",
    "\n",
    "# Train the model\n",
    "history = model.fit(X_train_text, y_train, validation_data=(X_val_text, y_val),\n",
    "                    epochs=10, batch_size=32, callbacks=[earlystop_callback, lr_scheduler])\n",
    "\n",
    "# Evaluate the model\n",
    "test_loss, test_acc, test_f1 = model.evaluate(X_test_text, y_test)\n",
    "print('Test accuracy:', test_acc)\n",
    "print('Test F1 Score:', test_f1)\n"
   ]
  },
  {
   "cell_type": "code",
   "execution_count": null,
   "id": "516ecc51",
   "metadata": {},
   "outputs": [
    {
     "name": "stdout",
     "output_type": "stream",
     "text": [
      "Epoch 1/10\n",
      "487/487 [==============================] - 304s 614ms/step - loss: 0.8879 - accuracy: 0.7456 - F1Score: 0.7660 - val_loss: 0.7664 - val_accuracy: 0.7704 - val_F1Score: 0.7641 - lr: 0.0010\n",
      "Epoch 2/10\n",
      "487/487 [==============================] - 320s 656ms/step - loss: 0.6433 - accuracy: 0.7658 - F1Score: 0.7639 - val_loss: 1.1389 - val_accuracy: 0.7725 - val_F1Score: 0.7640 - lr: 0.0010\n",
      "Epoch 3/10\n",
      "487/487 [==============================] - 296s 608ms/step - loss: 0.5868 - accuracy: 0.7812 - F1Score: 0.7656 - val_loss: 0.6850 - val_accuracy: 0.7684 - val_F1Score: 0.7661 - lr: 0.0010\n",
      "Epoch 4/10\n",
      "487/487 [==============================] - 285s 586ms/step - loss: 0.5447 - accuracy: 0.7936 - F1Score: 0.7677 - val_loss: 0.9543 - val_accuracy: 0.7704 - val_F1Score: 0.7689 - lr: 0.0010\n",
      "Epoch 5/10\n",
      "487/487 [==============================] - 289s 594ms/step - loss: 0.5064 - accuracy: 0.8068 - F1Score: 0.7707 - val_loss: 0.8231 - val_accuracy: 0.7673 - val_F1Score: 0.7722 - lr: 0.0010\n",
      "Epoch 6/10\n",
      "487/487 [==============================] - 294s 605ms/step - loss: 0.4259 - accuracy: 0.8309 - F1Score: 0.7747 - val_loss: 0.8916 - val_accuracy: 0.7191 - val_F1Score: 0.7767 - lr: 1.0000e-04\n",
      "Epoch 6: early stopping\n",
      "61/61 [==============================] - 16s 269ms/step - loss: 0.9644 - accuracy: 0.6788 - F1Score: 0.7759\n",
      "Test accuracy: 0.6788283586502075\n",
      "Test F1 Score: 0.7759016156196594\n"
     ]
    }
   ],
   "source": [
    "from keras.layers import Embedding, BatchNormalization\n",
    "from keras.layers import Bidirectional, LSTM, Input, Dense, Dropout, Concatenate, MultiHeadAttention, GlobalAveragePooling1D\n",
    "from keras.models import Model\n",
    "from keras.optimizers import Adam\n",
    "from keras.callbacks import EarlyStopping, ReduceLROnPlateau\n",
    "\n",
    "def transformer_pipeline(input_layer, num_heads, key_dim, dropout_rate):\n",
    "    transformer_block = MultiHeadAttention(num_heads=num_heads, key_dim=key_dim)\n",
    "    transformed = transformer_block(input_layer, input_layer)\n",
    "    dropout = Dropout(dropout_rate)(transformed)\n",
    "    return dropout\n",
    "\n",
    "def lstm_pipeline(input_layer, units, dropout_rate):\n",
    "    lstm = Bidirectional(LSTM(units, return_sequences=True))(input_layer)\n",
    "    lstm = Dropout(dropout_rate)(lstm)\n",
    "    att_layer = ContentAttention()(lstm)\n",
    "    return att_layer\n",
    "\n",
    "# Create callbacks\n",
    "earlystop_callback = EarlyStopping(monitor='val_loss', patience=3, verbose=1, mode='auto')\n",
    "lr_scheduler = ReduceLROnPlateau(monitor='val_loss', factor=0.1, patience=2)\n",
    "\n",
    "# Define input\n",
    "text_input = Input(shape=(X_train_text.shape[1],), dtype='int32', name='text_input')\n",
    "embedding_layer = Embedding(input_dim=10000, output_dim=100, input_length=X_train_text.shape[1])(text_input)\n",
    "\n",
    "# Create transformer pipelines\n",
    "dropout1 = transformer_pipeline(embedding_layer, num_heads=2, key_dim=2, dropout_rate=0.5)\n",
    "# dropout2 = transformer_pipeline(embedding_layer, num_heads=2, key_dim=2, dropout_rate=0.5)\n",
    "# dropout3 = transformer_pipeline(embedding_layer, num_heads=2, key_dim=2, dropout_rate=0.5)\n",
    "\n",
    "# Create LSTM pipelines\n",
    "# sent_representation1 = lstm_pipeline(embedding_layer, units=256, dropout_rate=0.25)\n",
    "sent_representation2 = lstm_pipeline(embedding_layer, units=128, dropout_rate=0.25)\n",
    "sent_representation3 = lstm_pipeline(embedding_layer, units=64, dropout_rate=0.25)\n",
    "\n",
    "# Concatenate and pool\n",
    "merged_transformer_layer = Concatenate()([dropout1])\n",
    "pooled = GlobalAveragePooling1D()(merged_transformer_layer)\n",
    "merged_lstm_layer = Concatenate()([sent_representation2, sent_representation3]) \n",
    "\n",
    "merged_layer = Concatenate()([pooled, merged_lstm_layer])\n",
    "merged_layer = BatchNormalization()(merged_layer)\n",
    "merged = Dense(128, activation='tanh', kernel_regularizer=regularizers.l2(0.01))(merged_layer)\n",
    "\n",
    "# Output\n",
    "text_output = Dense(3, activation='softmax', kernel_regularizer=regularizers.l2(0.01))(merged)\n",
    "\n",
    "model = Model(inputs=text_input, outputs=text_output)\n",
    "\n",
    "# Compile the model\n",
    "optimizer = Adam(learning_rate=1e-3)\n",
    "model.compile(loss='categorical_crossentropy', optimizer=optimizer, metrics=['accuracy', F1Score])\n",
    "\n",
    "# Train the model\n",
    "history = model.fit(X_train_text, y_train, validation_data=(X_val_text, y_val),\n",
    "                    epochs=10, batch_size=32, callbacks=[earlystop_callback, lr_scheduler])\n",
    "\n",
    "# Evaluate the model\n",
    "test_loss, test_acc, test_f1 = model.evaluate(X_test_text, y_test)\n",
    "print('Test accuracy:', test_acc)\n",
    "print('Test F1 Score:', test_f1)\n"
   ]
  },
  {
   "attachments": {},
   "cell_type": "markdown",
   "id": "ea953980",
   "metadata": {},
   "source": [
    "# IMAGE "
   ]
  },
  {
   "cell_type": "code",
   "execution_count": 6,
   "id": "18bf06b6",
   "metadata": {},
   "outputs": [
    {
     "name": "stdout",
     "output_type": "stream",
     "text": [
      "Multi-CNN + VGG & Spatial ATT\n"
     ]
    }
   ],
   "source": [
    "#============================================================\n",
    "# Image Classification\n",
    "# Pipeline 1: Multilayer CNN\n",
    "# Pipeline 2: VGG + ATT\n",
    "#============================================================\n",
    "from tensorflow.keras.layers import BatchNormalization\n",
    "\n",
    "from tensorflow.keras.models import Model\n",
    "from tensorflow.keras.applications import VGG16\n",
    "from tensorflow.keras import regularizers\n",
    "\n",
    "imageclassifier = 'Multi-CNN + VGG & Spatial ATT'\n",
    "\n",
    "#-----------------Multilayer CNN---------------------\n",
    "# dropout can be on and off when necessary\n",
    "\n",
    "image_input = Input(shape=(64, 64, 3), name='image_input')\n",
    "conv1 = Conv2D(32, (3, 3), activation='relu', padding='same')(image_input)\n",
    "pool1 = MaxPooling2D(pool_size=(2, 2))(conv1)\n",
    "#pool1 = Dropout(0.25)(pool1)\n",
    "pool1 = BatchNormalization()(pool1)\n",
    "\n",
    "conv2 = Conv2D(64, (3, 3), activation='relu', padding='same')(pool1)\n",
    "pool2 = MaxPooling2D(pool_size=(2, 2))(conv2)\n",
    "#pool2 = Dropout(0.25)(pool2)\n",
    "pool2 = BatchNormalization()(pool2)\n",
    "\n",
    "conv3 = Conv2D(128, (3, 3), activation='relu', padding='same')(pool2)\n",
    "pool3 = MaxPooling2D(pool_size=(2, 2))(conv3)\n",
    "#pool3 = Dropout(0.25)(pool3)\n",
    "pool3 = BatchNormalization()(pool3)\n",
    "\n",
    "conv4 = Conv2D(256, (3, 3), activation='relu', padding='same')(pool3)\n",
    "pool4 = MaxPooling2D(pool_size=(2, 2))(conv4)\n",
    "#pool4 = Dropout(0.25)(pool4)\n",
    "pool4 = BatchNormalization()(pool4)\n",
    "flatten = Flatten()(pool4)\n",
    "\n",
    "#-----------------VGG---------------------\n",
    "# Load pre-trained VGG16 model\n",
    "vgg16_base = VGG16(weights='imagenet', include_top=False, input_shape=(imagesize, imagesize, 3))\n",
    "\n",
    "# Freeze\n",
    "for layer in vgg16_base.layers:\n",
    "    layer.trainable = False\n",
    "\n",
    "vgg16_features = vgg16_base(image_input)\n",
    "\n",
    "# -----------------Add spatial attentions---------------------\n",
    "# 1 filter, sigmoid to set 0 or 1 for weights\n",
    "attention = Conv2D(1, (1, 1), activation='sigmoid')(vgg16_features) \n",
    "attended_features = Multiply()([vgg16_features, attention])\n",
    "\n",
    "# Flatten\n",
    "attended_flatten = Flatten()(attended_features)\n",
    "\n",
    "#------------- Concatenate -----------------------\n",
    "merged_features = Concatenate()([flatten, attended_flatten])\n",
    "\n",
    "# Apply the rest of the model layers\n",
    "merged = Dense(128, activation='relu')(merged_features)\n",
    "merged = Dropout(0.25)(merged)\n",
    "image_output = Dense(3, activation='sigmoid', kernel_regularizer=regularizers.l2(0.01))(merged)\n",
    "\n",
    "print(imageclassifier)"
   ]
  },
  {
   "attachments": {},
   "cell_type": "markdown",
   "id": "f723523a",
   "metadata": {},
   "source": [
    "# EARLY Fusion : Text & Image"
   ]
  },
  {
   "cell_type": "code",
   "execution_count": 7,
   "id": "47e402c0",
   "metadata": {},
   "outputs": [
    {
     "name": "stdout",
     "output_type": "stream",
     "text": [
      "single.txt\n",
      "Epoch 1/10\n",
      "122/122 [==============================] - 92s 690ms/step - loss: 1.1783 - accuracy: 0.5350 - val_loss: 1.1024 - val_accuracy: 0.5462\n",
      "Epoch 2/10\n",
      "122/122 [==============================] - 90s 735ms/step - loss: 1.0613 - accuracy: 0.5492 - val_loss: 1.0471 - val_accuracy: 0.5462\n",
      "Epoch 3/10\n",
      "122/122 [==============================] - 87s 716ms/step - loss: 1.0265 - accuracy: 0.5492 - val_loss: 1.0331 - val_accuracy: 0.5462\n",
      "Epoch 4/10\n",
      "122/122 [==============================] - 88s 718ms/step - loss: 1.0117 - accuracy: 0.5492 - val_loss: 1.0105 - val_accuracy: 0.5462\n",
      "Epoch 5/10\n",
      "122/122 [==============================] - 89s 729ms/step - loss: 1.0020 - accuracy: 0.5492 - val_loss: 1.0212 - val_accuracy: 0.5462\n",
      "Epoch 6/10\n",
      "122/122 [==============================] - 78s 641ms/step - loss: 1.0008 - accuracy: 0.5492 - val_loss: 1.0161 - val_accuracy: 0.5462\n",
      "Epoch 7/10\n",
      "122/122 [==============================] - 79s 648ms/step - loss: 0.9920 - accuracy: 0.5492 - val_loss: 1.0178 - val_accuracy: 0.5462\n",
      "Epoch 8/10\n",
      "122/122 [==============================] - 94s 768ms/step - loss: 0.9898 - accuracy: 0.5492 - val_loss: 1.0013 - val_accuracy: 0.5462\n",
      "Epoch 9/10\n",
      "122/122 [==============================] - 74s 604ms/step - loss: 0.9878 - accuracy: 0.5492 - val_loss: 0.9992 - val_accuracy: 0.5462\n",
      "Epoch 10/10\n",
      "122/122 [==============================] - 92s 756ms/step - loss: 0.9836 - accuracy: 0.5492 - val_loss: 1.0034 - val_accuracy: 0.5462\n",
      "16/16 [==============================] - 7s 433ms/step - loss: 0.9835 - accuracy: 0.5708\n",
      "Test accuracy: 0.570841908454895\n"
     ]
    }
   ],
   "source": [
    "from keras.optimizers import Adam, Adagrad, RMSprop\n",
    "from keras import backend as K\n",
    "from keras import metrics\n",
    "\n",
    "concatenated = Concatenate()([text_output, image_output])\n",
    "concatenated = Dense(64, activation='relu', kernel_regularizer=regularizers.l2(0.01))(concatenated)\n",
    "reshaped = Reshape((1, 1, concatenated.shape[1]))(concatenated)\n",
    "\n",
    "#>> downsampling test\n",
    "pooled = GlobalMaxPooling2D()(reshaped) \n",
    "#pooled = GlobalAveragePooling2D()(reshaped)\n",
    "\n",
    "# Final output layers\n",
    "output = Dense(3, activation='softmax', kernel_regularizer=regularizers.l2(0.01))(pooled)\n",
    "\n",
    "model = Model(inputs=[text_input, image_input], outputs=output)\n",
    "print(file_path)\n",
    "\n",
    "# Compile the model\n",
    "optimizer = Adam(learning_rate=1e-3)\n",
    "model.compile(loss='categorical_crossentropy', optimizer=optimizer, metrics=['accuracy'])\n",
    "\n",
    "# Train the model\n",
    "history = model.fit([X_train_text, X_train_image], y_train, \n",
    "                    validation_data=([X_val_text, X_val_image], y_val),\n",
    "                    epochs=10, \n",
    "                    batch_size=32)\n",
    "\n",
    "# Evaluate the model\n",
    "test_loss, test_acc = model.evaluate([X_test_text, X_test_image], y_test)\n",
    "print('Test accuracy:', test_acc)\n"
   ]
  },
  {
   "attachments": {},
   "cell_type": "markdown",
   "id": "01897034",
   "metadata": {},
   "source": [
    "# Classification Report"
   ]
  },
  {
   "cell_type": "code",
   "execution_count": 16,
   "id": "215b8140",
   "metadata": {},
   "outputs": [
    {
     "name": "stdout",
     "output_type": "stream",
     "text": [
      "16/16 [==============================] - 6s 302ms/step\n",
      "image:Multi-CNN + VGG & Spatial ATT, Text:BiLSTM + Content att\n",
      "Classification Report:\n",
      "               precision    recall  f1-score   support\n",
      "\n",
      "           0     0.0000    0.0000    0.0000        77\n",
      "           1     0.5708    1.0000    0.7268       278\n",
      "           2     0.0000    0.0000    0.0000       132\n",
      "\n",
      "    accuracy                         0.5708       487\n",
      "   macro avg     0.1903    0.3333    0.2423       487\n",
      "weighted avg     0.3259    0.5708    0.4149       487\n",
      "\n"
     ]
    },
    {
     "name": "stderr",
     "output_type": "stream",
     "text": [
      "C:\\Users\\ausco\\anaconda3\\lib\\site-packages\\sklearn\\metrics\\_classification.py:1248: UndefinedMetricWarning: Precision and F-score are ill-defined and being set to 0.0 in labels with no predicted samples. Use `zero_division` parameter to control this behavior.\n",
      "  _warn_prf(average, modifier, msg_start, len(result))\n",
      "C:\\Users\\ausco\\anaconda3\\lib\\site-packages\\sklearn\\metrics\\_classification.py:1248: UndefinedMetricWarning: Precision and F-score are ill-defined and being set to 0.0 in labels with no predicted samples. Use `zero_division` parameter to control this behavior.\n",
      "  _warn_prf(average, modifier, msg_start, len(result))\n",
      "C:\\Users\\ausco\\anaconda3\\lib\\site-packages\\sklearn\\metrics\\_classification.py:1248: UndefinedMetricWarning: Precision and F-score are ill-defined and being set to 0.0 in labels with no predicted samples. Use `zero_division` parameter to control this behavior.\n",
      "  _warn_prf(average, modifier, msg_start, len(result))\n"
     ]
    }
   ],
   "source": [
    "from sklearn.metrics import classification_report\n",
    "import numpy as np\n",
    "\n",
    "# Make predictions on test data\n",
    "y_pred = model.predict([X_test_text, X_test_image])\n",
    "\n",
    "# Convert predictions and true labels to class indices\n",
    "y_pred_classes = np.argmax(y_pred, axis=1)\n",
    "y_true_classes = np.argmax(y_test, axis=1)\n",
    "\n",
    "# Generate classification report\n",
    "report = classification_report(y_true_classes, y_pred_classes, digits = 4)\n",
    "print(f\"image:{imageclassifier}, Text:{textclassifier}\")\n",
    "# Print the report\n",
    "print('Classification Report:\\n', report)\n"
   ]
  },
  {
   "attachments": {},
   "cell_type": "markdown",
   "id": "17ea55bc",
   "metadata": {},
   "source": [
    "# LATE FUSION: Text & Image"
   ]
  },
  {
   "cell_type": "code",
   "execution_count": 12,
   "id": "078ad846",
   "metadata": {},
   "outputs": [
    {
     "name": "stdout",
     "output_type": "stream",
     "text": [
      "16/16 [==============================] - 5s 311ms/step\n",
      "16/16 [==============================] - 5s 310ms/step\n",
      "16/16 [==============================] - 2s 39ms/step\n",
      "16/16 [==============================] - 1s 39ms/step\n"
     ]
    }
   ],
   "source": [
    "#----------------image----------------\n",
    "image_feature_extractor = Model(inputs=image_input, outputs=image_output)\n",
    "val_image_features = image_feature_extractor.predict(X_val_image)\n",
    "test_image_features = image_feature_extractor.predict(X_test_image)\n",
    "\n",
    "#--------------text----------------\n",
    "text_feature_extractor = Model(inputs=text_input, outputs=text_output)\n",
    "val_text_features = text_feature_extractor.predict(X_val_text)\n",
    "test_text_features = text_feature_extractor.predict(X_test_text)\n",
    "\n",
    "#---------------combine----------------\n",
    "val_features = np.concatenate([val_image_features, val_text_features], axis=1)\n",
    "test_features = np.concatenate([test_image_features, test_text_features], axis=1)\n",
    "\n",
    "y_val_labels = y_val_polar\n",
    "y_test_labels = y_test_polar"
   ]
  },
  {
   "attachments": {},
   "cell_type": "markdown",
   "id": "0a6f89e1",
   "metadata": {},
   "source": [
    "## XGB"
   ]
  },
  {
   "cell_type": "code",
   "execution_count": 13,
   "id": "a4f1c822",
   "metadata": {},
   "outputs": [
    {
     "name": "stdout",
     "output_type": "stream",
     "text": [
      "Late Fusion Test Accuracy: 52.36%\n",
      "              precision    recall  f1-score   support\n",
      "\n",
      "           0     0.3118    0.2197    0.2578       132\n",
      "           1     0.2083    0.1299    0.1600        77\n",
      "           2     0.6243    0.7770    0.6923       278\n",
      "\n",
      "    accuracy                         0.5236       487\n",
      "   macro avg     0.3815    0.3755    0.3700       487\n",
      "weighted avg     0.4738    0.5236    0.4904       487\n",
      "\n"
     ]
    }
   ],
   "source": [
    "import xgboost as xgb\n",
    "from sklearn.preprocessing import LabelEncoder\n",
    "\n",
    "# Encode the target variable XGB uses 0,1,2\n",
    "label_encoder = LabelEncoder()\n",
    "y_val_labels_encoded = label_encoder.fit_transform(y_val_labels)\n",
    "y_test_labels_encoded = label_encoder.transform(y_test_labels)\n",
    "\n",
    "# ***** please modify n_estimators, max_depth to get different results *****\n",
    "xgb_model = xgb.XGBClassifier(n_estimators=80, max_depth=6) #reg_lambda reg_alpha\n",
    "\n",
    "xgb_model.fit(val_features, y_val_labels_encoded)\n",
    "\n",
    "# Evaluate\n",
    "xgb_score = xgb_model.score(test_features, y_test_labels_encoded)\n",
    "print(\"Late Fusion Test Accuracy: {:.2f}%\".format(xgb_score * 100))\n",
    "\n",
    "y_pred = xgb_model.predict(test_features)\n",
    "\n",
    "print(classification_report(y_test_labels_encoded, y_pred, digits=4))"
   ]
  },
  {
   "attachments": {},
   "cell_type": "markdown",
   "id": "86421f90",
   "metadata": {},
   "source": [
    "## Random Forest"
   ]
  },
  {
   "cell_type": "code",
   "execution_count": 14,
   "id": "0dbac44d",
   "metadata": {},
   "outputs": [
    {
     "name": "stdout",
     "output_type": "stream",
     "text": [
      "Late Fusion Test Accuracy: 52.77%\n",
      "              precision    recall  f1-score   support\n",
      "\n",
      "          -1     0.3176    0.2045    0.2488       132\n",
      "           0     0.1364    0.0390    0.0606        77\n",
      "           1     0.5974    0.8165    0.6900       278\n",
      "\n",
      "    accuracy                         0.5277       487\n",
      "   macro avg     0.3505    0.3534    0.3331       487\n",
      "weighted avg     0.4487    0.5277    0.4709       487\n",
      "\n"
     ]
    }
   ],
   "source": [
    "#--------------logistic Regression\n",
    "from sklearn.ensemble import RandomForestClassifier,GradientBoostingClassifier\n",
    "# ***** please modify n_estimators, max_depth to get different results *****\n",
    "rf = RandomForestClassifier(n_estimators=140, max_depth=11)\n",
    "\n",
    "rf.fit(val_features, y_val_labels)\n",
    "rf_score = rf.score(test_features, y_test_labels)\n",
    "print(\"Late Fusion Test Accuracy: {:.2f}%\".format(rf_score * 100))\n",
    "#from sklearn.metrics import classification_report\n",
    "\n",
    "# Predict labels for test data\n",
    "y_pred = rf.predict(test_features)\n",
    "\n",
    "# Print classification report\n",
    "print(classification_report(y_test_labels, y_pred, digits=4))"
   ]
  },
  {
   "attachments": {},
   "cell_type": "markdown",
   "id": "219d600e",
   "metadata": {},
   "source": [
    "# MLP"
   ]
  },
  {
   "cell_type": "code",
   "execution_count": 15,
   "id": "2a9e43dd",
   "metadata": {},
   "outputs": [
    {
     "name": "stdout",
     "output_type": "stream",
     "text": [
      "Late Fusion Test Accuracy: 54.41%\n",
      "              precision    recall  f1-score   support\n",
      "\n",
      "          -1     0.3200    0.1212    0.1758       132\n",
      "           0     0.1176    0.0260    0.0426        77\n",
      "           1     0.5881    0.8885    0.7077       278\n",
      "\n",
      "    accuracy                         0.5441       487\n",
      "   macro avg     0.3419    0.3452    0.3087       487\n",
      "weighted avg     0.4410    0.5441    0.4584       487\n",
      "\n"
     ]
    },
    {
     "name": "stderr",
     "output_type": "stream",
     "text": [
      "C:\\Users\\ausco\\anaconda3\\lib\\site-packages\\sklearn\\neural_network\\_multilayer_perceptron.py:500: ConvergenceWarning: lbfgs failed to converge (status=1):\n",
      "STOP: TOTAL NO. of ITERATIONS REACHED LIMIT.\n",
      "\n",
      "Increase the number of iterations (max_iter) or scale the data as shown in:\n",
      "    https://scikit-learn.org/stable/modules/preprocessing.html\n",
      "  self.n_iter_ = _check_optimize_result(\"lbfgs\", opt_res, self.max_iter)\n"
     ]
    }
   ],
   "source": [
    "from sklearn.neural_network import MLPClassifier\n",
    "from sklearn.metrics import classification_report\n",
    "\n",
    "# Create an MLP classifier\n",
    "mlp = MLPClassifier(hidden_layer_sizes=(256, 128), \n",
    "                    activation='relu', solver='lbfgs', learning_rate = 'invscaling')\n",
    "\n",
    "# Fit the classifier to the training data\n",
    "mlp.fit(val_features, y_val_labels)\n",
    "\n",
    "# Evaluate the classifier on the test data\n",
    "mlp_score = mlp.score(test_features, y_test_labels)\n",
    "print(\"Late Fusion Test Accuracy: {:.2f}%\".format(mlp_score * 100))\n",
    "\n",
    "# Predict labels for the test data\n",
    "y_pred = mlp.predict(test_features)\n",
    "\n",
    "# Print classification report\n",
    "print(classification_report(y_test_labels, y_pred, digits=4))\n"
   ]
  },
  {
   "cell_type": "code",
   "execution_count": 11,
   "id": "4107a134",
   "metadata": {},
   "outputs": [
    {
     "data": {
      "image/png": "[encoded data removed]",
      "text/plain": [
       "<Figure size 720x288 with 2 Axes>"
      ]
     },
     "metadata": {
      "needs_background": "light"
     },
     "output_type": "display_data"
    }
   ],
   "source": [
    "# graph for Early Fusion\n",
    "plot16.plot_hist(history, 'Multimodal Fusion')"
   ]
  },
  {
   "cell_type": "code",
   "execution_count": 47,
   "id": "2da80085",
   "metadata": {},
   "outputs": [],
   "source": [
    "def print_classification_report(model, X_test, y_test):\n",
    "    # Generate the predicted labels\n",
    "    y_pred = model.predict(X_test)\n",
    "\n",
    "    # Convert the predicted probabilities to class labels\n",
    "    y_pred_labels = np.argmax(y_pred, axis=1)\n",
    "    y_true_labels = np.argmax(y_test, axis=1)\n",
    " \n",
    "\n",
    "    # Generate the classification report\n",
    "    report = classification_report(y_true_labels, y_pred_labels, digits=4)\n",
    "    print(report)\n"
   ]
  }
 ],
 "metadata": {
  "kernelspec": {
   "display_name": "Python 3 (ipykernel)",
   "language": "python",
   "name": "python3"
  },
  "language_info": {
   "codemirror_mode": {
    "name": "ipython",
    "version": 3
   },
   "file_extension": ".py",
   "mimetype": "text/x-python",
   "name": "python",
   "nbconvert_exporter": "python",
   "pygments_lexer": "ipython3",
   "version": "3.10.11"
  }
 },
 "nbformat": 4,
 "nbformat_minor": 5
}
