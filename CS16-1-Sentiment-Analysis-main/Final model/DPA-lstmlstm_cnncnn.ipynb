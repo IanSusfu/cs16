{
 "cells": [
  {
   "cell_type": "markdown",
   "id": "46179212",
   "metadata": {},
   "source": [
    "# DPA (Dual Pipeline Attentional Multimodal Fusion)"
   ]
  },
  {
   "cell_type": "code",
   "execution_count": 1,
   "id": "2a28f2a7",
   "metadata": {},
   "outputs": [
    {
     "name": "stdout",
     "output_type": "stream",
     "text": [
      "Enter '1. single' for single dataset or '2. multi' for multiple dataset: 2\n"
     ]
    }
   ],
   "source": [
    "import cv2\n",
    "import matplotlib.pyplot as plt\n",
    "import numpy as np\n",
    "import os\n",
    "import pandas as pd\n",
    "import re\n",
    "from keras.callbacks import EarlyStopping\n",
    "from keras.layers import (Activation, Attention, Bidirectional, Concatenate, Conv1D,\n",
    "                           Dense, Dropout, Embedding, Flatten, GlobalMaxPooling1D,\n",
    "                           Input, Layer, LSTM, MaxPooling1D, Multiply, Permute,\n",
    "                           RepeatVector, Reshape, SpatialDropout1D, TimeDistributed)\n",
    "from keras.models import Model\n",
    "from keras import backend as K\n",
    "from keras.preprocessing.text import Tokenizer\n",
    "from keras.utils import to_categorical\n",
    "from sklearn.metrics import accuracy_score, classification_report, confusion_matrix\n",
    "from sklearn.model_selection import train_test_split\n",
    "from tensorflow.keras.preprocessing.sequence import pad_sequences\n",
    "from nltk.corpus import stopwords\n",
    "\n",
    "#import our own library cs16\n",
    "import sys\n",
    "sys.path.append('./cs16')\n",
    "import cs16.prep as prep16\n",
    "import cs16.plot as plot16\n",
    "import cs16.build as build16\n",
    "imagesize = 64\n",
    "\n",
    "#----------------------------------------------------\n",
    "# select a dataset\n",
    "#----------------------------------------------------\n",
    "data_type = input(\"Enter '1. single' for single dataset or '2. multi' for multiple dataset: \")\n",
    "\n",
    "if data_type == '1':\n",
    "    file_path = 'single.txt'\n",
    "    folder_path = './data/MVSA/single/'\n",
    "elif data_type == '2':\n",
    "    file_path = 'multi.txt'\n",
    "    folder_path = './data/MVSA/multiple/'\n",
    "else:\n",
    "    print(\"Invalid input. Please enter either 'single' or 'multi'.\")\n",
    "    exit()\n",
    "\n",
    "df = pd.read_csv(file_path, index_col=None, encoding='ISO-8859-1')\n"
   ]
  },
  {
   "cell_type": "code",
   "execution_count": 2,
   "id": "7e96f3f4",
   "metadata": {},
   "outputs": [
    {
     "name": "stderr",
     "output_type": "stream",
     "text": [
      "[nltk_data] Downloading package stopwords to\n",
      "[nltk_data]     C:\\Users\\ausco\\AppData\\Roaming\\nltk_data...\n",
      "[nltk_data]   Package stopwords is already up-to-date!\n",
      "[nltk_data] Downloading package punkt to\n",
      "[nltk_data]     C:\\Users\\ausco\\AppData\\Roaming\\nltk_data...\n",
      "[nltk_data]   Package punkt is already up-to-date!\n"
     ]
    }
   ],
   "source": [
    "import re\n",
    "import nltk\n",
    "from nltk.corpus import stopwords\n",
    "from nltk.stem import PorterStemmer\n",
    "from nltk.tokenize import word_tokenize\n",
    "import pandas as pd\n",
    "import matplotlib.pyplot as plt\n",
    "# Download stopwords and punkt tokenizer if not already downloaded\n",
    "nltk.download('stopwords')\n",
    "nltk.download('punkt')\n",
    "#----------------------------------------------------\n",
    "# NLP preprocess\n",
    "#----------------------------------------------------\n",
    "# Define a function to preprocess text\n",
    "def nlp_text(text):\n",
    "    # Convert text to lowercase\n",
    "    text = text.lower()\n",
    "    \n",
    "    # Remove URLs \n",
    "    text = re.sub(r'http\\S+', '', text)\n",
    "    # Remove punctuation\n",
    "    text = re.sub(r'[^\\w\\s]', '', text)\n",
    "    \n",
    "    # Tokenize text into individual words\n",
    "    words = word_tokenize(text)\n",
    "    \n",
    "    # Remove stopwords\n",
    "    stop_words = set(stopwords.words('english'))\n",
    "    words = [word for word in words if word not in stop_words]\n",
    "    \n",
    "    # Stem words using Porter Stemmer\n",
    "    stemmer = PorterStemmer()\n",
    "    words = [stemmer.stem(word) for word in words]\n",
    "    \n",
    "    # Join words back into a single string\n",
    "    text = ' '.join(words)\n",
    "    \n",
    "    return text\n",
    "\n",
    "# call function\n",
    "df['tweet'] = df['tweet'].apply(nlp_text)"
   ]
  },
  {
   "cell_type": "code",
   "execution_count": 3,
   "id": "3e5e4873",
   "metadata": {},
   "outputs": [
    {
     "name": "stdout",
     "output_type": "stream",
     "text": [
      "multi.txt\n"
     ]
    }
   ],
   "source": [
    "#----------------------------------------------------\n",
    "# Data preprocess and split\n",
    "#----------------------------------------------------\n",
    "\n",
    "#----------text---------\n",
    "X_text, y_text = prep16.preprocess_text(df)\n",
    "X_train_text, X_val_text, X_test_text, \\\n",
    "y_train_text, y_val_text, y_test_text = prep16.split_data(X_text, y_text, random_state=42)\n",
    "\n",
    "#----------polarity---------\n",
    "X_polar, y_polar = prep16.preprocess_text(df,label = 'polarity')\n",
    "X_train_polar, X_val_polar, X_test_polar, \\\n",
    "y_train_polar, y_val_polar, y_test_polar = prep16.split_data(X_polar, y_polar, random_state=42)\n",
    "\n",
    "#----------image---------\n",
    "image_data_s, image_label_s = prep16.preprocess_images(df, folder_path, imagesize)\n",
    "y_s = to_categorical(image_label_s, num_classes=3)\n",
    "\n",
    "X_train_image, X_val_image, X_test_image, \\\n",
    "y_train_image, y_val_image, y_test_image= prep16.split_data(image_data_s, y_s, random_state=42)\n",
    "\n",
    "#----------one-hot---------\n",
    "y_train = to_categorical(y_train_polar, num_classes=3)\n",
    "y_val =to_categorical(y_val_polar, num_classes=3)\n",
    "y_test =to_categorical(y_test_polar, num_classes=3)\n",
    "print(file_path)"
   ]
  },
  {
   "cell_type": "code",
   "execution_count": 746,
   "id": "26029a65",
   "metadata": {},
   "outputs": [
    {
     "data": {
      "image/png": "[encoded data removed]",
      "text/plain": [
       "<Figure size 432x288 with 1 Axes>"
      ]
     },
     "metadata": {},
     "output_type": "display_data"
    }
   ],
   "source": [
    "import pandas as pd\n",
    "import matplotlib.pyplot as plt\n",
    "# distribution of polarity\n",
    "polarity_counts =df['polarity'].value_counts(normalize=True)\n",
    "\n",
    "# assign colors for each category\n",
    "colors = ['#3cba54', '#f44336', '#ffe119']\n",
    "\n",
    "# Create a pie chart of the polarity distribution\n",
    "plt.pie(polarity_counts.values, labels=polarity_counts.index, colors=colors, autopct='%1.1f%%', startangle=90)\n",
    "plt.axis('equal')\n",
    "plt.title('Polarity Distribution')\n",
    "plt.legend(title='Polarity', loc='best')\n",
    "plt.show()"
   ]
  },
  {
   "cell_type": "markdown",
   "id": "282c5e52",
   "metadata": {},
   "source": [
    "# TEXT"
   ]
  },
  {
   "cell_type": "code",
   "execution_count": 4,
   "id": "7e879c1d",
   "metadata": {},
   "outputs": [],
   "source": [
    "class ContentAttention(Layer):\n",
    "    def __init__(self, **kwargs):\n",
    "        super(ContentAttention, self).__init__(**kwargs)\n",
    "\n",
    "    def build(self, input_shape):\n",
    "        self.W = self.add_weight(name=\"att_weight\", shape=(input_shape[-1], 1), initializer=\"normal\")\n",
    "        self.b = self.add_weight(name=\"att_bias\", shape=(input_shape[1], 1), initializer=\"zeros\")\n",
    "        super(ContentAttention, self).build(input_shape)\n",
    "\n",
    "    def call(self, x):\n",
    "        e = K.tanh(K.dot(x, self.W) + self.b)\n",
    "        a = K.softmax(e, axis=1)\n",
    "        output = x * a\n",
    "        return K.sum(output, axis=1)   \n"
   ]
  },
  {
   "cell_type": "markdown",
   "id": "bf141137",
   "metadata": {},
   "source": [
    "# Bi-LSTM "
   ]
  },
  {
   "cell_type": "code",
   "execution_count": 5,
   "id": "c227949f",
   "metadata": {},
   "outputs": [
    {
     "name": "stdout",
     "output_type": "stream",
     "text": [
      "BiLSTM + BiLSTM\n"
     ]
    }
   ],
   "source": [
    "#import AveragePooling2D\n",
    "from keras.layers import (AveragePooling1D)\n",
    "from tensorflow.keras import regularizers\n",
    "\n",
    "text_af = 'tanh'\n",
    "text_input = Input(shape=(100,), name='text_input')\n",
    "\n",
    "#----------LSTM1----------------\n",
    "lstm1 = Embedding(input_dim=10000, output_dim=100)(text_input)\n",
    "lstm1 = Dropout(0.5)(lstm1)  # Add a dropout layer\n",
    "lstm1 = Bidirectional(LSTM(64, return_sequences=True))(lstm1)\n",
    "#lstm1 = Dense(64, activation=text_af, kernel_regularizer=regularizers.l2(0.01))(lstm1)\n",
    "lstm1 = ContentAttention()(lstm1)\n",
    "lstm1 = Dropout(0.5)(lstm1)  # Add a dropout layer\n",
    "\n",
    "#---------LSTM2-----------------\n",
    "lstm2 = Embedding(input_dim=10000, output_dim=100)(text_input)\n",
    "lstm2 = Dropout(0.5)(lstm2)  # Add a dropout layer\n",
    "lstm2 = Bidirectional(LSTM(128, return_sequences=True))(lstm2)\n",
    "#lstm2 = Dense(64, activation=text_af, kernel_regularizer=regularizers.l2(0.01))(lstm2)\n",
    "lstm2 = ContentAttention()(lstm2)\n",
    "lstm2 = Dropout(0.5)(lstm2)  # Add a dropout layer\n",
    "\n",
    "#----------local fusion---------------\n",
    "merged_layer = Concatenate()([lstm1, lstm2]) \n",
    "merged = Dense(3, activation='tanh')(merged_layer)\n",
    "text_output = merged\n",
    "textclassifier ='BiLSTM + BiLSTM'\n",
    "print(textclassifier)"
   ]
  },
  {
   "cell_type": "markdown",
   "id": "700dcf89",
   "metadata": {},
   "source": [
    "# Image"
   ]
  },
  {
   "cell_type": "markdown",
   "id": "f9a1a99d",
   "metadata": {},
   "source": [
    "# CNN+CNN"
   ]
  },
  {
   "cell_type": "code",
   "execution_count": 6,
   "id": "b04f8800",
   "metadata": {},
   "outputs": [
    {
     "name": "stdout",
     "output_type": "stream",
     "text": [
      "CNN+ CNN + Attention\n"
     ]
    }
   ],
   "source": [
    "from tensorflow.keras.layers import Conv2D, MaxPooling2D, Flatten, Concatenate, Dense, Dropout, Input\n",
    "from tensorflow.keras.models import Model\n",
    "from tensorflow.keras.applications import VGG16\n",
    "from tensorflow.keras import regularizers\n",
    "from tensorflow.keras.layers import BatchNormalization\n",
    "\n",
    "imageclassifier = 'CNN+ CNN + Attention'\n",
    "\n",
    "# ------------ pipeline1:CNN --------------------------\n",
    "image_input = Input(shape=(imagesize, imagesize, 3), name='image_input')\n",
    "conv1 = Conv2D(32, (3, 3), activation='relu', padding='same')(image_input)\n",
    "pool1 = MaxPooling2D(pool_size=(2, 2))(conv1)\n",
    "pool1 = Dropout(0.3)(pool1)\n",
    "pool1 = BatchNormalization()(pool1)\n",
    "\n",
    "conv2 = Conv2D(64, (3, 3), activation='relu', padding='same')(pool1)\n",
    "pool2 = MaxPooling2D(pool_size=(2, 2))(conv2)\n",
    "pool2 = Dropout(0.3)(pool2)\n",
    "pool2 = BatchNormalization()(pool2)\n",
    "\n",
    "conv3 = Conv2D(128, (3, 3), activation='relu', padding='same')(pool2)\n",
    "pool3 = MaxPooling2D(pool_size=(2, 2))(conv3)\n",
    "pool3 = Dropout(0.3)(pool3)\n",
    "pool3 = BatchNormalization()(pool3)\n",
    "\n",
    "#conv4 = Conv2D(256, (3, 3), activation='relu', padding='same')(pool3)\n",
    "#pool4 = MaxPooling2D(pool_size=(2, 2))(conv4)\n",
    "#pool4 = Dropout(0.25)(pool4)\n",
    "#pool4 = BatchNormalization()(pool4)\n",
    "\n",
    "# Add spatial attention to CNN features\n",
    "cnn1_attention = Conv2D(1, (1, 1), activation='sigmoid')(pool3)\n",
    "attended_a = Multiply()([pool3, cnn1_attention])\n",
    "cnn1_flatten = Flatten()(attended_a)\n",
    "\n",
    "\n",
    "# ------------ pipeline2:CNN--------------------------\n",
    "#image_input = Input(shape=(imagesize, imagesize, 3), name='image_input')\n",
    "conv1b = Conv2D(64, (3, 3), activation='relu', padding='same')(image_input)\n",
    "pool1b = MaxPooling2D(pool_size=(2, 2))(conv1b)\n",
    "pool1b = Dropout(0.5)(pool1b)\n",
    "pool1b = BatchNormalization()(pool1b)\n",
    "\n",
    "conv2b = Conv2D(128, (3, 3), activation='relu', padding='same')(pool1b)\n",
    "pool2b = MaxPooling2D(pool_size=(2, 2))(conv2b)\n",
    "pool2b = Dropout(0.5)(pool2b)\n",
    "pool2b = BatchNormalization()(pool2b)\n",
    "\n",
    "conv3b = Conv2D(64, (3, 3), activation='relu', padding='same')(pool2b)\n",
    "pool3b = MaxPooling2D(pool_size=(2, 2))(conv3b)\n",
    "pool3b = Dropout(0.5)(pool3b)\n",
    "pool3b = BatchNormalization()(pool3b)\n",
    "\n",
    "#conv4b = Conv2D(256, (3, 3), activation='relu', padding='same')(pool3b)\n",
    "#pool4b = MaxPooling2D(pool_size=(2, 2))(conv4b)\n",
    "#pool4b = Dropout(0.25)(pool4b)\n",
    "#pool4b = BatchNormalization()(pool4b)\n",
    "\n",
    "# Add spatial attention to CNN features\n",
    "cnn2_attention = Conv2D(1, (1, 1), activation='sigmoid')(pool3b)\n",
    "attended_b = Multiply()([pool3b, cnn2_attention])\n",
    "cnn2_flatten = Flatten()(attended_b)\n",
    "\n",
    "\n",
    "#----------local fusion---------------\n",
    "merged = Concatenate()([cnn1_flatten, cnn2_flatten])\n",
    "\n",
    "# Apply the rest of the model layers\n",
    "merged = Dense(128, activation='relu')(merged)\n",
    "merged = Dropout(0.3)(merged)\n",
    "image_output = Dense(3, activation='relu', kernel_regularizer=regularizers.l2(0.01))(merged)\n",
    "\n",
    "print(imageclassifier)"
   ]
  },
  {
   "cell_type": "markdown",
   "id": "f723523a",
   "metadata": {},
   "source": [
    "# Fusion"
   ]
  },
  {
   "cell_type": "code",
   "execution_count": 7,
   "id": "47e402c0",
   "metadata": {},
   "outputs": [
    {
     "name": "stdout",
     "output_type": "stream",
     "text": [
      "multi.txt\n",
      "Text:BiLSTM + BiLSTM,Image:CNN+ CNN + Attention\n",
      "Epoch 1/10\n",
      "244/244 [==============================] - 352s 1s/step - loss: 0.8595 - accuracy: 0.7454 - val_loss: 0.7687 - val_accuracy: 0.7704\n",
      "Epoch 2/10\n",
      "244/244 [==============================] - 380s 2s/step - loss: 0.7709 - accuracy: 0.7418 - val_loss: 0.7078 - val_accuracy: 0.7704\n",
      "Epoch 3/10\n",
      "244/244 [==============================] - 395s 2s/step - loss: 0.6997 - accuracy: 0.7542 - val_loss: 0.6944 - val_accuracy: 0.7663\n",
      "Epoch 4/10\n",
      "244/244 [==============================] - 394s 2s/step - loss: 0.6554 - accuracy: 0.7600 - val_loss: 0.6993 - val_accuracy: 0.7422\n",
      "Epoch 5/10\n",
      "244/244 [==============================] - 360s 1s/step - loss: 0.6388 - accuracy: 0.7552 - val_loss: 0.6994 - val_accuracy: 0.7180\n",
      "Epoch 6/10\n",
      "244/244 [==============================] - 372s 2s/step - loss: 0.6240 - accuracy: 0.7457 - val_loss: 0.7025 - val_accuracy: 0.7704\n",
      "Epoch 7/10\n",
      "244/244 [==============================] - 358s 1s/step - loss: 0.6012 - accuracy: 0.7553 - val_loss: 0.7056 - val_accuracy: 0.7227\n",
      "Epoch 8/10\n",
      "244/244 [==============================] - 373s 2s/step - loss: 0.5812 - accuracy: 0.7582 - val_loss: 0.7228 - val_accuracy: 0.6985\n",
      "Epoch 9/10\n",
      "244/244 [==============================] - 390s 2s/step - loss: 0.5789 - accuracy: 0.7501 - val_loss: 0.7222 - val_accuracy: 0.7530\n",
      "Epoch 10/10\n",
      "244/244 [==============================] - 387s 2s/step - loss: 0.5582 - accuracy: 0.7604 - val_loss: 0.6997 - val_accuracy: 0.7519\n",
      "61/61 [==============================] - 9s 150ms/step - loss: 0.7316 - accuracy: 0.7415\n",
      "Test accuracy: 0.7415210604667664\n"
     ]
    }
   ],
   "source": [
    "from keras.optimizers import Adam, Adagrad, RMSprop\n",
    "from keras import backend as K\n",
    "from keras import metrics\n",
    "\n",
    "#----------Global fusion---------------\n",
    "concatenated = Concatenate()([text_output, image_output])\n",
    "# Final output layers\n",
    "output = Dense(3, activation='softmax', kernel_regularizer=regularizers.l2(0.01))(concatenated)\n",
    "model = Model(inputs=[text_input, image_input], outputs=output)\n",
    "print(file_path)\n",
    "print(f\"Text:{textclassifier},Image:{imageclassifier}\")\n",
    "# Compile the model\n",
    "optimizer = Adam(learning_rate=1e-3)\n",
    "model.compile(loss='categorical_crossentropy', optimizer=optimizer, metrics=['accuracy'])\n",
    "\n",
    "# Train the model\n",
    "history = model.fit([X_train_text, X_train_image], y_train, \n",
    "                    validation_data=([X_val_text, X_val_image], y_val),\n",
    "                    epochs=10, \n",
    "                    batch_size=64)\n",
    "# Evaluate the model\n",
    "test_loss, test_acc = model.evaluate([X_test_text, X_test_image], y_test)\n",
    "print('Test accuracy:', test_acc)\n"
   ]
  },
  {
   "cell_type": "markdown",
   "id": "01897034",
   "metadata": {},
   "source": [
    "# Metrics"
   ]
  },
  {
   "cell_type": "code",
   "execution_count": 8,
   "id": "215b8140",
   "metadata": {},
   "outputs": [
    {
     "name": "stdout",
     "output_type": "stream",
     "text": [
      "61/61 [==============================] - 9s 114ms/step\n",
      "image:CNN+ CNN + Attention, Text:BiLSTM + BiLSTM\n",
      "Classification Report:\n",
      "               precision    recall  f1-score   support\n",
      "\n",
      "           0     0.3333    0.0079    0.0154       254\n",
      "           1     0.7832    0.9493    0.8583      1461\n",
      "           2     0.3195    0.2338    0.2700       231\n",
      "\n",
      "    accuracy                         0.7415      1946\n",
      "   macro avg     0.4787    0.3970    0.3812      1946\n",
      "weighted avg     0.6694    0.7415    0.6784      1946\n",
      "\n"
     ]
    }
   ],
   "source": [
    "from sklearn.metrics import classification_report\n",
    "import numpy as np\n",
    "\n",
    "# Make predictions on test data\n",
    "y_pred = model.predict([X_test_text, X_test_image])\n",
    "\n",
    "# Convert predictions and true labels to class indices\n",
    "y_pred_classes = np.argmax(y_pred, axis=1)\n",
    "y_true_classes = np.argmax(y_test, axis=1)\n",
    "\n",
    "# Generate classification report\n",
    "report = classification_report(y_true_classes, y_pred_classes, digits = 4)\n",
    "print(f\"image:{imageclassifier}, Text:{textclassifier}\")\n",
    "# Print the report\n",
    "print('Classification Report:\\n', report)\n"
   ]
  },
  {
   "cell_type": "markdown",
   "id": "17ea55bc",
   "metadata": {},
   "source": [
    "# LATE FUSION"
   ]
  },
  {
   "cell_type": "code",
   "execution_count": 9,
   "id": "078ad846",
   "metadata": {},
   "outputs": [
    {
     "name": "stdout",
     "output_type": "stream",
     "text": [
      "61/61 [==============================] - 5s 76ms/step\n",
      "61/61 [==============================] - 5s 77ms/step\n",
      "61/61 [==============================] - 4s 51ms/step\n",
      "61/61 [==============================] - 3s 52ms/step\n"
     ]
    }
   ],
   "source": [
    "#----------------image----------------\n",
    "image_feature_extractor = Model(inputs=image_input, outputs=image_output)\n",
    "\n",
    "val_image_features = image_feature_extractor.predict(X_val_image)\n",
    "test_image_features = image_feature_extractor.predict(X_test_image)\n",
    "\n",
    "#--------------text----------------\n",
    "text_feature_extractor = Model(inputs=text_input, outputs=text_output)\n",
    "\n",
    "val_text_features = text_feature_extractor.predict(X_val_text)\n",
    "test_text_features = text_feature_extractor.predict(X_test_text)\n",
    "\n",
    "#---------------combine----------------\n",
    "val_features = np.concatenate([val_image_features, val_text_features], axis=1)\n",
    "test_features = np.concatenate([test_image_features, test_text_features], axis=1)\n",
    "\n",
    "# one-hot encoded vectors if needed\n",
    "y_val_labels = y_val_polar #np.argmax(y_val_image, axis=1)\n",
    "y_test_labels = y_test_polar#np.argmax(y_test_image, axis=1)\n"
   ]
  },
  {
   "cell_type": "markdown",
   "id": "0a6f89e1",
   "metadata": {},
   "source": [
    "## XGB"
   ]
  },
  {
   "cell_type": "code",
   "execution_count": 14,
   "id": "a4f1c822",
   "metadata": {},
   "outputs": [
    {
     "name": "stdout",
     "output_type": "stream",
     "text": [
      "Late Fusion Test Accuracy: 75.13%\n",
      "image:CNN+ CNN + Attention, Text:BiLSTM + BiLSTM\n",
      "              precision    recall  f1-score   support\n",
      "\n",
      "           0     0.4750    0.1645    0.2444       231\n",
      "           1     0.2963    0.0315    0.0569       254\n",
      "           2     0.7700    0.9692    0.8582      1461\n",
      "\n",
      "    accuracy                         0.7513      1946\n",
      "   macro avg     0.5138    0.3884    0.3865      1946\n",
      "weighted avg     0.6731    0.7513    0.6807      1946\n",
      "\n"
     ]
    }
   ],
   "source": [
    "import xgboost as xgb\n",
    "from sklearn.preprocessing import LabelEncoder\n",
    "\n",
    "# Encode the target variable\n",
    "label_encoder = LabelEncoder()\n",
    "y_val_labels_encoded = label_encoder.fit_transform(y_val_labels)\n",
    "y_test_labels_encoded = label_encoder.transform(y_test_labels)\n",
    "\n",
    "xgb_model = xgb.XGBClassifier(n_estimators=120, max_depth=2) #reg_lambda reg_alpha\n",
    "\n",
    "# Train the XGBoost model\n",
    "xgb_model.fit(val_features, y_val_labels_encoded)\n",
    "\n",
    "# Evaluate the model\n",
    "xgb_score = xgb_model.score(test_features, y_test_labels_encoded)\n",
    "print(\"Late Fusion Test Accuracy: {:.2f}%\".format(xgb_score * 100))\n",
    "print(f\"image:{imageclassifier}, Text:{textclassifier}\")\n",
    "y_pred = xgb_model.predict(test_features)\n",
    "\n",
    "# Print classification report\n",
    "print(classification_report(y_test_labels_encoded, y_pred, digits=4))"
   ]
  },
  {
   "cell_type": "markdown",
   "id": "86421f90",
   "metadata": {},
   "source": [
    "## Random Forest"
   ]
  },
  {
   "cell_type": "code",
   "execution_count": 16,
   "id": "0dbac44d",
   "metadata": {},
   "outputs": [
    {
     "name": "stdout",
     "output_type": "stream",
     "text": [
      "Late Fusion Test Accuracy: 75.03%\n",
      "image:CNN+ CNN + Attention, Text:BiLSTM + BiLSTM\n",
      "              precision    recall  f1-score   support\n",
      "\n",
      "          -1     0.4000    0.1212    0.1860       231\n",
      "           0     0.3529    0.0236    0.0443       254\n",
      "           1     0.7671    0.9760    0.8590      1461\n",
      "\n",
      "    accuracy                         0.7503      1946\n",
      "   macro avg     0.5067    0.3736    0.3631      1946\n",
      "weighted avg     0.6694    0.7503    0.6728      1946\n",
      "\n"
     ]
    }
   ],
   "source": [
    "from sklearn.ensemble import RandomForestClassifier,GradientBoostingClassifier\n",
    "\n",
    "rf = RandomForestClassifier(n_estimators=150, max_depth=12)\n",
    "\n",
    "rf.fit(val_features, y_val_labels)\n",
    "rf_score = rf.score(test_features, y_test_labels)\n",
    "print(\"Late Fusion Test Accuracy: {:.2f}%\".format(rf_score * 100))\n",
    "#from sklearn.metrics import classification_report\n",
    "\n",
    "# Predict labels for test data\n",
    "y_pred = rf.predict(test_features)\n",
    "print(f\"image:{imageclassifier}, Text:{textclassifier}\")\n",
    "# Print classification report\n",
    "print(classification_report(y_test_labels, y_pred, digits=4))"
   ]
  },
  {
   "cell_type": "markdown",
   "id": "8896ec4d",
   "metadata": {},
   "source": [
    "## MLP"
   ]
  },
  {
   "cell_type": "code",
   "execution_count": 18,
   "id": "2a9e43dd",
   "metadata": {},
   "outputs": [
    {
     "name": "stdout",
     "output_type": "stream",
     "text": [
      "Late Fusion Test Accuracy: 73.43%\n",
      "              precision    recall  f1-score   support\n",
      "\n",
      "          -1     0.2388    0.0693    0.1074       231\n",
      "           0     0.2500    0.0236    0.0432       254\n",
      "           1     0.7585    0.9630    0.8486      1461\n",
      "\n",
      "    accuracy                         0.7343      1946\n",
      "   macro avg     0.4158    0.3520    0.3331      1946\n",
      "weighted avg     0.6304    0.7343    0.6555      1946\n",
      "\n"
     ]
    },
    {
     "name": "stderr",
     "output_type": "stream",
     "text": [
      "C:\\Users\\ausco\\anaconda3\\lib\\site-packages\\sklearn\\neural_network\\_multilayer_perceptron.py:500: ConvergenceWarning: lbfgs failed to converge (status=1):\n",
      "STOP: TOTAL NO. of ITERATIONS REACHED LIMIT.\n",
      "\n",
      "Increase the number of iterations (max_iter) or scale the data as shown in:\n",
      "    https://scikit-learn.org/stable/modules/preprocessing.html\n",
      "  self.n_iter_ = _check_optimize_result(\"lbfgs\", opt_res, self.max_iter)\n"
     ]
    }
   ],
   "source": [
    "from sklearn.neural_network import MLPClassifier\n",
    "from sklearn.metrics import classification_report\n",
    "\n",
    "# Create an MLP classifier\n",
    "mlp = MLPClassifier(hidden_layer_sizes=(256, 32), \n",
    "                    activation='relu', solver='lbfgs', learning_rate = 'invscaling')\n",
    "\n",
    "# Fit the classifier to the training data\n",
    "mlp.fit(val_features, y_val_labels)\n",
    "\n",
    "# Evaluate the classifier on the test data\n",
    "mlp_score = mlp.score(test_features, y_test_labels)\n",
    "print(\"Late Fusion Test Accuracy: {:.2f}%\".format(mlp_score * 100))\n",
    "\n",
    "# Predict labels for the test data\n",
    "y_pred = mlp.predict(test_features)\n",
    "\n",
    "# Print classification report\n",
    "print(classification_report(y_test_labels, y_pred, digits=4))"
   ]
  },
  {
   "cell_type": "code",
   "execution_count": 19,
   "id": "4107a134",
   "metadata": {},
   "outputs": [
    {
     "data": {
      "image/png": "[encoded data removed]",
      "text/plain": [
       "<Figure size 720x288 with 2 Axes>"
      ]
     },
     "metadata": {
      "needs_background": "light"
     },
     "output_type": "display_data"
    }
   ],
   "source": [
    "plot16.plot_hist(history, 'Multimodal Fusion')"
   ]
  },
  {
   "cell_type": "code",
   "execution_count": 20,
   "id": "b5cb51ed",
   "metadata": {},
   "outputs": [
    {
     "name": "stdout",
     "output_type": "stream",
     "text": [
      "61/61 [==============================] - 6s 106ms/step\n"
     ]
    },
    {
     "data": {
      "image/png": "[encoded data removed]",
      "text/plain": [
       "<Figure size 576x432 with 1 Axes>"
      ]
     },
     "metadata": {
      "needs_background": "light"
     },
     "output_type": "display_data"
    }
   ],
   "source": [
    "X_test = [X_test_text, X_test_image]\n",
    "plot16.plot_roc(model, X_test, y_test)"
   ]
  },
  {
   "cell_type": "code",
   "execution_count": null,
   "id": "eeb15ba7",
   "metadata": {},
   "outputs": [],
   "source": []
  }
 ],
 "metadata": {
  "kernelspec": {
   "display_name": "Python 3 (ipykernel)",
   "language": "python",
   "name": "python3"
  },
  "language_info": {
   "codemirror_mode": {
    "name": "ipython",
    "version": 3
   },
   "file_extension": ".py",
   "mimetype": "text/x-python",
   "name": "python",
   "nbconvert_exporter": "python",
   "pygments_lexer": "ipython3",
   "version": "3.9.7"
  }
 },
 "nbformat": 4,
 "nbformat_minor": 5
}
