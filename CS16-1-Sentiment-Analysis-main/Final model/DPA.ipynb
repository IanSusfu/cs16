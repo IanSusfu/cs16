{
 "cells": [
  {
   "cell_type": "markdown",
   "id": "8546a5b4",
   "metadata": {},
   "source": [
    "# DPA"
   ]
  },
  {
   "cell_type": "code",
   "execution_count": 17,
   "id": "2a28f2a7",
   "metadata": {},
   "outputs": [
    {
     "name": "stdout",
     "output_type": "stream",
     "text": [
      "Enter '1. single' for single dataset or '2. multi' for multiple dataset: 2\n"
     ]
    }
   ],
   "source": [
    "#============================================================\n",
    "# Verson 1.2 19/05/2023\n",
    "#============================================================\n",
    "\n",
    "import tensorflow as tf\n",
    "import sys\n",
    "sys.path.append('./cs16')\n",
    "import cs16.prep as prep16\n",
    "import cs16.plot as plot16\n",
    "import cs16.build as build16\n",
    "\n",
    "import cv2\n",
    "import matplotlib.pyplot as plt\n",
    "import numpy as np\n",
    "import os\n",
    "import pandas as pd\n",
    "import re\n",
    "from keras.callbacks import EarlyStopping\n",
    "from keras.layers import (Activation, Attention, Bidirectional, Concatenate, Conv1D, Conv2D, Add, Multiply,\n",
    "                           Dense, Dropout, Embedding, Flatten, GlobalMaxPooling1D, GlobalMaxPooling2D,MaxPooling2D,\n",
    "                           Input, Layer, LSTM, MaxPooling2D, Multiply, Permute, AveragePooling2D, UpSampling2D,\n",
    "                           RepeatVector, Reshape, SpatialDropout1D, TimeDistributed, GlobalAveragePooling2D, BatchNormalization)\n",
    "\n",
    "from keras.models import Model\n",
    "from keras import backend as K\n",
    "from keras.preprocessing.text import Tokenizer\n",
    "from keras.utils import to_categorical\n",
    "from sklearn.metrics import accuracy_score, classification_report, confusion_matrix\n",
    "from sklearn.model_selection import train_test_split\n",
    "from tensorflow.keras.preprocessing.sequence import pad_sequences\n",
    "from nltk.corpus import stopwords\n",
    "\n",
    "imagesize = 64\n",
    "\n",
    "#------------------------------------------------------------\n",
    "# Dataset Selection\n",
    "#------------------------------------------------------------\n",
    "\n",
    "data_type = input(\"Enter '1. single' for single dataset or '2. multi' for multiple dataset: \")\n",
    "\n",
    "if data_type == '1':\n",
    "    file_path = 'single.txt'\n",
    "    folder_path = './data/MVSA/single/'\n",
    "elif data_type == '2':\n",
    "    file_path = 'multi.txt'\n",
    "    folder_path = './data/MVSA/multiple/'\n",
    "else:\n",
    "    print(\"Invalid input. Please enter either 'single' or 'multi'.\")\n",
    "    exit()\n",
    "\n",
    "df = pd.read_csv(file_path, index_col=None, encoding='ISO-8859-1')\n"
   ]
  },
  {
   "cell_type": "markdown",
   "id": "9d4a3b88",
   "metadata": {},
   "source": [
    "# Text Preprocess"
   ]
  },
  {
   "cell_type": "code",
   "execution_count": 18,
   "id": "7e96f3f4",
   "metadata": {},
   "outputs": [
    {
     "name": "stderr",
     "output_type": "stream",
     "text": [
      "[nltk_data] Downloading package stopwords to\n",
      "[nltk_data]     C:\\Users\\ausco\\AppData\\Roaming\\nltk_data...\n",
      "[nltk_data]   Package stopwords is already up-to-date!\n",
      "[nltk_data] Downloading package punkt to\n",
      "[nltk_data]     C:\\Users\\ausco\\AppData\\Roaming\\nltk_data...\n",
      "[nltk_data]   Package punkt is already up-to-date!\n"
     ]
    }
   ],
   "source": [
    "import re\n",
    "import nltk\n",
    "from nltk.corpus import stopwords\n",
    "from nltk.stem import PorterStemmer\n",
    "from nltk.tokenize import word_tokenize\n",
    "import pandas as pd\n",
    "import matplotlib.pyplot as plt\n",
    "\n",
    "nltk.download('stopwords')\n",
    "nltk.download('punkt')\n",
    "\n",
    "# Define a function to preprocess text\n",
    "def nlp_text(text):\n",
    "    \n",
    "    #--------- TEXT -----------\n",
    "    # Convert text to lowercase\n",
    "    text = text.lower()\n",
    "    text = re.sub(r'http\\S+', '', text) # Remove URLs \n",
    "    text = re.sub(r'[^\\w\\s]', '', text) # Remove punctuation\n",
    "\n",
    "    words = word_tokenize(text) # Tokenize text into words\n",
    "    \n",
    "    #--------- WORD -----------\n",
    "    stop_words = set(stopwords.words('english'))# Remove stopwords\n",
    "    words = [word for word in words if word not in stop_words]\n",
    "    \n",
    "    # --------- Stemmer -----------\n",
    "    stemmer = PorterStemmer()\n",
    "    words = [stemmer.stem(word) for word in words]\n",
    "   \n",
    "    text = ' '.join(words) # Join words back into a single string\n",
    "    \n",
    "    return text\n",
    "\n",
    "# Apply the preprocess_text function to the 'tweet' column of the dataframe\n",
    "df['tweet'] = df['tweet'].apply(nlp_text)"
   ]
  },
  {
   "cell_type": "markdown",
   "id": "c557bfd8",
   "metadata": {},
   "source": [
    "# Train/Val/Test"
   ]
  },
  {
   "cell_type": "code",
   "execution_count": 19,
   "id": "3e5e4873",
   "metadata": {},
   "outputs": [
    {
     "name": "stdout",
     "output_type": "stream",
     "text": [
      "Processed Dataset:multi.txt\n"
     ]
    }
   ],
   "source": [
    "\n",
    "#---------------Text--------------------\n",
    "X_text, y_text = prep16.preprocess_text(df)\n",
    "X_train_text, X_val_text, X_test_text, \\\n",
    "y_train_text, y_val_text, y_test_text = prep16.split_data(X_text, y_text, random_state=42)\n",
    "\n",
    "#---------------Image--------------------\n",
    "image_data_s, image_label_s = prep16.preprocess_images(df, folder_path, imagesize)\n",
    "y_s = to_categorical(image_label_s, num_classes=3)\n",
    "\n",
    "X_train_image, X_val_image, X_test_image, \\\n",
    "y_train_image, y_val_image, y_test_image= prep16.split_data(image_data_s, y_s, random_state=42)\n",
    "\n",
    "\n",
    "#---------------combined--------------------\n",
    "X_polar, y_polar = prep16.preprocess_text(df,label = 'polarity')\n",
    "X_train_polar, X_val_polar, X_test_polar, \\\n",
    "y_train_polar, y_val_polar, y_test_polar = prep16.split_data(X_polar, y_polar, random_state=42)\n",
    "\n",
    "\n",
    "y_train = to_categorical(y_train_polar, num_classes=3)\n",
    "y_val =to_categorical(y_val_polar, num_classes=3)\n",
    "y_test =to_categorical(y_test_polar, num_classes=3)\n",
    "print(f\"Processed Dataset:{file_path}\")"
   ]
  },
  {
   "cell_type": "markdown",
   "id": "13dd117b",
   "metadata": {},
   "source": [
    "# Polarity Distribution"
   ]
  },
  {
   "cell_type": "code",
   "execution_count": 4,
   "id": "26029a65",
   "metadata": {},
   "outputs": [
    {
     "data": {
      "image/png": "[encoded data removed]",
      "text/plain": [
       "<Figure size 432x288 with 1 Axes>"
      ]
     },
     "metadata": {},
     "output_type": "display_data"
    }
   ],
   "source": [
    "#distribution of polarity\n",
    "polarity_counts =df['polarity'].value_counts(normalize=True)\n",
    "\n",
    "# assign colors for each category\n",
    "colors = ['#3cfa54', '#f44336', '#ffe119']\n",
    "\n",
    "# Create a pie chart of the polarity distribution\n",
    "plt.pie(polarity_counts.values, labels=polarity_counts.index, colors=colors, autopct='%1.1f%%', startangle=90)\n",
    "plt.axis('equal')\n",
    "plt.title(f'Polarity Distribution:{file_path}')\n",
    "plt.legend(title='Polarity', loc='best')\n",
    "plt.show()"
   ]
  },
  {
   "cell_type": "markdown",
   "id": "282c5e52",
   "metadata": {},
   "source": [
    "# TEXT"
   ]
  },
  {
   "cell_type": "code",
   "execution_count": 5,
   "id": "6028d97d",
   "metadata": {},
   "outputs": [
    {
     "name": "stdout",
     "output_type": "stream",
     "text": [
      "BiLSTM + Content att\n"
     ]
    }
   ],
   "source": [
    "#============================================================\n",
    "# TEXT Classification\n",
    "# Pipeline 1: BiLSTM\n",
    "# Pipeline 2: BiLSTM\n",
    "#============================================================\n",
    "textclassifier ='BiLSTM + ATT' \n",
    "from keras import regularizers\n",
    "from keras.layers import Bidirectional, LSTM, Concatenate, Reshape\n",
    "\n",
    "#---------------ContentAttention--------------------\n",
    "# code adopted and modified from : \n",
    "# https://machinelearningmastery.com/adding-a-custom-attention-layer-to-recurrent-neural-network-in-keras/\n",
    "# https://www.kaggle.com/code/haithemhermessi/attention-mechanism-keras-as-simple-as-possible\n",
    "\n",
    "\n",
    "class ContentAttention(Layer):\n",
    "    def __init__(self, **kwargs):\n",
    "        super(ContentAttention, self).__init__(**kwargs)\n",
    "\n",
    "    def build(self, input_shape):\n",
    "        self.W = self.add_weight(name=\"att_weight\", shape=(input_shape[-1], 1), initializer=\"normal\")\n",
    "        self.b = self.add_weight(name=\"att_bias\", shape=(input_shape[1], 1), initializer=\"zeros\")\n",
    "        super(ContentAttention, self).build(input_shape)\n",
    "\n",
    "    def call(self, x):\n",
    "        e = K.tanh(K.dot(x, self.W) + self.b)\n",
    "        a = K.softmax(e, axis=1)\n",
    "        output = x * a\n",
    "        return K.sum(output, axis=1)    \n",
    "    \n",
    "text_input = Input(shape=(X_train_text.shape[1],), dtype='int32', name='text_input')\n",
    "\n",
    "embedding_layer = Embedding(input_dim=10000, output_dim=100, \n",
    "                            input_length=X_train_text.shape[1])(text_input)\n",
    "\n",
    "#--------- pipeline1 -----------\n",
    "lstm1 = Bidirectional(LSTM(128, return_sequences=True))(embedding_layer)\n",
    "lstm1 = Dropout(0.25)(lstm1) \n",
    "att_layer1 = ContentAttention()(lstm1)\n",
    "sent_representation1 = att_layer1\n",
    "\n",
    "#--------- pipeline2 -----------\n",
    "lstm2 = Bidirectional(LSTM(64, return_sequences=True))(embedding_layer)\n",
    "lstm2 = Dropout(0.25)(lstm2) \n",
    "att_layer2 = ContentAttention()(lstm2)\n",
    "sent_representation2 = att_layer2\n",
    "\n",
    "#--------- Concatenate -----------\n",
    "merged_layer = Concatenate()([sent_representation1, sent_representation2]) \n",
    "merged = Dense(128, activation='tanh')(merged_layer)\n",
    "\n",
    "reshaped = Reshape((1, 128))(merged)  \n",
    "t = Bidirectional(LSTM(256))(reshaped)\n",
    "text_output = Dense(3, activation='softmax', kernel_regularizer=regularizers.l2(0.01))(t)\n",
    "\n",
    "print(textclassifier)"
   ]
  },
  {
   "cell_type": "markdown",
   "id": "ea953980",
   "metadata": {},
   "source": [
    "# IMAGE "
   ]
  },
  {
   "cell_type": "code",
   "execution_count": 7,
   "id": "18bf06b6",
   "metadata": {},
   "outputs": [
    {
     "name": "stdout",
     "output_type": "stream",
     "text": [
      "Multi-CNN + VGG & Spatial ATT\n"
     ]
    }
   ],
   "source": [
    "#============================================================\n",
    "# Image Classification\n",
    "# Pipeline 1: Multilayer CNN\n",
    "# Pipeline 2: VGG + ATT\n",
    "#============================================================\n",
    "from tensorflow.keras.layers import BatchNormalization\n",
    "\n",
    "from tensorflow.keras.models import Model\n",
    "from tensorflow.keras.applications import VGG16\n",
    "from tensorflow.keras import regularizers\n",
    "\n",
    "imageclassifier = 'Multi-CNN + VGG & Spatial ATT'\n",
    "\n",
    "#-----------------Multilayer CNN---------------------\n",
    "# dropout can be on and off when necessary\n",
    "\n",
    "image_input = Input(shape=(64, 64, 3), name='image_input')\n",
    "conv1 = Conv2D(32, (3, 3), activation='relu', padding='same')(image_input)\n",
    "pool1 = MaxPooling2D(pool_size=(2, 2))(conv1)\n",
    "#pool1 = Dropout(0.25)(pool1)\n",
    "pool1 = BatchNormalization()(pool1)\n",
    "\n",
    "conv2 = Conv2D(64, (3, 3), activation='relu', padding='same')(pool1)\n",
    "pool2 = MaxPooling2D(pool_size=(2, 2))(conv2)\n",
    "#pool2 = Dropout(0.25)(pool2)\n",
    "pool2 = BatchNormalization()(pool2)\n",
    "\n",
    "conv3 = Conv2D(128, (3, 3), activation='relu', padding='same')(pool2)\n",
    "pool3 = MaxPooling2D(pool_size=(2, 2))(conv3)\n",
    "#pool3 = Dropout(0.25)(pool3)\n",
    "pool3 = BatchNormalization()(pool3)\n",
    "\n",
    "conv4 = Conv2D(256, (3, 3), activation='relu', padding='same')(pool3)\n",
    "pool4 = MaxPooling2D(pool_size=(2, 2))(conv4)\n",
    "#pool4 = Dropout(0.25)(pool4)\n",
    "pool4 = BatchNormalization()(pool4)\n",
    "flatten = Flatten()(pool4)\n",
    "\n",
    "#-----------------VGG---------------------\n",
    "# Load pre-trained VGG16 model\n",
    "vgg16_base = VGG16(weights='imagenet', include_top=False, input_shape=(imagesize, imagesize, 3))\n",
    "\n",
    "# Freeze\n",
    "for layer in vgg16_base.layers:\n",
    "    layer.trainable = False\n",
    "\n",
    "vgg16_features = vgg16_base(image_input)\n",
    "\n",
    "# -----------------Add spatial attentions---------------------\n",
    "# 1 filter, sigmoid to set 0 or 1 for weights\n",
    "attention = Conv2D(1, (1, 1), activation='sigmoid')(vgg16_features) \n",
    "attended_features = Multiply()([vgg16_features, attention])\n",
    "\n",
    "# Flatten\n",
    "attended_flatten = Flatten()(attended_features)\n",
    "\n",
    "#------------- Concatenate -----------------------\n",
    "merged_features = Concatenate()([flatten, attended_flatten])\n",
    "\n",
    "# Apply the rest of the model layers\n",
    "merged = Dense(128, activation='relu')(merged_features)\n",
    "merged = Dropout(0.25)(merged)\n",
    "image_output = Dense(3, activation='sigmoid', kernel_regularizer=regularizers.l2(0.01))(merged)\n",
    "\n",
    "print(imageclassifier)"
   ]
  },
  {
   "cell_type": "markdown",
   "id": "f723523a",
   "metadata": {},
   "source": [
    "# EARLY Fusion : Text & Image"
   ]
  },
  {
   "cell_type": "code",
   "execution_count": 8,
   "id": "47e402c0",
   "metadata": {},
   "outputs": [
    {
     "name": "stdout",
     "output_type": "stream",
     "text": [
      "single.txt\n",
      "Epoch 1/10\n",
      "122/122 [==============================] - 85s 652ms/step - loss: 1.1814 - accuracy: 0.5481 - val_loss: 1.1111 - val_accuracy: 0.5462\n",
      "Epoch 2/10\n",
      "122/122 [==============================] - 83s 684ms/step - loss: 1.0660 - accuracy: 0.5492 - val_loss: 1.0615 - val_accuracy: 0.5462\n",
      "Epoch 3/10\n",
      "122/122 [==============================] - 86s 703ms/step - loss: 1.0258 - accuracy: 0.5492 - val_loss: 1.0270 - val_accuracy: 0.5462\n",
      "Epoch 4/10\n",
      "122/122 [==============================] - 85s 699ms/step - loss: 1.0130 - accuracy: 0.5492 - val_loss: 1.0118 - val_accuracy: 0.5462\n",
      "Epoch 5/10\n",
      "122/122 [==============================] - 86s 706ms/step - loss: 1.0011 - accuracy: 0.5492 - val_loss: 1.0189 - val_accuracy: 0.5462\n",
      "Epoch 6/10\n",
      "122/122 [==============================] - 88s 723ms/step - loss: 0.9943 - accuracy: 0.5492 - val_loss: 1.0046 - val_accuracy: 0.5462\n",
      "Epoch 7/10\n",
      "122/122 [==============================] - 90s 740ms/step - loss: 0.9881 - accuracy: 0.5492 - val_loss: 1.0154 - val_accuracy: 0.5462\n",
      "Epoch 8/10\n",
      "122/122 [==============================] - 90s 739ms/step - loss: 0.9843 - accuracy: 0.5492 - val_loss: 1.0069 - val_accuracy: 0.5462\n",
      "Epoch 9/10\n",
      "122/122 [==============================] - 90s 741ms/step - loss: 0.9813 - accuracy: 0.5492 - val_loss: 1.0056 - val_accuracy: 0.5462\n",
      "Epoch 10/10\n",
      "122/122 [==============================] - 90s 742ms/step - loss: 0.9750 - accuracy: 0.5492 - val_loss: 1.0032 - val_accuracy: 0.5462\n",
      "16/16 [==============================] - 7s 425ms/step - loss: 0.9786 - accuracy: 0.5708\n",
      "Test accuracy: 0.570841908454895\n"
     ]
    }
   ],
   "source": [
    "from keras.optimizers import Adam, Adagrad, RMSprop\n",
    "from keras import backend as K\n",
    "from keras import metrics\n",
    "\n",
    "concatenated = Concatenate()([text_output, image_output])\n",
    "concatenated = Dense(64, activation='relu', kernel_regularizer=regularizers.l2(0.01))(concatenated)\n",
    "reshaped = Reshape((1, 1, concatenated.shape[1]))(concatenated)\n",
    "\n",
    "#>> downsampling test\n",
    "pooled = GlobalMaxPooling2D()(reshaped) \n",
    "#pooled = GlobalAveragePooling2D()(reshaped)\n",
    "\n",
    "# Final output layers\n",
    "output = Dense(3, activation='softmax', kernel_regularizer=regularizers.l2(0.01))(pooled)\n",
    "\n",
    "model = Model(inputs=[text_input, image_input], outputs=output)\n",
    "print(file_path)\n",
    "\n",
    "# Compile the model\n",
    "optimizer = Adam(learning_rate=1e-3)\n",
    "model.compile(loss='categorical_crossentropy', optimizer=optimizer, metrics=['accuracy'])\n",
    "\n",
    "# Train the model\n",
    "history = model.fit([X_train_text, X_train_image], y_train, \n",
    "                    validation_data=([X_val_text, X_val_image], y_val),\n",
    "                    epochs=10, \n",
    "                    batch_size=32)\n",
    "\n",
    "# Evaluate the model\n",
    "test_loss, test_acc = model.evaluate([X_test_text, X_test_image], y_test)\n",
    "print('Test accuracy:', test_acc)\n"
   ]
  },
  {
   "cell_type": "markdown",
   "id": "01897034",
   "metadata": {},
   "source": [
    "# Classification Report"
   ]
  },
  {
   "cell_type": "code",
   "execution_count": 16,
   "id": "215b8140",
   "metadata": {},
   "outputs": [
    {
     "name": "stdout",
     "output_type": "stream",
     "text": [
      "16/16 [==============================] - 6s 302ms/step\n",
      "image:Multi-CNN + VGG & Spatial ATT, Text:BiLSTM + Content att\n",
      "Classification Report:\n",
      "               precision    recall  f1-score   support\n",
      "\n",
      "           0     0.0000    0.0000    0.0000        77\n",
      "           1     0.5708    1.0000    0.7268       278\n",
      "           2     0.0000    0.0000    0.0000       132\n",
      "\n",
      "    accuracy                         0.5708       487\n",
      "   macro avg     0.1903    0.3333    0.2423       487\n",
      "weighted avg     0.3259    0.5708    0.4149       487\n",
      "\n"
     ]
    },
    {
     "name": "stderr",
     "output_type": "stream",
     "text": [
      "C:\\Users\\ausco\\anaconda3\\lib\\site-packages\\sklearn\\metrics\\_classification.py:1248: UndefinedMetricWarning: Precision and F-score are ill-defined and being set to 0.0 in labels with no predicted samples. Use `zero_division` parameter to control this behavior.\n",
      "  _warn_prf(average, modifier, msg_start, len(result))\n",
      "C:\\Users\\ausco\\anaconda3\\lib\\site-packages\\sklearn\\metrics\\_classification.py:1248: UndefinedMetricWarning: Precision and F-score are ill-defined and being set to 0.0 in labels with no predicted samples. Use `zero_division` parameter to control this behavior.\n",
      "  _warn_prf(average, modifier, msg_start, len(result))\n",
      "C:\\Users\\ausco\\anaconda3\\lib\\site-packages\\sklearn\\metrics\\_classification.py:1248: UndefinedMetricWarning: Precision and F-score are ill-defined and being set to 0.0 in labels with no predicted samples. Use `zero_division` parameter to control this behavior.\n",
      "  _warn_prf(average, modifier, msg_start, len(result))\n"
     ]
    }
   ],
   "source": [
    "from sklearn.metrics import classification_report\n",
    "import numpy as np\n",
    "\n",
    "# Make predictions on test data\n",
    "y_pred = model.predict([X_test_text, X_test_image])\n",
    "\n",
    "# Convert predictions and true labels to class indices\n",
    "y_pred_classes = np.argmax(y_pred, axis=1)\n",
    "y_true_classes = np.argmax(y_test, axis=1)\n",
    "\n",
    "# Generate classification report\n",
    "report = classification_report(y_true_classes, y_pred_classes, digits = 4)\n",
    "print(f\"image:{imageclassifier}, Text:{textclassifier}\")\n",
    "# Print the report\n",
    "print('Classification Report:\\n', report)\n"
   ]
  },
  {
   "cell_type": "markdown",
   "id": "17ea55bc",
   "metadata": {},
   "source": [
    "# LATE FUSION: Text & Image"
   ]
  },
  {
   "cell_type": "code",
   "execution_count": 12,
   "id": "078ad846",
   "metadata": {},
   "outputs": [
    {
     "name": "stdout",
     "output_type": "stream",
     "text": [
      "16/16 [==============================] - 5s 311ms/step\n",
      "16/16 [==============================] - 5s 310ms/step\n",
      "16/16 [==============================] - 2s 39ms/step\n",
      "16/16 [==============================] - 1s 39ms/step\n"
     ]
    }
   ],
   "source": [
    "#----------------image----------------\n",
    "image_feature_extractor = Model(inputs=image_input, outputs=image_output)\n",
    "val_image_features = image_feature_extractor.predict(X_val_image)\n",
    "test_image_features = image_feature_extractor.predict(X_test_image)\n",
    "\n",
    "#--------------text----------------\n",
    "text_feature_extractor = Model(inputs=text_input, outputs=text_output)\n",
    "val_text_features = text_feature_extractor.predict(X_val_text)\n",
    "test_text_features = text_feature_extractor.predict(X_test_text)\n",
    "\n",
    "#---------------combine----------------\n",
    "val_features = np.concatenate([val_image_features, val_text_features], axis=1)\n",
    "test_features = np.concatenate([test_image_features, test_text_features], axis=1)\n",
    "\n",
    "y_val_labels = y_val_polar\n",
    "y_test_labels = y_test_polar"
   ]
  },
  {
   "cell_type": "markdown",
   "id": "0a6f89e1",
   "metadata": {},
   "source": [
    "## XGB"
   ]
  },
  {
   "cell_type": "code",
   "execution_count": 13,
   "id": "a4f1c822",
   "metadata": {},
   "outputs": [
    {
     "name": "stdout",
     "output_type": "stream",
     "text": [
      "Late Fusion Test Accuracy: 52.36%\n",
      "              precision    recall  f1-score   support\n",
      "\n",
      "           0     0.3118    0.2197    0.2578       132\n",
      "           1     0.2083    0.1299    0.1600        77\n",
      "           2     0.6243    0.7770    0.6923       278\n",
      "\n",
      "    accuracy                         0.5236       487\n",
      "   macro avg     0.3815    0.3755    0.3700       487\n",
      "weighted avg     0.4738    0.5236    0.4904       487\n",
      "\n"
     ]
    }
   ],
   "source": [
    "import xgboost as xgb\n",
    "from sklearn.preprocessing import LabelEncoder\n",
    "\n",
    "# Encode the target variable XGB uses 0,1,2\n",
    "label_encoder = LabelEncoder()\n",
    "y_val_labels_encoded = label_encoder.fit_transform(y_val_labels)\n",
    "y_test_labels_encoded = label_encoder.transform(y_test_labels)\n",
    "\n",
    "# ***** please modify n_estimators, max_depth to get different results *****\n",
    "xgb_model = xgb.XGBClassifier(n_estimators=80, max_depth=6) #reg_lambda reg_alpha\n",
    "\n",
    "xgb_model.fit(val_features, y_val_labels_encoded)\n",
    "\n",
    "# Evaluate\n",
    "xgb_score = xgb_model.score(test_features, y_test_labels_encoded)\n",
    "print(\"Late Fusion Test Accuracy: {:.2f}%\".format(xgb_score * 100))\n",
    "\n",
    "y_pred = xgb_model.predict(test_features)\n",
    "\n",
    "print(classification_report(y_test_labels_encoded, y_pred, digits=4))"
   ]
  },
  {
   "cell_type": "markdown",
   "id": "86421f90",
   "metadata": {},
   "source": [
    "## Random Forest"
   ]
  },
  {
   "cell_type": "code",
   "execution_count": 14,
   "id": "0dbac44d",
   "metadata": {},
   "outputs": [
    {
     "name": "stdout",
     "output_type": "stream",
     "text": [
      "Late Fusion Test Accuracy: 52.77%\n",
      "              precision    recall  f1-score   support\n",
      "\n",
      "          -1     0.3176    0.2045    0.2488       132\n",
      "           0     0.1364    0.0390    0.0606        77\n",
      "           1     0.5974    0.8165    0.6900       278\n",
      "\n",
      "    accuracy                         0.5277       487\n",
      "   macro avg     0.3505    0.3534    0.3331       487\n",
      "weighted avg     0.4487    0.5277    0.4709       487\n",
      "\n"
     ]
    }
   ],
   "source": [
    "#--------------logistic Regression\n",
    "from sklearn.ensemble import RandomForestClassifier,GradientBoostingClassifier\n",
    "# ***** please modify n_estimators, max_depth to get different results *****\n",
    "rf = RandomForestClassifier(n_estimators=140, max_depth=11)\n",
    "\n",
    "rf.fit(val_features, y_val_labels)\n",
    "rf_score = rf.score(test_features, y_test_labels)\n",
    "print(\"Late Fusion Test Accuracy: {:.2f}%\".format(rf_score * 100))\n",
    "#from sklearn.metrics import classification_report\n",
    "\n",
    "# Predict labels for test data\n",
    "y_pred = rf.predict(test_features)\n",
    "\n",
    "# Print classification report\n",
    "print(classification_report(y_test_labels, y_pred, digits=4))"
   ]
  },
  {
   "cell_type": "markdown",
   "id": "219d600e",
   "metadata": {},
   "source": [
    "# MLP"
   ]
  },
  {
   "cell_type": "code",
   "execution_count": 15,
   "id": "2a9e43dd",
   "metadata": {},
   "outputs": [
    {
     "name": "stdout",
     "output_type": "stream",
     "text": [
      "Late Fusion Test Accuracy: 54.41%\n",
      "              precision    recall  f1-score   support\n",
      "\n",
      "          -1     0.3200    0.1212    0.1758       132\n",
      "           0     0.1176    0.0260    0.0426        77\n",
      "           1     0.5881    0.8885    0.7077       278\n",
      "\n",
      "    accuracy                         0.5441       487\n",
      "   macro avg     0.3419    0.3452    0.3087       487\n",
      "weighted avg     0.4410    0.5441    0.4584       487\n",
      "\n"
     ]
    },
    {
     "name": "stderr",
     "output_type": "stream",
     "text": [
      "C:\\Users\\ausco\\anaconda3\\lib\\site-packages\\sklearn\\neural_network\\_multilayer_perceptron.py:500: ConvergenceWarning: lbfgs failed to converge (status=1):\n",
      "STOP: TOTAL NO. of ITERATIONS REACHED LIMIT.\n",
      "\n",
      "Increase the number of iterations (max_iter) or scale the data as shown in:\n",
      "    https://scikit-learn.org/stable/modules/preprocessing.html\n",
      "  self.n_iter_ = _check_optimize_result(\"lbfgs\", opt_res, self.max_iter)\n"
     ]
    }
   ],
   "source": [
    "from sklearn.neural_network import MLPClassifier\n",
    "from sklearn.metrics import classification_report\n",
    "\n",
    "# Create an MLP classifier\n",
    "mlp = MLPClassifier(hidden_layer_sizes=(256, 128), \n",
    "                    activation='relu', solver='lbfgs', learning_rate = 'invscaling')\n",
    "\n",
    "# Fit the classifier to the training data\n",
    "mlp.fit(val_features, y_val_labels)\n",
    "\n",
    "# Evaluate the classifier on the test data\n",
    "mlp_score = mlp.score(test_features, y_test_labels)\n",
    "print(\"Late Fusion Test Accuracy: {:.2f}%\".format(mlp_score * 100))\n",
    "\n",
    "# Predict labels for the test data\n",
    "y_pred = mlp.predict(test_features)\n",
    "\n",
    "# Print classification report\n",
    "print(classification_report(y_test_labels, y_pred, digits=4))\n"
   ]
  },
  {
   "cell_type": "code",
   "execution_count": 11,
   "id": "4107a134",
   "metadata": {},
   "outputs": [
    {
     "data": {
      "image/png": "[encoded data removed]",
      "text/plain": [
       "<Figure size 720x288 with 2 Axes>"
      ]
     },
     "metadata": {
      "needs_background": "light"
     },
     "output_type": "display_data"
    }
   ],
   "source": [
    "# graph for Early Fusion\n",
    "plot16.plot_hist(history, 'Multimodal Fusion')"
   ]
  },
  {
   "cell_type": "code",
   "execution_count": 47,
   "id": "2da80085",
   "metadata": {},
   "outputs": [],
   "source": [
    "def print_classification_report(model, X_test, y_test):\n",
    "    # Generate the predicted labels\n",
    "    y_pred = model.predict(X_test)\n",
    "\n",
    "    # Convert the predicted probabilities to class labels\n",
    "    y_pred_labels = np.argmax(y_pred, axis=1)\n",
    "    y_true_labels = np.argmax(y_test, axis=1)\n",
    " \n",
    "\n",
    "    # Generate the classification report\n",
    "    report = classification_report(y_true_labels, y_pred_labels, digits=4)\n",
    "    print(report)\n"
   ]
  }
 ],
 "metadata": {
  "kernelspec": {
   "display_name": "Python 3 (ipykernel)",
   "language": "python",
   "name": "python3"
  },
  "language_info": {
   "codemirror_mode": {
    "name": "ipython",
    "version": 3
   },
   "file_extension": ".py",
   "mimetype": "text/x-python",
   "name": "python",
   "nbconvert_exporter": "python",
   "pygments_lexer": "ipython3",
   "version": "3.9.7"
  }
 },
 "nbformat": 4,
 "nbformat_minor": 5
}
