{
 "cells": [
  {
   "cell_type": "markdown",
   "id": "b5df4e8b",
   "metadata": {},
   "source": [
    "# DPA (Dual Pipeline Attentional Multimodal Fusion)"
   ]
  },
  {
   "cell_type": "code",
   "execution_count": 1,
   "id": "2a28f2a7",
   "metadata": {},
   "outputs": [
    {
     "name": "stdout",
     "output_type": "stream",
     "text": [
      "Enter '1. single' for single dataset or '2. multi' for multiple dataset: 2\n"
     ]
    }
   ],
   "source": [
    "import cv2\n",
    "import matplotlib.pyplot as plt\n",
    "import numpy as np\n",
    "import os\n",
    "import pandas as pd\n",
    "import re\n",
    "from keras.callbacks import EarlyStopping\n",
    "from keras.layers import (Activation, Attention, Bidirectional, Concatenate, Conv1D,\n",
    "                           Dense, Dropout, Embedding, Flatten, GlobalMaxPooling1D,\n",
    "                           Input, Layer, LSTM, MaxPooling1D, Multiply, Permute,\n",
    "                           RepeatVector, Reshape, SpatialDropout1D, TimeDistributed)\n",
    "from keras.models import Model\n",
    "from keras import backend as K\n",
    "from keras.preprocessing.text import Tokenizer\n",
    "from keras.utils import to_categorical\n",
    "from sklearn.metrics import accuracy_score, classification_report, confusion_matrix\n",
    "from sklearn.model_selection import train_test_split\n",
    "from tensorflow.keras.preprocessing.sequence import pad_sequences\n",
    "from nltk.corpus import stopwords\n",
    "\n",
    "#import our own library cs16\n",
    "import sys\n",
    "sys.path.append('./cs16')\n",
    "import cs16.prep as prep16\n",
    "import cs16.plot as plot16\n",
    "import cs16.build as build16\n",
    "imagesize = 64\n",
    "\n",
    "#----------------------------------------------------\n",
    "# select a dataset\n",
    "#----------------------------------------------------\n",
    "data_type = input(\"Enter '1. single' for single dataset or '2. multi' for multiple dataset: \")\n",
    "\n",
    "if data_type == '1':\n",
    "    file_path = 'single.txt'\n",
    "    folder_path = './data/MVSA/single/'\n",
    "elif data_type == '2':\n",
    "    file_path = 'multi.txt'\n",
    "    folder_path = './data/MVSA/multiple/'\n",
    "else:\n",
    "    print(\"Invalid input. Please enter either 'single' or 'multi'.\")\n",
    "    exit()\n",
    "\n",
    "df = pd.read_csv(file_path, index_col=None, encoding='ISO-8859-1')\n"
   ]
  },
  {
   "cell_type": "code",
   "execution_count": 2,
   "id": "7e96f3f4",
   "metadata": {},
   "outputs": [
    {
     "name": "stderr",
     "output_type": "stream",
     "text": [
      "[nltk_data] Downloading package stopwords to\n",
      "[nltk_data]     C:\\Users\\ausco\\AppData\\Roaming\\nltk_data...\n",
      "[nltk_data]   Package stopwords is already up-to-date!\n",
      "[nltk_data] Downloading package punkt to\n",
      "[nltk_data]     C:\\Users\\ausco\\AppData\\Roaming\\nltk_data...\n",
      "[nltk_data]   Package punkt is already up-to-date!\n"
     ]
    }
   ],
   "source": [
    "import re\n",
    "import nltk\n",
    "from nltk.corpus import stopwords\n",
    "from nltk.stem import PorterStemmer\n",
    "from nltk.tokenize import word_tokenize\n",
    "import pandas as pd\n",
    "import matplotlib.pyplot as plt\n",
    "# Download stopwords and punkt tokenizer if not already downloaded\n",
    "nltk.download('stopwords')\n",
    "nltk.download('punkt')\n",
    "#----------------------------------------------------\n",
    "# NLP preprocess\n",
    "#----------------------------------------------------\n",
    "# Define a function to preprocess text\n",
    "def nlp_text(text):\n",
    "    # Convert text to lowercase\n",
    "    text = text.lower()\n",
    "    \n",
    "    # Remove URLs \n",
    "    text = re.sub(r'http\\S+', '', text)\n",
    "    # Remove punctuation\n",
    "    text = re.sub(r'[^\\w\\s]', '', text)\n",
    "    \n",
    "    # Tokenize text into individual words\n",
    "    words = word_tokenize(text)\n",
    "    \n",
    "    # Remove stopwords\n",
    "    stop_words = set(stopwords.words('english'))\n",
    "    words = [word for word in words if word not in stop_words]\n",
    "    \n",
    "    # Stem words using Porter Stemmer\n",
    "    stemmer = PorterStemmer()\n",
    "    words = [stemmer.stem(word) for word in words]\n",
    "    \n",
    "    # Join words back into a single string\n",
    "    text = ' '.join(words)\n",
    "    \n",
    "    return text\n",
    "\n",
    "# call function\n",
    "df['tweet'] = df['tweet'].apply(nlp_text)"
   ]
  },
  {
   "cell_type": "code",
   "execution_count": 3,
   "id": "3e5e4873",
   "metadata": {},
   "outputs": [
    {
     "name": "stdout",
     "output_type": "stream",
     "text": [
      "multi.txt\n"
     ]
    }
   ],
   "source": [
    "#----------------------------------------------------\n",
    "# Data preprocess and split\n",
    "#----------------------------------------------------\n",
    "\n",
    "#----------text---------\n",
    "X_text, y_text = prep16.preprocess_text(df)\n",
    "X_train_text, X_val_text, X_test_text, \\\n",
    "y_train_text, y_val_text, y_test_text = prep16.split_data(X_text, y_text, random_state=42)\n",
    "\n",
    "#----------polarity---------\n",
    "X_polar, y_polar = prep16.preprocess_text(df,label = 'polarity')\n",
    "X_train_polar, X_val_polar, X_test_polar, \\\n",
    "y_train_polar, y_val_polar, y_test_polar = prep16.split_data(X_polar, y_polar, random_state=42)\n",
    "\n",
    "#----------image---------\n",
    "image_data_s, image_label_s = prep16.preprocess_images(df, folder_path, imagesize)\n",
    "y_s = to_categorical(image_label_s, num_classes=3)\n",
    "\n",
    "X_train_image, X_val_image, X_test_image, \\\n",
    "y_train_image, y_val_image, y_test_image= prep16.split_data(image_data_s, y_s, random_state=42)\n",
    "\n",
    "#----------one-hot---------\n",
    "y_train = to_categorical(y_train_polar, num_classes=3)\n",
    "y_val =to_categorical(y_val_polar, num_classes=3)\n",
    "y_test =to_categorical(y_test_polar, num_classes=3)\n",
    "print(file_path)"
   ]
  },
  {
   "cell_type": "code",
   "execution_count": 91,
   "id": "26029a65",
   "metadata": {},
   "outputs": [
    {
     "data": {
      "image/png": "[encoded data removed]",
      "text/plain": [
       "<Figure size 432x288 with 1 Axes>"
      ]
     },
     "metadata": {},
     "output_type": "display_data"
    }
   ],
   "source": [
    "import pandas as pd\n",
    "import matplotlib.pyplot as plt\n",
    "# distribution of polarity\n",
    "polarity_counts =df['polarity'].value_counts(normalize=True)\n",
    "\n",
    "# assign colors for each category\n",
    "colors = ['#3cba54', '#f44336', '#ffe119']\n",
    "\n",
    "# Create a pie chart of the polarity distribution\n",
    "plt.pie(polarity_counts.values, labels=polarity_counts.index, colors=colors, autopct='%1.1f%%', startangle=90)\n",
    "plt.axis('equal')\n",
    "plt.title('Polarity Distribution')\n",
    "plt.legend(title='Polarity', loc='best')\n",
    "plt.show()"
   ]
  },
  {
   "cell_type": "markdown",
   "id": "282c5e52",
   "metadata": {},
   "source": [
    "# TEXT"
   ]
  },
  {
   "cell_type": "code",
   "execution_count": 257,
   "id": "6028d97d",
   "metadata": {},
   "outputs": [
    {
     "name": "stdout",
     "output_type": "stream",
     "text": [
      "BiLSTM + ATT\n"
     ]
    }
   ],
   "source": [
    "textclassifier ='BiLSTM + ATT'\n",
    "#---------------ContentAttention--------------------\n",
    "# code adopted and modified from : \n",
    "# https://machinelearningmastery.com/adding-a-custom-attention-layer-to-recurrent-neural-network-in-keras/\n",
    "# https://www.kaggle.com/code/haithemhermessi/attention-mechanism-keras-as-simple-as-possible\n",
    "\n",
    "class ContentAttention(Layer):\n",
    "    def __init__(self, **kwargs):\n",
    "        super(ContentAttention, self).__init__(**kwargs)\n",
    "\n",
    "    def build(self, input_shape):\n",
    "        self.W = self.add_weight(name=\"att_weight\", shape=(input_shape[-1], 1), initializer=\"normal\")\n",
    "        self.b = self.add_weight(name=\"att_bias\", shape=(input_shape[1], 1), initializer=\"zeros\")\n",
    "        super(ContentAttention, self).build(input_shape)\n",
    "\n",
    "    def call(self, x):\n",
    "        e = K.tanh(K.dot(x, self.W) + self.b)\n",
    "        a = K.softmax(e, axis=1)\n",
    "        output = x * a\n",
    "        return K.sum(output, axis=1)    \n",
    "    \n",
    "from keras import regularizers\n",
    "from keras.layers import Bidirectional, LSTM, Concatenate, Reshape\n",
    "\n",
    "text_input = Input(shape=(X_train_text.shape[1],), dtype='int32', name='text_input')\n",
    "embedding_layer = Embedding(input_dim=10000, output_dim=100, input_length=X_train_text.shape[1])(text_input)\n",
    "\n",
    "#----------pipeline1: LSTM1--------------\n",
    "lstm1 = Bidirectional(LSTM(256, return_sequences=True))(embedding_layer)\n",
    "lstm1 = Dense(64, activation='tanh', kernel_regularizer=regularizers.l2(0.05))(lstm1)\n",
    "att_layer1 = ContentAttention()(lstm1)\n",
    "sent_representation1 = att_layer1\n",
    "\n",
    "#----------pipeline2:LSTM2--------------\n",
    "lstm2 = Bidirectional(LSTM(128, return_sequences=True))(embedding_layer)\n",
    "lstm1 = Dense(32, activation='tanh', kernel_regularizer=regularizers.l2(0.01))(lstm1)\n",
    "att_layer2 = ContentAttention()(lstm2)\n",
    "sent_representation2 = att_layer2\n",
    "\n",
    "#----------local fusion---------------\n",
    "merged_layer = Concatenate()([sent_representation1, sent_representation2]) \n",
    "\n",
    "merged = Dense(128, activation='tanh')(merged_layer)\n",
    "merged = Reshape((1, 128))(merged)  \n",
    "merged = Bidirectional(LSTM(64))(merged)\n",
    "text_output = Dense(3, activation='tanh', kernel_regularizer=regularizers.l2(0.01))(merged)\n",
    "\n",
    "print(textclassifier)\n"
   ]
  },
  {
   "cell_type": "markdown",
   "id": "700dcf89",
   "metadata": {},
   "source": [
    "# Image"
   ]
  },
  {
   "cell_type": "code",
   "execution_count": 177,
   "id": "60f2d60a",
   "metadata": {},
   "outputs": [
    {
     "name": "stdout",
     "output_type": "stream",
     "text": [
      "VGG + CNN + Spatial Attention\n"
     ]
    }
   ],
   "source": [
    "from tensorflow.keras.layers import Conv2D, MaxPooling2D, Flatten, Concatenate, Dense, Dropout, Input\n",
    "from tensorflow.keras.models import Model\n",
    "from tensorflow.keras.applications import VGG16\n",
    "from tensorflow.keras import regularizers\n",
    "from tensorflow.keras.layers import BatchNormalization\n",
    "\n",
    "imageclassifier = 'CNN+ VGG + Spatial Attention'\n",
    "\n",
    "# ------------ pipeline1:CNN --------------------------\n",
    "image_input = Input(shape=(imagesize, imagesize, 3), name='image_input')\n",
    "conv1 = Conv2D(32, (3, 3), activation='relu', padding='same')(image_input)\n",
    "pool1 = MaxPooling2D(pool_size=(2, 2))(conv1)\n",
    "#pool1 = Dropout(0.25)(pool1)\n",
    "pool1 = BatchNormalization()(pool1)\n",
    "\n",
    "conv2 = Conv2D(64, (3, 3), activation='relu', padding='same')(pool1)\n",
    "pool2 = MaxPooling2D(pool_size=(2, 2))(conv2)\n",
    "#pool2 = Dropout(0.25)(pool2)\n",
    "pool2 = BatchNormalization()(pool2)\n",
    "\n",
    "conv3 = Conv2D(128, (3, 3), activation='relu', padding='same')(pool2)\n",
    "pool3 = MaxPooling2D(pool_size=(2, 2))(conv3)\n",
    "#pool3 = Dropout(0.25)(pool3)\n",
    "pool3 = BatchNormalization()(pool3)\n",
    "\n",
    "conv4 = Conv2D(256, (3, 3), activation='relu', padding='same')(pool3)\n",
    "pool4 = MaxPooling2D(pool_size=(2, 2))(conv4)\n",
    "#pool4 = Dropout(0.25)(pool4)\n",
    "pool4 = BatchNormalization()(pool4)\n",
    "\n",
    "# Add spatial attention to CNN features\n",
    "cnn_attention = Conv2D(1, (1, 1), activation='sigmoid')(pool4)\n",
    "attended_features = Multiply()([pool4, cnn_attention])\n",
    "\n",
    "cnn_flatten = Flatten()(attended_features)\n",
    "\n",
    "# Load pre-trained VGG16 model\n",
    "vgg16_base = VGG16(weights='imagenet', include_top=False, input_shape=(imagesize, imagesize, 3))\n",
    "\n",
    "# Freeze the weights of the VGG16 layers\n",
    "for layer in vgg16_base.layers:\n",
    "    layer.trainable = False\n",
    "\n",
    "#--------------pipeline2:VGG--------------------------------\n",
    "vgg16_features = vgg16_base(image_input)\n",
    "\n",
    "# Add spatial attention to VGG16 features\n",
    "attention = Conv2D(1, (1, 1), activation='sigmoid')(vgg16_features)\n",
    "attended_features = Multiply()([vgg16_features, attention])\n",
    "\n",
    "# Flatten the attended features\n",
    "vgg_flatten = Flatten()(attended_features)\n",
    "\n",
    "#----------local fusion---------------\n",
    "merged_features = Concatenate()([cnn_flatten, vgg_flatten])\n",
    "\n",
    "# Apply the rest of the model layers\n",
    "merged = Dense(256, activation='relu')(merged_features)\n",
    "merged = Dropout(0.5)(merged)\n",
    "image_output = Dense(3, activation='relu', kernel_regularizer=regularizers.l2(0.05))(merged)\n",
    "\n",
    "print(imageclassifier)"
   ]
  },
  {
   "cell_type": "markdown",
   "id": "f723523a",
   "metadata": {},
   "source": [
    "# Fusion"
   ]
  },
  {
   "cell_type": "code",
   "execution_count": 258,
   "id": "47e402c0",
   "metadata": {},
   "outputs": [
    {
     "name": "stdout",
     "output_type": "stream",
     "text": [
      "multi.txt\n",
      "Epoch 1/10\n",
      "244/244 [==============================] - 1441s 6s/step - loss: 1.5136 - accuracy: 0.7472 - val_loss: 0.7848 - val_accuracy: 0.7689\n",
      "Epoch 2/10\n",
      "244/244 [==============================] - 1737s 7s/step - loss: 0.7368 - accuracy: 0.7479 - val_loss: 0.7250 - val_accuracy: 0.7694\n",
      "Epoch 3/10\n",
      "244/244 [==============================] - 1500s 6s/step - loss: 0.6785 - accuracy: 0.7535 - val_loss: 0.6973 - val_accuracy: 0.7694\n",
      "Epoch 4/10\n",
      "244/244 [==============================] - 1377s 6s/step - loss: 0.6315 - accuracy: 0.7687 - val_loss: 0.7177 - val_accuracy: 0.7735\n",
      "Epoch 5/10\n",
      "244/244 [==============================] - 1451s 6s/step - loss: 0.6141 - accuracy: 0.7721 - val_loss: 0.7192 - val_accuracy: 0.7750\n",
      "Epoch 6/10\n",
      "244/244 [==============================] - 1363s 6s/step - loss: 0.5912 - accuracy: 0.7749 - val_loss: 0.7535 - val_accuracy: 0.7678\n",
      "Epoch 7/10\n",
      "244/244 [==============================] - 1679s 7s/step - loss: 0.5678 - accuracy: 0.7812 - val_loss: 0.7970 - val_accuracy: 0.7632\n",
      "Epoch 8/10\n",
      "244/244 [==============================] - 1813s 7s/step - loss: 0.5364 - accuracy: 0.7940 - val_loss: 0.8357 - val_accuracy: 0.7499\n",
      "Epoch 9/10\n",
      "244/244 [==============================] - 1766s 7s/step - loss: 0.5086 - accuracy: 0.8036 - val_loss: 0.8405 - val_accuracy: 0.7483\n",
      "Epoch 10/10\n",
      "244/244 [==============================] - 1647s 7s/step - loss: 0.4801 - accuracy: 0.8151 - val_loss: 0.9124 - val_accuracy: 0.7555\n",
      "61/61 [==============================] - 87s 1s/step - loss: 0.9130 - accuracy: 0.7302\n",
      "Test accuracy: 0.730215847492218\n"
     ]
    }
   ],
   "source": [
    "from keras.optimizers import Adam, Adagrad, RMSprop\n",
    "from keras import backend as K\n",
    "from keras import metrics\n",
    "\n",
    "#----------Global fusion---------------\n",
    "concatenated = Concatenate()([text_output, image_output])\n",
    "# Final output layers\n",
    "output = Dense(3, activation='softmax', kernel_regularizer=regularizers.l2(0.05))(concatenated)\n",
    "model = Model(inputs=[text_input, image_input], outputs=output)\n",
    "print(file_path)\n",
    "\n",
    "# Compile the model\n",
    "optimizer = Adam(learning_rate=1e-3)\n",
    "model.compile(loss='categorical_crossentropy', optimizer=optimizer, metrics=['accuracy'])\n",
    "\n",
    "# Train the model\n",
    "history = model.fit([X_train_text, X_train_image], y_train, \n",
    "                    validation_data=([X_val_text, X_val_image], y_val),\n",
    "                    epochs=10, \n",
    "                    batch_size=64)\n",
    "\n",
    "# Evaluate the model\n",
    "test_loss, test_acc = model.evaluate([X_test_text, X_test_image], y_test)\n",
    "print('Test accuracy:', test_acc)\n"
   ]
  },
  {
   "cell_type": "markdown",
   "id": "01897034",
   "metadata": {},
   "source": [
    "# Metrics"
   ]
  },
  {
   "cell_type": "code",
   "execution_count": 259,
   "id": "215b8140",
   "metadata": {},
   "outputs": [
    {
     "name": "stdout",
     "output_type": "stream",
     "text": [
      "61/61 [==============================] - 71s 1s/step\n",
      "image:VGG + CNN + Spatial Attention, Text:BiLSTM + ATT\n",
      "Classification Report:\n",
      "               precision    recall  f1-score   support\n",
      "\n",
      "           0     0.0377    0.0079    0.0130       254\n",
      "           1     0.7706    0.9405    0.8471      1461\n",
      "           2     0.4091    0.1948    0.2639       231\n",
      "\n",
      "    accuracy                         0.7302      1946\n",
      "   macro avg     0.4058    0.3810    0.3747      1946\n",
      "weighted avg     0.6320    0.7302    0.6690      1946\n",
      "\n"
     ]
    }
   ],
   "source": [
    "from sklearn.metrics import classification_report\n",
    "import numpy as np\n",
    "\n",
    "# Make predictions on test data\n",
    "y_pred = model.predict([X_test_text, X_test_image])\n",
    "\n",
    "# Convert predictions and true labels to class indices\n",
    "y_pred_classes = np.argmax(y_pred, axis=1)\n",
    "y_true_classes = np.argmax(y_test, axis=1)\n",
    "\n",
    "# Generate classification report\n",
    "report = classification_report(y_true_classes, y_pred_classes, digits = 4)\n",
    "print(f\"image:{imageclassifier}, Text:{textclassifier}\")\n",
    "# Print the report\n",
    "print('Classification Report:\\n', report)\n"
   ]
  },
  {
   "cell_type": "markdown",
   "id": "17ea55bc",
   "metadata": {},
   "source": [
    "# LATE FUSION"
   ]
  },
  {
   "cell_type": "code",
   "execution_count": 260,
   "id": "078ad846",
   "metadata": {},
   "outputs": [
    {
     "name": "stdout",
     "output_type": "stream",
     "text": [
      "61/61 [==============================] - 76s 1s/step\n",
      "61/61 [==============================] - 78s 1s/step\n",
      "61/61 [==============================] - 53s 806ms/step\n",
      "61/61 [==============================] - 51s 833ms/step\n"
     ]
    }
   ],
   "source": [
    "#----------------image----------------\n",
    "image_feature_extractor = Model(inputs=image_input, outputs=image_output)\n",
    "\n",
    "val_image_features = image_feature_extractor.predict(X_val_image)\n",
    "test_image_features = image_feature_extractor.predict(X_test_image)\n",
    "\n",
    "#--------------text----------------\n",
    "text_feature_extractor = Model(inputs=text_input, outputs=text_output)\n",
    "\n",
    "val_text_features = text_feature_extractor.predict(X_val_text)\n",
    "test_text_features = text_feature_extractor.predict(X_test_text)\n",
    "\n",
    "#---------------combine----------------\n",
    "val_features = np.concatenate([val_image_features, val_text_features], axis=1)\n",
    "test_features = np.concatenate([test_image_features, test_text_features], axis=1)\n",
    "\n",
    "# one-hot encoded vectors if needed\n",
    "y_val_labels = y_val_polar #np.argmax(y_val_image, axis=1)\n",
    "y_test_labels = y_test_polar#np.argmax(y_test_image, axis=1)\n"
   ]
  },
  {
   "cell_type": "markdown",
   "id": "0a6f89e1",
   "metadata": {},
   "source": [
    "## XGB"
   ]
  },
  {
   "cell_type": "code",
   "execution_count": 261,
   "id": "a4f1c822",
   "metadata": {},
   "outputs": [
    {
     "name": "stdout",
     "output_type": "stream",
     "text": [
      "Late Fusion Test Accuracy: 75.28%\n",
      "              precision    recall  f1-score   support\n",
      "\n",
      "           0     0.4200    0.1818    0.2538       231\n",
      "           1     0.3103    0.0354    0.0636       254\n",
      "           2     0.7782    0.9678    0.8627      1461\n",
      "\n",
      "    accuracy                         0.7528      1946\n",
      "   macro avg     0.5029    0.3950    0.3934      1946\n",
      "weighted avg     0.6746    0.7528    0.6861      1946\n",
      "\n"
     ]
    }
   ],
   "source": [
    "import xgboost as xgb\n",
    "from sklearn.preprocessing import LabelEncoder\n",
    "\n",
    "# Encode the target variable\n",
    "label_encoder = LabelEncoder()\n",
    "y_val_labels_encoded = label_encoder.fit_transform(y_val_labels)\n",
    "y_test_labels_encoded = label_encoder.transform(y_test_labels)\n",
    "\n",
    "xgb_model = xgb.XGBClassifier(n_estimators=100, max_depth=3) #reg_lambda reg_alpha\n",
    "\n",
    "# Train the XGBoost model\n",
    "xgb_model.fit(val_features, y_val_labels_encoded)\n",
    "\n",
    "# Evaluate the model\n",
    "xgb_score = xgb_model.score(test_features, y_test_labels_encoded)\n",
    "print(\"Late Fusion Test Accuracy: {:.2f}%\".format(xgb_score * 100))\n",
    "\n",
    "y_pred = xgb_model.predict(test_features)\n",
    "\n",
    "# Print classification report\n",
    "print(classification_report(y_test_labels_encoded, y_pred, digits=4))"
   ]
  },
  {
   "cell_type": "markdown",
   "id": "86421f90",
   "metadata": {},
   "source": [
    "## Random Forest"
   ]
  },
  {
   "cell_type": "code",
   "execution_count": 300,
   "id": "0dbac44d",
   "metadata": {},
   "outputs": [
    {
     "name": "stdout",
     "output_type": "stream",
     "text": [
      "Late Fusion Test Accuracy: 74.97%\n",
      "              precision    recall  f1-score   support\n",
      "\n",
      "          -1     0.4038    0.1818    0.2507       231\n",
      "           0     0.3542    0.0669    0.1126       254\n",
      "           1     0.7804    0.9582    0.8602      1461\n",
      "\n",
      "    accuracy                         0.7497      1946\n",
      "   macro avg     0.5128    0.4023    0.4078      1946\n",
      "weighted avg     0.6801    0.7497    0.6903      1946\n",
      "\n"
     ]
    }
   ],
   "source": [
    "from sklearn.ensemble import RandomForestClassifier,GradientBoostingClassifier\n",
    "\n",
    "rf = RandomForestClassifier(n_estimators=230, max_depth=15)\n",
    "\n",
    "rf.fit(val_features, y_val_labels)\n",
    "rf_score = rf.score(test_features, y_test_labels)\n",
    "print(\"Late Fusion Test Accuracy: {:.2f}%\".format(rf_score * 100))\n",
    "#from sklearn.metrics import classification_report\n",
    "\n",
    "# Predict labels for test data\n",
    "y_pred = rf.predict(test_features)\n",
    "\n",
    "# Print classification report\n",
    "print(classification_report(y_test_labels, y_pred, digits=4))"
   ]
  },
  {
   "cell_type": "markdown",
   "id": "8896ec4d",
   "metadata": {},
   "source": [
    "## MLP"
   ]
  },
  {
   "cell_type": "code",
   "execution_count": 269,
   "id": "2a9e43dd",
   "metadata": {},
   "outputs": [
    {
     "name": "stdout",
     "output_type": "stream",
     "text": [
      "Late Fusion Test Accuracy: 75.23%\n",
      "              precision    recall  f1-score   support\n",
      "\n",
      "          -1     0.4177    0.1429    0.2129       231\n",
      "           0     0.0000    0.0000    0.0000       254\n",
      "           1     0.7665    0.9795    0.8600      1461\n",
      "\n",
      "    accuracy                         0.7523      1946\n",
      "   macro avg     0.3947    0.3741    0.3576      1946\n",
      "weighted avg     0.6250    0.7523    0.6709      1946\n",
      "\n"
     ]
    },
    {
     "name": "stderr",
     "output_type": "stream",
     "text": [
      "C:\\Users\\ausco\\anaconda3\\lib\\site-packages\\sklearn\\neural_network\\_multilayer_perceptron.py:500: ConvergenceWarning: lbfgs failed to converge (status=1):\n",
      "STOP: TOTAL NO. of ITERATIONS REACHED LIMIT.\n",
      "\n",
      "Increase the number of iterations (max_iter) or scale the data as shown in:\n",
      "    https://scikit-learn.org/stable/modules/preprocessing.html\n",
      "  self.n_iter_ = _check_optimize_result(\"lbfgs\", opt_res, self.max_iter)\n",
      "C:\\Users\\ausco\\anaconda3\\lib\\site-packages\\sklearn\\metrics\\_classification.py:1248: UndefinedMetricWarning: Precision and F-score are ill-defined and being set to 0.0 in labels with no predicted samples. Use `zero_division` parameter to control this behavior.\n",
      "  _warn_prf(average, modifier, msg_start, len(result))\n",
      "C:\\Users\\ausco\\anaconda3\\lib\\site-packages\\sklearn\\metrics\\_classification.py:1248: UndefinedMetricWarning: Precision and F-score are ill-defined and being set to 0.0 in labels with no predicted samples. Use `zero_division` parameter to control this behavior.\n",
      "  _warn_prf(average, modifier, msg_start, len(result))\n",
      "C:\\Users\\ausco\\anaconda3\\lib\\site-packages\\sklearn\\metrics\\_classification.py:1248: UndefinedMetricWarning: Precision and F-score are ill-defined and being set to 0.0 in labels with no predicted samples. Use `zero_division` parameter to control this behavior.\n",
      "  _warn_prf(average, modifier, msg_start, len(result))\n"
     ]
    }
   ],
   "source": [
    "from sklearn.neural_network import MLPClassifier\n",
    "from sklearn.metrics import classification_report\n",
    "\n",
    "# Create an MLP classifier\n",
    "mlp = MLPClassifier(hidden_layer_sizes=(256, 128), \n",
    "                    activation='relu', solver='lbfgs', learning_rate = 'invscaling')\n",
    "\n",
    "# Fit the classifier to the training data\n",
    "mlp.fit(val_features, y_val_labels)\n",
    "\n",
    "# Evaluate the classifier on the test data\n",
    "mlp_score = mlp.score(test_features, y_test_labels)\n",
    "print(\"Late Fusion Test Accuracy: {:.2f}%\".format(mlp_score * 100))\n",
    "\n",
    "# Predict labels for the test data\n",
    "y_pred = mlp.predict(test_features)\n",
    "\n",
    "# Print classification report\n",
    "print(classification_report(y_test_labels, y_pred, digits=4))"
   ]
  },
  {
   "cell_type": "code",
   "execution_count": 89,
   "id": "4107a134",
   "metadata": {},
   "outputs": [
    {
     "data": {
      "image/png": "[encoded data removed]",
      "text/plain": [
       "<Figure size 720x288 with 2 Axes>"
      ]
     },
     "metadata": {
      "needs_background": "light"
     },
     "output_type": "display_data"
    }
   ],
   "source": [
    "plot16.plot_hist(history, 'Multimodal Fusion')"
   ]
  },
  {
   "cell_type": "code",
   "execution_count": 201,
   "id": "cbf9d916",
   "metadata": {},
   "outputs": [
    {
     "name": "stdout",
     "output_type": "stream",
     "text": [
      "61/61 [==============================] - 54s 878ms/step\n"
     ]
    },
    {
     "data": {
      "image/png": "[encoded data removed]",
      "text/plain": [
       "<Figure size 576x432 with 1 Axes>"
      ]
     },
     "metadata": {
      "needs_background": "light"
     },
     "output_type": "display_data"
    }
   ],
   "source": [
    "X_test = [X_test_text, X_test_image]\n",
    "plot16.plot_roc(model, X_test, y_test)"
   ]
  }
 ],
 "metadata": {
  "kernelspec": {
   "display_name": "Python 3 (ipykernel)",
   "language": "python",
   "name": "python3"
  },
  "language_info": {
   "codemirror_mode": {
    "name": "ipython",
    "version": 3
   },
   "file_extension": ".py",
   "mimetype": "text/x-python",
   "name": "python",
   "nbconvert_exporter": "python",
   "pygments_lexer": "ipython3",
   "version": "3.9.7"
  }
 },
 "nbformat": 4,
 "nbformat_minor": 5
}
