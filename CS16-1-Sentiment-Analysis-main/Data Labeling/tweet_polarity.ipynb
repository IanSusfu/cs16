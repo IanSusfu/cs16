{
 "cells": [
  {
   "cell_type": "code",
   "execution_count": 22,
   "id": "452c9ada",
   "metadata": {},
   "outputs": [],
   "source": [
    "import numpy as np\n",
    "import pandas as pd\n",
    "df=pd.read_csv('cleaned_tweets_with_label.csv', encoding='utf8')"
   ]
  },
  {
   "cell_type": "code",
   "execution_count": 23,
   "id": "8cdfae4f",
   "metadata": {},
   "outputs": [],
   "source": [
    "from textblob import TextBlob\n",
    "# function to analyze the reviews\n",
    "def analysis(score):\n",
    "    if score < 0:\n",
    "        return 'Negative'\n",
    "    elif score == 0:\n",
    "        return 'Neutral'\n",
    "    else:\n",
    "        return 'Positive'\n",
    "    \n",
    "# TextBlob sentiment analysis\n",
    "df['textblob'] = df['text'].apply(lambda x:\n",
    "                                  TextBlob(str(x)).sentiment.polarity)\n",
    "\n",
    "# TextBlob sentiment analysis\n",
    "df['textblob_analysis'] = df['textblob'].apply(analysis)\n"
   ]
  },
  {
   "cell_type": "code",
   "execution_count": 24,
   "id": "a9a322a6",
   "metadata": {},
   "outputs": [],
   "source": [
    "from vaderSentiment.vaderSentiment import SentimentIntensityAnalyzer\n",
    "vader = SentimentIntensityAnalyzer()\n",
    "# VADER sentiment analysis\n",
    "df['vader'] = df['text'].apply(lambda x:\n",
    "                               vader.polarity_scores(str(x))['compound'])\n",
    "# function to calculate vader sentiment\n",
    "def vader_analysis(compound):\n",
    "    if compound >= 0.5:\n",
    "        return 'Positive'\n",
    "    elif compound <= -0.5 :\n",
    "        return 'Negative'\n",
    "    else:\n",
    "        return 'Neutral'\n",
    "\n",
    "df['vader_analysis'] = df['vader'].apply(vader_analysis)"
   ]
  },
  {
   "cell_type": "code",
   "execution_count": 25,
   "id": "bafe445f",
   "metadata": {},
   "outputs": [],
   "source": [
    "import nltk\n",
    "import ssl\n",
    "from nltk.corpus import wordnet as wn\n",
    "from nltk.corpus import sentiwordnet as swn\n",
    "from nltk.stem import WordNetLemmatizer\n",
    "from nltk.corpus import stopwords\n",
    "from nltk.tokenize import word_tokenize\n",
    "lemmatizer = WordNetLemmatizer()"
   ]
  },
  {
   "cell_type": "code",
   "execution_count": 26,
   "id": "098415f5",
   "metadata": {},
   "outputs": [],
   "source": [
    "pos=neg=obj=count=0\n",
    "\n",
    "postagging = []\n",
    "\n",
    "for review in df['text']:\n",
    "    list = word_tokenize(review)\n",
    "    postagging.append(nltk.pos_tag(list))\n",
    "\n",
    "df['pos_tags'] = postagging\n",
    "\n",
    "def penn_to_wn(tag):\n",
    "    if tag.startswith('J'):\n",
    "        return wn.ADJ\n",
    "    elif tag.startswith('N'):\n",
    "        return wn.NOUN\n",
    "    elif tag.startswith('R'):\n",
    "        return wn.ADV\n",
    "    elif tag.startswith('V'):\n",
    "        return wn.VERB\n",
    "    return None\n",
    "\n",
    "\n",
    "# Returns list of pos-neg and objective score. But returns empty list if not present in senti wordnet.\n",
    "def get_sentiment(word,tag):\n",
    "    wn_tag = penn_to_wn(tag)\n",
    "    \n",
    "    if wn_tag not in (wn.NOUN, wn.ADJ, wn.ADV):\n",
    "        return []\n",
    "\n",
    "    #Lemmatization\n",
    "    lemma = lemmatizer.lemmatize(word, pos=wn_tag)\n",
    "    if not lemma:\n",
    "        return []\n",
    "\n",
    "    #Synset is a special kind of a simple interface that is present in NLTK to look up words in WordNet. \n",
    "    #Synset instances are the groupings of synonymous words that express the same concept. \n",
    "    #Some of the words have only one Synset and some have several.\n",
    "    synsets = wn.synsets(word, pos=wn_tag)\n",
    "    if not synsets:\n",
    "        return []\n",
    "\n",
    "    # Take the first sense, the most common\n",
    "    synset = synsets[0]\n",
    "    swn_synset = swn.senti_synset(synset.name())\n",
    "\n",
    "    return [synset.name(), swn_synset.pos_score(),swn_synset.neg_score(),swn_synset.obj_score()]\n",
    "\n",
    "    pos=neg=obj=count=0\n",
    "    \n",
    "    ###################################################################################\n",
    "senti_score = []\n",
    "\n",
    "for pos_val in df['pos_tags']:\n",
    "    senti_val = [get_sentiment(x,y) for (x,y) in pos_val]\n",
    "    for score in senti_val:\n",
    "        try:\n",
    "            pos = pos + score[1]  #positive score is stored at 2nd position\n",
    "            neg = neg + score[2]  #negative score is stored at 3rd position\n",
    "        except:\n",
    "            continue\n",
    "    senti_score.append(pos - neg)\n",
    "    pos=neg=0 \n",
    "df['senti_score'] = senti_score"
   ]
  },
  {
   "cell_type": "code",
   "execution_count": 27,
   "id": "c09e4ac6",
   "metadata": {},
   "outputs": [],
   "source": [
    "def sentiwordnet_analysis(sentiment):\n",
    "\n",
    "    if sentiment>0:\n",
    "        return \"Positive\"\n",
    "    if sentiment==0:\n",
    "        return \"Neutral\"\n",
    "    else:\n",
    "        return \"Negative\"\n",
    "df['senti_analysis'] = df['senti_score'].apply(sentiwordnet_analysis)"
   ]
  },
  {
   "cell_type": "code",
   "execution_count": 28,
   "id": "df37ffac",
   "metadata": {},
   "outputs": [
    {
     "data": {
      "text/plain": [
       "Positive    4384\n",
       "Neutral     3588\n",
       "Negative    2028\n",
       "Name: textblob_analysis, dtype: int64"
      ]
     },
     "execution_count": 28,
     "metadata": {},
     "output_type": "execute_result"
    }
   ],
   "source": [
    "#count the number of textblob\n",
    "tb_counts = df.textblob_analysis.value_counts()\n",
    "tb_counts"
   ]
  },
  {
   "cell_type": "code",
   "execution_count": 29,
   "id": "992e34f1",
   "metadata": {},
   "outputs": [
    {
     "data": {
      "text/plain": [
       "Neutral     6181\n",
       "Positive    2734\n",
       "Negative    1085\n",
       "Name: vader_analysis, dtype: int64"
      ]
     },
     "execution_count": 29,
     "metadata": {},
     "output_type": "execute_result"
    }
   ],
   "source": [
    "#count the number of vader\n",
    "vader_counts = df.vader_analysis.value_counts()\n",
    "vader_counts"
   ]
  },
  {
   "cell_type": "code",
   "execution_count": 30,
   "id": "36c7179e",
   "metadata": {},
   "outputs": [
    {
     "data": {
      "text/plain": [
       "Positive    3748\n",
       "Neutral     3371\n",
       "Negative    2881\n",
       "Name: senti_analysis, dtype: int64"
      ]
     },
     "execution_count": 30,
     "metadata": {},
     "output_type": "execute_result"
    }
   ],
   "source": [
    "#count the number of sentiwordnet\n",
    "senti_counts = df.senti_analysis.value_counts()\n",
    "senti_counts"
   ]
  },
  {
   "cell_type": "code",
   "execution_count": 31,
   "id": "538800d0",
   "metadata": {},
   "outputs": [
    {
     "data": {
      "text/plain": [
       "([<matplotlib.patches.Wedge at 0x7f8854d38820>,\n",
       "  <matplotlib.patches.Wedge at 0x7f8854d38fd0>,\n",
       "  <matplotlib.patches.Wedge at 0x7f8854d47790>],\n",
       " [Text(0.42159024296671327, 1.0160027888914813, 'Positive'),\n",
       "  Text(-1.0594478473771793, -0.29592272418295457, 'Neutral'),\n",
       "  Text(0.8337769457941705, -1.0617513855240055, 'Negative')],\n",
       " [Text(0.22995831434547995, 0.5541833393953534, '37.5%'),\n",
       "  Text(-0.5778806440239159, -0.1614123950088843, '33.7%'),\n",
       "  Text(0.5249706695741073, -0.6685101316262256, '28.8%')])"
      ]
     },
     "execution_count": 31,
     "metadata": {},
     "output_type": "execute_result"
    },
    {
     "data": {
      "image/png": "[encoded data removed]",
      "text/plain": [
       "<Figure size 1080x504 with 3 Axes>"
      ]
     },
     "metadata": {},
     "output_type": "display_data"
    }
   ],
   "source": [
    "import matplotlib.pyplot as plt\n",
    "%matplotlib inline\n",
    "plt.figure(figsize=(15,7))\n",
    "plt.subplot(1,3,1)\n",
    "plt.title(\"TextBlob results\")\n",
    "plt.pie(tb_counts.values, labels = tb_counts.index, explode = (0, 0, 0.25), autopct='%1.1f%%', shadow=False)\n",
    "plt.subplot(1,3,2)\n",
    "plt.title(\"VADER results\")\n",
    "plt.pie(vader_counts.values, labels = vader_counts.index, explode = (0, 0, 0.25), autopct='%1.1f%%', shadow=False)\n",
    "plt.subplot(1,3,3)\n",
    "plt.title(\"SentiWordNet results\")\n",
    "plt.pie(senti_counts.values, labels = senti_counts.index, explode = (0, 0, 0.25), autopct='%1.1f%%', shadow=False)"
   ]
  },
  {
   "cell_type": "code",
   "execution_count": 32,
   "id": "2fffa3b0",
   "metadata": {},
   "outputs": [],
   "source": [
    "df['result'] = df.apply(lambda x: x.textblob_analysis == x.vader_analysis == x.senti_analysis, axis = 1)"
   ]
  },
  {
   "cell_type": "code",
   "execution_count": 33,
   "id": "75491ea6",
   "metadata": {},
   "outputs": [
    {
     "data": {
      "text/html": [
       "<div>\n",
       "<style scoped>\n",
       "    .dataframe tbody tr th:only-of-type {\n",
       "        vertical-align: middle;\n",
       "    }\n",
       "\n",
       "    .dataframe tbody tr th {\n",
       "        vertical-align: top;\n",
       "    }\n",
       "\n",
       "    .dataframe thead th {\n",
       "        text-align: right;\n",
       "    }\n",
       "</style>\n",
       "<table border=\"1\" class=\"dataframe\">\n",
       "  <thead>\n",
       "    <tr style=\"text-align: right;\">\n",
       "      <th></th>\n",
       "      <th>Unnamed: 0</th>\n",
       "      <th>Unnamed: 0.1</th>\n",
       "      <th>rating</th>\n",
       "      <th>id</th>\n",
       "      <th>date</th>\n",
       "      <th>flag</th>\n",
       "      <th>user</th>\n",
       "      <th>text</th>\n",
       "      <th>tidy_tweet</th>\n",
       "      <th>textblob</th>\n",
       "      <th>textblob_analysis</th>\n",
       "      <th>vader</th>\n",
       "      <th>vader_analysis</th>\n",
       "      <th>pos_tags</th>\n",
       "      <th>senti_score</th>\n",
       "      <th>senti_analysis</th>\n",
       "      <th>result</th>\n",
       "    </tr>\n",
       "  </thead>\n",
       "  <tbody>\n",
       "    <tr>\n",
       "      <th>0</th>\n",
       "      <td>0</td>\n",
       "      <td>894059</td>\n",
       "      <td>1</td>\n",
       "      <td>1692137234</td>\n",
       "      <td>Sun May 03 19:21:16 PDT 2009</td>\n",
       "      <td>NO_QUERY</td>\n",
       "      <td>cariquinn</td>\n",
       "      <td>@NZSoulGirl Hey there! Yum...sangria! And snor...</td>\n",
       "      <td>hey snorkel sound amaze glad fun</td>\n",
       "      <td>0.491667</td>\n",
       "      <td>Positive</td>\n",
       "      <td>0.8996</td>\n",
       "      <td>Positive</td>\n",
       "      <td>[(@, JJ), (NZSoulGirl, NNP), (Hey, NNP), (ther...</td>\n",
       "      <td>0.375</td>\n",
       "      <td>Positive</td>\n",
       "      <td>True</td>\n",
       "    </tr>\n",
       "    <tr>\n",
       "      <th>1</th>\n",
       "      <td>1</td>\n",
       "      <td>1467016</td>\n",
       "      <td>1</td>\n",
       "      <td>2064555259</td>\n",
       "      <td>Sun Jun 07 06:35:08 PDT 2009</td>\n",
       "      <td>NO_QUERY</td>\n",
       "      <td>Nigel_Derbyfan</td>\n",
       "      <td>Enjoyed that. Now for Sunday dinner</td>\n",
       "      <td>enjoy sunday dinner</td>\n",
       "      <td>0.500000</td>\n",
       "      <td>Positive</td>\n",
       "      <td>0.5106</td>\n",
       "      <td>Positive</td>\n",
       "      <td>[(Enjoyed, VBN), (that, IN), (., .), (Now, RB)...</td>\n",
       "      <td>0.000</td>\n",
       "      <td>Neutral</td>\n",
       "      <td>False</td>\n",
       "    </tr>\n",
       "    <tr>\n",
       "      <th>2</th>\n",
       "      <td>2</td>\n",
       "      <td>1150195</td>\n",
       "      <td>1</td>\n",
       "      <td>1978427680</td>\n",
       "      <td>Sat May 30 23:19:31 PDT 2009</td>\n",
       "      <td>NO_QUERY</td>\n",
       "      <td>YoungmoneyReef</td>\n",
       "      <td>show was awesome vegas, u made the last night ...</td>\n",
       "      <td>show awesome vega make last night tour memorable</td>\n",
       "      <td>0.500000</td>\n",
       "      <td>Positive</td>\n",
       "      <td>0.6249</td>\n",
       "      <td>Positive</td>\n",
       "      <td>[(show, NN), (was, VBD), (awesome, JJ), (vegas...</td>\n",
       "      <td>0.625</td>\n",
       "      <td>Positive</td>\n",
       "      <td>True</td>\n",
       "    </tr>\n",
       "    <tr>\n",
       "      <th>3</th>\n",
       "      <td>3</td>\n",
       "      <td>1274449</td>\n",
       "      <td>1</td>\n",
       "      <td>2000971003</td>\n",
       "      <td>Mon Jun 01 23:28:13 PDT 2009</td>\n",
       "      <td>NO_QUERY</td>\n",
       "      <td>DoreenCotinola</td>\n",
       "      <td>@DKA34 Damon welcome to twitter Nation!</td>\n",
       "      <td>damon welcome twitter nation</td>\n",
       "      <td>1.000000</td>\n",
       "      <td>Positive</td>\n",
       "      <td>0.5093</td>\n",
       "      <td>Positive</td>\n",
       "      <td>[(@, JJ), (DKA34, NNP), (Damon, NNP), (welcome...</td>\n",
       "      <td>0.250</td>\n",
       "      <td>Positive</td>\n",
       "      <td>True</td>\n",
       "    </tr>\n",
       "    <tr>\n",
       "      <th>4</th>\n",
       "      <td>4</td>\n",
       "      <td>620938</td>\n",
       "      <td>0</td>\n",
       "      <td>2228589656</td>\n",
       "      <td>Thu Jun 18 14:37:57 PDT 2009</td>\n",
       "      <td>NO_QUERY</td>\n",
       "      <td>tmac_82</td>\n",
       "      <td>@teemwilliams &amp;amp; @dc3plusme: I thought I fo...</td>\n",
       "      <td>think find mine leave guy think well</td>\n",
       "      <td>0.250000</td>\n",
       "      <td>Positive</td>\n",
       "      <td>0.5927</td>\n",
       "      <td>Positive</td>\n",
       "      <td>[(@, NNP), (teemwilliams, NNP), (&amp;, CC), (amp,...</td>\n",
       "      <td>0.875</td>\n",
       "      <td>Positive</td>\n",
       "      <td>True</td>\n",
       "    </tr>\n",
       "  </tbody>\n",
       "</table>\n",
       "</div>"
      ],
      "text/plain": [
       "   Unnamed: 0  Unnamed: 0.1  rating          id                          date  \\\n",
       "0           0        894059       1  1692137234  Sun May 03 19:21:16 PDT 2009   \n",
       "1           1       1467016       1  2064555259  Sun Jun 07 06:35:08 PDT 2009   \n",
       "2           2       1150195       1  1978427680  Sat May 30 23:19:31 PDT 2009   \n",
       "3           3       1274449       1  2000971003  Mon Jun 01 23:28:13 PDT 2009   \n",
       "4           4        620938       0  2228589656  Thu Jun 18 14:37:57 PDT 2009   \n",
       "\n",
       "       flag            user  \\\n",
       "0  NO_QUERY       cariquinn   \n",
       "1  NO_QUERY  Nigel_Derbyfan   \n",
       "2  NO_QUERY  YoungmoneyReef   \n",
       "3  NO_QUERY  DoreenCotinola   \n",
       "4  NO_QUERY         tmac_82   \n",
       "\n",
       "                                                text  \\\n",
       "0  @NZSoulGirl Hey there! Yum...sangria! And snor...   \n",
       "1               Enjoyed that. Now for Sunday dinner    \n",
       "2  show was awesome vegas, u made the last night ...   \n",
       "3          @DKA34 Damon welcome to twitter Nation!     \n",
       "4  @teemwilliams &amp; @dc3plusme: I thought I fo...   \n",
       "\n",
       "                                         tidy_tweet  textblob  \\\n",
       "0                  hey snorkel sound amaze glad fun  0.491667   \n",
       "1                               enjoy sunday dinner  0.500000   \n",
       "2  show awesome vega make last night tour memorable  0.500000   \n",
       "3                      damon welcome twitter nation  1.000000   \n",
       "4              think find mine leave guy think well  0.250000   \n",
       "\n",
       "  textblob_analysis   vader vader_analysis  \\\n",
       "0          Positive  0.8996       Positive   \n",
       "1          Positive  0.5106       Positive   \n",
       "2          Positive  0.6249       Positive   \n",
       "3          Positive  0.5093       Positive   \n",
       "4          Positive  0.5927       Positive   \n",
       "\n",
       "                                            pos_tags  senti_score  \\\n",
       "0  [(@, JJ), (NZSoulGirl, NNP), (Hey, NNP), (ther...        0.375   \n",
       "1  [(Enjoyed, VBN), (that, IN), (., .), (Now, RB)...        0.000   \n",
       "2  [(show, NN), (was, VBD), (awesome, JJ), (vegas...        0.625   \n",
       "3  [(@, JJ), (DKA34, NNP), (Damon, NNP), (welcome...        0.250   \n",
       "4  [(@, NNP), (teemwilliams, NNP), (&, CC), (amp,...        0.875   \n",
       "\n",
       "  senti_analysis  result  \n",
       "0       Positive    True  \n",
       "1        Neutral   False  \n",
       "2       Positive    True  \n",
       "3       Positive    True  \n",
       "4       Positive    True  "
      ]
     },
     "execution_count": 33,
     "metadata": {},
     "output_type": "execute_result"
    }
   ],
   "source": [
    "df.head()"
   ]
  },
  {
   "cell_type": "code",
   "execution_count": 34,
   "id": "0470a4f4",
   "metadata": {},
   "outputs": [
    {
     "data": {
      "text/plain": [
       "False    6123\n",
       "True     3877\n",
       "Name: result, dtype: int64"
      ]
     },
     "execution_count": 34,
     "metadata": {},
     "output_type": "execute_result"
    }
   ],
   "source": [
    "false_text_count = df.result.value_counts()\n",
    "false_text_count"
   ]
  },
  {
   "cell_type": "code",
   "execution_count": 35,
   "id": "5f60bcd0",
   "metadata": {},
   "outputs": [],
   "source": [
    "df.to_csv(\"tweets_polarity.csv\")"
   ]
  },
  {
   "cell_type": "code",
   "execution_count": null,
   "id": "069c25ef",
   "metadata": {},
   "outputs": [],
   "source": []
  }
 ],
 "metadata": {
  "kernelspec": {
   "display_name": "Python 3 (ipykernel)",
   "language": "python",
   "name": "python3"
  },
  "language_info": {
   "codemirror_mode": {
    "name": "ipython",
    "version": 3
   },
   "file_extension": ".py",
   "mimetype": "text/x-python",
   "name": "python",
   "nbconvert_exporter": "python",
   "pygments_lexer": "ipython3",
   "version": "3.9.7"
  }
 },
 "nbformat": 4,
 "nbformat_minor": 5
}
