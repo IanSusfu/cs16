{
 "cells": [
  {
   "cell_type": "code",
   "execution_count": 22,
   "id": "dbd71761",
   "metadata": {},
   "outputs": [],
   "source": [
    "# Modified based on Sub-Task-1 (Shi Su and Yuqi Sun)'s code by Jiahe Song\n",
    "import pandas as pd\n",
    "import nltk"
   ]
  },
  {
   "cell_type": "code",
   "execution_count": 23,
   "outputs": [],
   "source": [
    "# Load data\n",
    "df_orig = pd.read_csv('twitter_validation.csv', names=[\"Twitter ID\",\"Topic\",\"Sentiment\",\"Text\"])"
   ],
   "metadata": {
    "collapsed": false
   }
  },
  {
   "cell_type": "code",
   "execution_count": 24,
   "outputs": [
    {
     "data": {
      "text/plain": "     Twitter ID                Topic Sentiment  \\\n0          3364             Facebook   Neutral   \n1           352               Amazon   Neutral   \n2          8312            Microsoft  Negative   \n3          4371                CS-GO  Negative   \n4          4433               Google   Neutral   \n..          ...                  ...       ...   \n995        4891  GrandTheftAuto(GTA)   Neutral   \n996        4359                CS-GO   Neutral   \n997        2652          Borderlands  Positive   \n998        8069            Microsoft  Positive   \n999        6960      johnson&johnson   Neutral   \n\n                                                  Text  \n0    I mentioned on Facebook that I was struggling ...  \n1    BBC News - Amazon boss Jeff Bezos rejects clai...  \n2    @user Why do I pay for WORD when it functions ...  \n3    CSGO matchmaking is so full of closet hacking,...  \n4    Now the President is slapping Americans in the...  \n..                                                 ...  \n995  ⭐️ Toronto is the arts and culture capital of ...  \n996  tHIS IS ACTUALLY A GOOD MOVE TOT BRING MORE VI...  \n997  Today sucked so it’s time to drink wine n play...  \n998  Bought a fraction of Microsoft today. Small wins.  \n999  Johnson & Johnson to stop selling talc baby po...  \n\n[1000 rows x 4 columns]",
      "text/html": "<div>\n<style scoped>\n    .dataframe tbody tr th:only-of-type {\n        vertical-align: middle;\n    }\n\n    .dataframe tbody tr th {\n        vertical-align: top;\n    }\n\n    .dataframe thead th {\n        text-align: right;\n    }\n</style>\n<table border=\"1\" class=\"dataframe\">\n  <thead>\n    <tr style=\"text-align: right;\">\n      <th></th>\n      <th>Twitter ID</th>\n      <th>Topic</th>\n      <th>Sentiment</th>\n      <th>Text</th>\n    </tr>\n  </thead>\n  <tbody>\n    <tr>\n      <th>0</th>\n      <td>3364</td>\n      <td>Facebook</td>\n      <td>Neutral</td>\n      <td>I mentioned on Facebook that I was struggling ...</td>\n    </tr>\n    <tr>\n      <th>1</th>\n      <td>352</td>\n      <td>Amazon</td>\n      <td>Neutral</td>\n      <td>BBC News - Amazon boss Jeff Bezos rejects clai...</td>\n    </tr>\n    <tr>\n      <th>2</th>\n      <td>8312</td>\n      <td>Microsoft</td>\n      <td>Negative</td>\n      <td>@user Why do I pay for WORD when it functions ...</td>\n    </tr>\n    <tr>\n      <th>3</th>\n      <td>4371</td>\n      <td>CS-GO</td>\n      <td>Negative</td>\n      <td>CSGO matchmaking is so full of closet hacking,...</td>\n    </tr>\n    <tr>\n      <th>4</th>\n      <td>4433</td>\n      <td>Google</td>\n      <td>Neutral</td>\n      <td>Now the President is slapping Americans in the...</td>\n    </tr>\n    <tr>\n      <th>...</th>\n      <td>...</td>\n      <td>...</td>\n      <td>...</td>\n      <td>...</td>\n    </tr>\n    <tr>\n      <th>995</th>\n      <td>4891</td>\n      <td>GrandTheftAuto(GTA)</td>\n      <td>Neutral</td>\n      <td>⭐️ Toronto is the arts and culture capital of ...</td>\n    </tr>\n    <tr>\n      <th>996</th>\n      <td>4359</td>\n      <td>CS-GO</td>\n      <td>Neutral</td>\n      <td>tHIS IS ACTUALLY A GOOD MOVE TOT BRING MORE VI...</td>\n    </tr>\n    <tr>\n      <th>997</th>\n      <td>2652</td>\n      <td>Borderlands</td>\n      <td>Positive</td>\n      <td>Today sucked so it’s time to drink wine n play...</td>\n    </tr>\n    <tr>\n      <th>998</th>\n      <td>8069</td>\n      <td>Microsoft</td>\n      <td>Positive</td>\n      <td>Bought a fraction of Microsoft today. Small wins.</td>\n    </tr>\n    <tr>\n      <th>999</th>\n      <td>6960</td>\n      <td>johnson&amp;johnson</td>\n      <td>Neutral</td>\n      <td>Johnson &amp; Johnson to stop selling talc baby po...</td>\n    </tr>\n  </tbody>\n</table>\n<p>1000 rows × 4 columns</p>\n</div>"
     },
     "execution_count": 24,
     "metadata": {},
     "output_type": "execute_result"
    }
   ],
   "source": [
    "# Control size of data set\n",
    "df = df_orig.iloc[0:1000]\n",
    "\n",
    "# Preprocessing (delete username and url)\n",
    "def preprocess(text):\n",
    "    temp = []\n",
    "\n",
    "    for t in text.split(\" \"): # split a sentence into words by spaces \" \".\n",
    "        t = '@user' if t.startswith('@') and len(t) > 1 else t\n",
    "        t = 'http' if t.startswith('http') else t\n",
    "        temp.append(t)\n",
    "    return \" \".join(temp)\n",
    "\n",
    "# Change Irrelevant label into Neutral as mentioned in the data set description.\n",
    "def adjust_ori_sentiment(sentiment):\n",
    "    if sentiment == \"Irrelevant\":\n",
    "        temp_str = \"Neutral\"\n",
    "        return temp_str\n",
    "    else:\n",
    "        return sentiment\n",
    "\n",
    "df['Text'] = df['Text'].apply(preprocess)\n",
    "df['Sentiment'] = df['Sentiment'].apply(adjust_ori_sentiment)\n",
    "df"
   ],
   "metadata": {
    "collapsed": false
   }
  },
  {
   "cell_type": "code",
   "execution_count": 25,
   "outputs": [],
   "source": [
    "df_text = df[\"Text\"]"
   ],
   "metadata": {
    "collapsed": false
   }
  },
  {
   "cell_type": "code",
   "execution_count": 26,
   "id": "0ef7f508",
   "metadata": {},
   "outputs": [
    {
     "data": {
      "text/plain": "Neutral     457\nPositive    277\nNegative    266\nName: Sentiment, dtype: int64"
     },
     "execution_count": 26,
     "metadata": {},
     "output_type": "execute_result"
    }
   ],
   "source": [
    "df['Sentiment'].value_counts()"
   ]
  },
  {
   "cell_type": "code",
   "execution_count": 27,
   "id": "f4659cef",
   "metadata": {},
   "outputs": [
    {
     "name": "stdout",
     "output_type": "stream",
     "text": [
      "the: 540\n",
      "@user: 462\n",
      "to: 409\n",
      "and: 371\n",
      "a: 363\n",
      "I: 308\n",
      "of: 282\n",
      "is: 269\n",
      "for: 225\n",
      "in: 199\n"
     ]
    }
   ],
   "source": [
    "from collections import Counter\n",
    "\n",
    "words = df['Text'].str.split(\" \")\n",
    "word_counts = Counter(word for sentence in words for word in sentence)\n",
    "top_words = word_counts.most_common(10)\n",
    "\n",
    "# Print the top 10 most common words\n",
    "for word, count in top_words:\n",
    "    print(f'{word}: {count}')"
   ]
  },
  {
   "cell_type": "code",
   "execution_count": 28,
   "id": "ec719709",
   "metadata": {},
   "outputs": [
    {
     "data": {
      "text/plain": "0      i mentioned on facebook that i was struggling ...\n1      bbc news - amazon boss jeff bezos rejects clai...\n2      @user why do i pay for word when it functions ...\n3      csgo matchmaking is so full of closet hacking,...\n4      now the president is slapping americans in the...\n                             ...                        \n995    ⭐️ toronto is the arts and culture capital of ...\n996    this is actually a good move tot bring more vi...\n997    today sucked so it’s time to drink wine n play...\n998    bought a fraction of microsoft today. small wins.\n999    johnson & johnson to stop selling talc baby po...\nName: Text, Length: 1000, dtype: object"
     },
     "execution_count": 28,
     "metadata": {},
     "output_type": "execute_result"
    }
   ],
   "source": [
    "# Lower case\n",
    "df_text = df_text.str.lower()\n",
    "df_text"
   ]
  },
  {
   "cell_type": "code",
   "execution_count": 29,
   "id": "7a47e1ab",
   "metadata": {},
   "outputs": [],
   "source": [
    "## remove retweet\n",
    "df_text = df_text.str.replace('@[\\w]*', '', regex=True)\n",
    "\n",
    "## remove &amp &quot &lt\n",
    "df_text = df_text.str.replace('&\\S+', '', regex=True)"
   ]
  },
  {
   "cell_type": "code",
   "execution_count": 30,
   "outputs": [
    {
     "data": {
      "text/plain": "0      i mentioned on facebook that i was struggling ...\n1      bbc news - amazon boss jeff bezos rejects clai...\n2       why do i pay for word when it functions so po...\n3      csgo matchmaking is so full of closet hacking,...\n4      now the president is slapping americans in the...\n                             ...                        \n995    ⭐️ toronto is the arts and culture capital of ...\n996    this is actually a good move tot bring more vi...\n997    today sucked so it’s time to drink wine n play...\n998    bought a fraction of microsoft today. small wins.\n999    johnson & johnson to stop selling talc baby po...\nName: Text, Length: 1000, dtype: object"
     },
     "execution_count": 30,
     "metadata": {},
     "output_type": "execute_result"
    }
   ],
   "source": [
    "df_text"
   ],
   "metadata": {
    "collapsed": false
   }
  },
  {
   "cell_type": "code",
   "execution_count": 31,
   "id": "929c1688",
   "metadata": {},
   "outputs": [],
   "source": [
    "### remove punctuations"
   ]
  },
  {
   "cell_type": "code",
   "execution_count": 32,
   "id": "75cb250e",
   "metadata": {},
   "outputs": [
    {
     "data": {
      "text/plain": "0      i mentioned on facebook that i was struggling ...\n1      bbc news  amazon boss jeff bezos rejects claim...\n2       why do i pay for word when it functions so po...\n3      csgo matchmaking is so full of closet hacking ...\n4      now the president is slapping americans in the...\n                             ...                        \n995    ⭐️ toronto is the arts and culture capital of ...\n996    this is actually a good move tot bring more vi...\n997    today sucked so it’s time to drink wine n play...\n998      bought a fraction of microsoft today small wins\n999    johnson  johnson to stop selling talc baby pow...\nName: Text, Length: 1000, dtype: object"
     },
     "execution_count": 32,
     "metadata": {},
     "output_type": "execute_result"
    }
   ],
   "source": [
    "import string\n",
    "def remove_punctuation(text):\n",
    "    # Remove punctuation using the `translate` method of strings\n",
    "    translator = str.maketrans('', '', string.punctuation)\n",
    "    text = text.translate(translator)\n",
    "    return text\n",
    "df_text = df_text.apply(remove_punctuation)\n",
    "df_text"
   ]
  },
  {
   "cell_type": "code",
   "execution_count": 33,
   "id": "b95b044d",
   "metadata": {},
   "outputs": [],
   "source": [
    "## remove stop words"
   ]
  },
  {
   "cell_type": "code",
   "execution_count": 34,
   "outputs": [
    {
     "name": "stderr",
     "output_type": "stream",
     "text": [
      "[nltk_data] Downloading package stopwords to\n",
      "[nltk_data]     C:\\Users\\Song\\AppData\\Roaming\\nltk_data...\n",
      "[nltk_data]   Package stopwords is already up-to-date!\n"
     ]
    },
    {
     "data": {
      "text/plain": "True"
     },
     "execution_count": 34,
     "metadata": {},
     "output_type": "execute_result"
    }
   ],
   "source": [
    "nltk.download('stopwords')"
   ],
   "metadata": {
    "collapsed": false
   }
  },
  {
   "cell_type": "code",
   "execution_count": 35,
   "id": "b05e8003",
   "metadata": {},
   "outputs": [
    {
     "data": {
      "text/plain": "0      mentioned facebook struggling motivation go ru...\n1      bbc news amazon boss jeff bezos rejects claims...\n2                 pay word functions poorly chromebook 🙄\n3      csgo matchmaking full closet hacking truly awf...\n4      president slapping americans face really commi...\n                             ...                        \n995    ⭐️ toronto arts culture capital canada it’s wo...\n996    actually good move tot bring viewers one peopl...\n997    today sucked it’s time drink wine n play borde...\n998           bought fraction microsoft today small wins\n999    johnson johnson stop selling talc baby powder ...\nName: Text, Length: 1000, dtype: object"
     },
     "execution_count": 35,
     "metadata": {},
     "output_type": "execute_result"
    }
   ],
   "source": [
    "from nltk.corpus import stopwords\n",
    "stop_words = set(stopwords.words('english'))\n",
    "\n",
    "def remove_stop_words(text):\n",
    "    # Split the text into words\n",
    "    in_words = text.split()\n",
    "    # Remove stop words using the `set()` function and list comprehension\n",
    "    filtered_words = [word for word in in_words if word.lower() not in stop_words]\n",
    "    # Join the remaining words into a string\n",
    "    text = ' '.join(filtered_words)\n",
    "    return text\n",
    "\n",
    "# Apply the remove_stop_words function to each element in the Series\n",
    "df_text = df_text.apply(remove_stop_words)\n",
    "df_text"
   ]
  },
  {
   "cell_type": "code",
   "execution_count": 36,
   "id": "be7b569a",
   "metadata": {},
   "outputs": [
    {
     "data": {
      "text/plain": "     Twitter ID                Topic Sentiment  \\\n0          3364             Facebook   Neutral   \n1           352               Amazon   Neutral   \n2          8312            Microsoft  Negative   \n3          4371                CS-GO  Negative   \n4          4433               Google   Neutral   \n..          ...                  ...       ...   \n995        4891  GrandTheftAuto(GTA)   Neutral   \n996        4359                CS-GO   Neutral   \n997        2652          Borderlands  Positive   \n998        8069            Microsoft  Positive   \n999        6960      johnson&johnson   Neutral   \n\n                                                  Text  \\\n0    I mentioned on Facebook that I was struggling ...   \n1    BBC News - Amazon boss Jeff Bezos rejects clai...   \n2    @user Why do I pay for WORD when it functions ...   \n3    CSGO matchmaking is so full of closet hacking,...   \n4    Now the President is slapping Americans in the...   \n..                                                 ...   \n995  ⭐️ Toronto is the arts and culture capital of ...   \n996  tHIS IS ACTUALLY A GOOD MOVE TOT BRING MORE VI...   \n997  Today sucked so it’s time to drink wine n play...   \n998  Bought a fraction of Microsoft today. Small wins.   \n999  Johnson & Johnson to stop selling talc baby po...   \n\n                                             Tidy_Text  \n0    mentioned facebook struggling motivation go ru...  \n1    bbc news amazon boss jeff bezos rejects claims...  \n2               pay word functions poorly chromebook 🙄  \n3    csgo matchmaking full closet hacking truly awf...  \n4    president slapping americans face really commi...  \n..                                                 ...  \n995  ⭐️ toronto arts culture capital canada it’s wo...  \n996  actually good move tot bring viewers one peopl...  \n997  today sucked it’s time drink wine n play borde...  \n998         bought fraction microsoft today small wins  \n999  johnson johnson stop selling talc baby powder ...  \n\n[1000 rows x 5 columns]",
      "text/html": "<div>\n<style scoped>\n    .dataframe tbody tr th:only-of-type {\n        vertical-align: middle;\n    }\n\n    .dataframe tbody tr th {\n        vertical-align: top;\n    }\n\n    .dataframe thead th {\n        text-align: right;\n    }\n</style>\n<table border=\"1\" class=\"dataframe\">\n  <thead>\n    <tr style=\"text-align: right;\">\n      <th></th>\n      <th>Twitter ID</th>\n      <th>Topic</th>\n      <th>Sentiment</th>\n      <th>Text</th>\n      <th>Tidy_Text</th>\n    </tr>\n  </thead>\n  <tbody>\n    <tr>\n      <th>0</th>\n      <td>3364</td>\n      <td>Facebook</td>\n      <td>Neutral</td>\n      <td>I mentioned on Facebook that I was struggling ...</td>\n      <td>mentioned facebook struggling motivation go ru...</td>\n    </tr>\n    <tr>\n      <th>1</th>\n      <td>352</td>\n      <td>Amazon</td>\n      <td>Neutral</td>\n      <td>BBC News - Amazon boss Jeff Bezos rejects clai...</td>\n      <td>bbc news amazon boss jeff bezos rejects claims...</td>\n    </tr>\n    <tr>\n      <th>2</th>\n      <td>8312</td>\n      <td>Microsoft</td>\n      <td>Negative</td>\n      <td>@user Why do I pay for WORD when it functions ...</td>\n      <td>pay word functions poorly chromebook 🙄</td>\n    </tr>\n    <tr>\n      <th>3</th>\n      <td>4371</td>\n      <td>CS-GO</td>\n      <td>Negative</td>\n      <td>CSGO matchmaking is so full of closet hacking,...</td>\n      <td>csgo matchmaking full closet hacking truly awf...</td>\n    </tr>\n    <tr>\n      <th>4</th>\n      <td>4433</td>\n      <td>Google</td>\n      <td>Neutral</td>\n      <td>Now the President is slapping Americans in the...</td>\n      <td>president slapping americans face really commi...</td>\n    </tr>\n    <tr>\n      <th>...</th>\n      <td>...</td>\n      <td>...</td>\n      <td>...</td>\n      <td>...</td>\n      <td>...</td>\n    </tr>\n    <tr>\n      <th>995</th>\n      <td>4891</td>\n      <td>GrandTheftAuto(GTA)</td>\n      <td>Neutral</td>\n      <td>⭐️ Toronto is the arts and culture capital of ...</td>\n      <td>⭐️ toronto arts culture capital canada it’s wo...</td>\n    </tr>\n    <tr>\n      <th>996</th>\n      <td>4359</td>\n      <td>CS-GO</td>\n      <td>Neutral</td>\n      <td>tHIS IS ACTUALLY A GOOD MOVE TOT BRING MORE VI...</td>\n      <td>actually good move tot bring viewers one peopl...</td>\n    </tr>\n    <tr>\n      <th>997</th>\n      <td>2652</td>\n      <td>Borderlands</td>\n      <td>Positive</td>\n      <td>Today sucked so it’s time to drink wine n play...</td>\n      <td>today sucked it’s time drink wine n play borde...</td>\n    </tr>\n    <tr>\n      <th>998</th>\n      <td>8069</td>\n      <td>Microsoft</td>\n      <td>Positive</td>\n      <td>Bought a fraction of Microsoft today. Small wins.</td>\n      <td>bought fraction microsoft today small wins</td>\n    </tr>\n    <tr>\n      <th>999</th>\n      <td>6960</td>\n      <td>johnson&amp;johnson</td>\n      <td>Neutral</td>\n      <td>Johnson &amp; Johnson to stop selling talc baby po...</td>\n      <td>johnson johnson stop selling talc baby powder ...</td>\n    </tr>\n  </tbody>\n</table>\n<p>1000 rows × 5 columns</p>\n</div>"
     },
     "execution_count": 36,
     "metadata": {},
     "output_type": "execute_result"
    }
   ],
   "source": [
    "res_list = df_text.to_list()\n",
    "df['Tidy_Text'] = res_list\n",
    "df"
   ]
  },
  {
   "cell_type": "code",
   "execution_count": 37,
   "outputs": [],
   "source": [
    "df.to_csv('cleaned_tweets.csv')"
   ],
   "metadata": {
    "collapsed": false
   }
  },
  {
   "cell_type": "code",
   "execution_count": 37,
   "outputs": [],
   "source": [],
   "metadata": {
    "collapsed": false
   }
  }
 ],
 "metadata": {
  "kernelspec": {
   "display_name": "Python 3 (ipykernel)",
   "language": "python",
   "name": "python3"
  },
  "language_info": {
   "codemirror_mode": {
    "name": "ipython",
    "version": 3
   },
   "file_extension": ".py",
   "mimetype": "text/x-python",
   "name": "python",
   "nbconvert_exporter": "python",
   "pygments_lexer": "ipython3",
   "version": "3.8.8"
  }
 },
 "nbformat": 4,
 "nbformat_minor": 5
}
