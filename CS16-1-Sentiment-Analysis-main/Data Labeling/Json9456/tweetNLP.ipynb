{
 "cells": [
  {
   "cell_type": "code",
   "execution_count": 64,
   "metadata": {
    "collapsed": true
   },
   "outputs": [],
   "source": [
    "import tweetnlp\n",
    "import pandas as pd"
   ]
  },
  {
   "cell_type": "code",
   "execution_count": 65,
   "outputs": [
    {
     "name": "stderr",
     "output_type": "stream",
     "text": [
      "Some weights of the model checkpoint at cardiffnlp/twitter-roberta-base-sentiment-latest were not used when initializing RobertaForSequenceClassification: ['roberta.pooler.dense.weight', 'roberta.pooler.dense.bias']\n",
      "- This IS expected if you are initializing RobertaForSequenceClassification from the checkpoint of a model trained on another task or with another architecture (e.g. initializing a BertForSequenceClassification model from a BertForPreTraining model).\n",
      "- This IS NOT expected if you are initializing RobertaForSequenceClassification from the checkpoint of a model that you expect to be exactly identical (initializing a BertForSequenceClassification model from a BertForSequenceClassification model).\n"
     ]
    }
   ],
   "source": [
    "# load model\n",
    "model = tweetnlp.load_model('sentiment')  # Or `model = tweetnlp.Sentiment()`"
   ],
   "metadata": {
    "collapsed": false
   }
  },
  {
   "cell_type": "code",
   "execution_count": 109,
   "outputs": [
    {
     "data": {
      "text/plain": "     Twitter ID                Topic   Sentiment  \\\n0          3364             Facebook  Irrelevant   \n1           352               Amazon     Neutral   \n2          8312            Microsoft    Negative   \n3          4371                CS-GO    Negative   \n4          4433               Google     Neutral   \n..          ...                  ...         ...   \n995        4891  GrandTheftAuto(GTA)  Irrelevant   \n996        4359                CS-GO  Irrelevant   \n997        2652          Borderlands    Positive   \n998        8069            Microsoft    Positive   \n999        6960      johnson&johnson     Neutral   \n\n                                                  Text  \n0    I mentioned on Facebook that I was struggling ...  \n1    BBC News - Amazon boss Jeff Bezos rejects clai...  \n2    @Microsoft Why do I pay for WORD when it funct...  \n3    CSGO matchmaking is so full of closet hacking,...  \n4    Now the President is slapping Americans in the...  \n..                                                 ...  \n995  ⭐️ Toronto is the arts and culture capital of ...  \n996  tHIS IS ACTUALLY A GOOD MOVE TOT BRING MORE VI...  \n997  Today sucked so it’s time to drink wine n play...  \n998  Bought a fraction of Microsoft today. Small wins.  \n999  Johnson & Johnson to stop selling talc baby po...  \n\n[1000 rows x 4 columns]",
      "text/html": "<div>\n<style scoped>\n    .dataframe tbody tr th:only-of-type {\n        vertical-align: middle;\n    }\n\n    .dataframe tbody tr th {\n        vertical-align: top;\n    }\n\n    .dataframe thead th {\n        text-align: right;\n    }\n</style>\n<table border=\"1\" class=\"dataframe\">\n  <thead>\n    <tr style=\"text-align: right;\">\n      <th></th>\n      <th>Twitter ID</th>\n      <th>Topic</th>\n      <th>Sentiment</th>\n      <th>Text</th>\n    </tr>\n  </thead>\n  <tbody>\n    <tr>\n      <th>0</th>\n      <td>3364</td>\n      <td>Facebook</td>\n      <td>Irrelevant</td>\n      <td>I mentioned on Facebook that I was struggling ...</td>\n    </tr>\n    <tr>\n      <th>1</th>\n      <td>352</td>\n      <td>Amazon</td>\n      <td>Neutral</td>\n      <td>BBC News - Amazon boss Jeff Bezos rejects clai...</td>\n    </tr>\n    <tr>\n      <th>2</th>\n      <td>8312</td>\n      <td>Microsoft</td>\n      <td>Negative</td>\n      <td>@Microsoft Why do I pay for WORD when it funct...</td>\n    </tr>\n    <tr>\n      <th>3</th>\n      <td>4371</td>\n      <td>CS-GO</td>\n      <td>Negative</td>\n      <td>CSGO matchmaking is so full of closet hacking,...</td>\n    </tr>\n    <tr>\n      <th>4</th>\n      <td>4433</td>\n      <td>Google</td>\n      <td>Neutral</td>\n      <td>Now the President is slapping Americans in the...</td>\n    </tr>\n    <tr>\n      <th>...</th>\n      <td>...</td>\n      <td>...</td>\n      <td>...</td>\n      <td>...</td>\n    </tr>\n    <tr>\n      <th>995</th>\n      <td>4891</td>\n      <td>GrandTheftAuto(GTA)</td>\n      <td>Irrelevant</td>\n      <td>⭐️ Toronto is the arts and culture capital of ...</td>\n    </tr>\n    <tr>\n      <th>996</th>\n      <td>4359</td>\n      <td>CS-GO</td>\n      <td>Irrelevant</td>\n      <td>tHIS IS ACTUALLY A GOOD MOVE TOT BRING MORE VI...</td>\n    </tr>\n    <tr>\n      <th>997</th>\n      <td>2652</td>\n      <td>Borderlands</td>\n      <td>Positive</td>\n      <td>Today sucked so it’s time to drink wine n play...</td>\n    </tr>\n    <tr>\n      <th>998</th>\n      <td>8069</td>\n      <td>Microsoft</td>\n      <td>Positive</td>\n      <td>Bought a fraction of Microsoft today. Small wins.</td>\n    </tr>\n    <tr>\n      <th>999</th>\n      <td>6960</td>\n      <td>johnson&amp;johnson</td>\n      <td>Neutral</td>\n      <td>Johnson &amp; Johnson to stop selling talc baby po...</td>\n    </tr>\n  </tbody>\n</table>\n<p>1000 rows × 4 columns</p>\n</div>"
     },
     "execution_count": 109,
     "metadata": {},
     "output_type": "execute_result"
    }
   ],
   "source": [
    "# Load data\n",
    "df_orig = pd.read_csv('twitter_validation.csv', names=['Twitter ID','Topic','Sentiment','Text'])\n",
    "#df_orig = pd.read_csv('cleaned_tweets.csv', header=0, index_col=0)\n",
    "df = df_orig.iloc[0:1000]\n",
    "\n",
    "# Change Irrelevant label into Neutral as mentioned in the data set description.\n",
    "def adjust_ori_sentiment(sentiment):\n",
    "    if sentiment == \"Irrelevant\":\n",
    "        #temp_str = \"Neutral\"\n",
    "        temp_str = \"Irrelevant\"\n",
    "        return temp_str\n",
    "    else:\n",
    "        return sentiment\n",
    "\n",
    "df['Sentiment'] = df['Sentiment'].apply(adjust_ori_sentiment)\n",
    "#df['Tidy_Text'] = df['Tidy_Text'].apply(str)\n",
    "df"
   ],
   "metadata": {
    "collapsed": false
   }
  },
  {
   "cell_type": "code",
   "execution_count": 67,
   "outputs": [],
   "source": [
    "# Predict\n",
    "def analysis(tweet):\n",
    "    result = model.sentiment(tweet, return_probability=True)\n",
    "    label = result.get('label')\n",
    "    confidence = result.get('probability')[max(result.get('probability'), key=result.get('probability').get)]\n",
    "    return label, confidence\n",
    "\n",
    "# Check the accuracy\n",
    "# def evalable(df):\n",
    "#     good_label = 0\n",
    "#     bad_label = 0\n",
    "#     for i in range(df.shape[0]):\n",
    "#         if str(df.iloc[i, 2]).lower() == str(df.iloc[i, 4]).lower():\n",
    "#             good_label += 1\n",
    "#         else:\n",
    "#             bad_label += 1\n",
    "#     return good_label, bad_label\n",
    "\n",
    "def evalable(df):\n",
    "    good_label = 0\n",
    "    bad_label = 0\n",
    "    irr_label = 0\n",
    "    for i in range(df.shape[0]):\n",
    "        if str(df.iloc[i, 2]).lower() == \"irrelevant\":\n",
    "            irr_label += 1\n",
    "        # iloc[i,2] is original label and iloc[i, 4] is generated label\n",
    "        elif str(df.iloc[i, 2]).lower() == str(df.iloc[i, 4]).lower():\n",
    "            good_label += 1\n",
    "        else:\n",
    "            bad_label += 1\n",
    "    return good_label, bad_label, irr_label\n",
    "\n",
    "def count_label(df):\n",
    "    count_positive = df[df['Sentiment'] == 'Positive'].shape[0]\n",
    "    count_negative = df[df['Sentiment'] == 'Negative'].shape[0]\n",
    "    count_neutral = df[df['Sentiment'] == 'Neutral'].shape[0]\n",
    "    count_irrelevant = df[df['Sentiment'] == 'Irrelevant'].shape[0]\n",
    "    return count_positive, count_negative, count_neutral, count_irrelevant"
   ],
   "metadata": {
    "collapsed": false
   }
  },
  {
   "cell_type": "code",
   "execution_count": 68,
   "outputs": [],
   "source": [
    "# Execute\n",
    "df_results = pd.DataFrame()\n",
    "df_results['Result'] = df['Text'].apply(analysis)\n",
    "#df_results['Result'] = df['Tidy_Text'].apply(analysis)\n",
    "\n",
    "# Put results into data frame\n",
    "testpd = pd.DataFrame(df_results['Result'].tolist())\n",
    "label_list = testpd[0].tolist()\n",
    "confidence_list = testpd[1].tolist()\n",
    "\n",
    "df['Label'] = label_list\n",
    "df['Confidence'] = confidence_list"
   ],
   "metadata": {
    "collapsed": false
   }
  },
  {
   "cell_type": "code",
   "execution_count": 69,
   "outputs": [
    {
     "data": {
      "text/plain": "     Twitter ID                Topic   Sentiment  \\\n0          3364             Facebook  Irrelevant   \n1           352               Amazon     Neutral   \n2          8312            Microsoft    Negative   \n3          4371                CS-GO    Negative   \n4          4433               Google     Neutral   \n..          ...                  ...         ...   \n995        4891  GrandTheftAuto(GTA)  Irrelevant   \n996        4359                CS-GO  Irrelevant   \n997        2652          Borderlands    Positive   \n998        8069            Microsoft    Positive   \n999        6960      johnson&johnson     Neutral   \n\n                                                  Text     Label  Confidence  \n0    I mentioned on Facebook that I was struggling ...  negative    0.645820  \n1    BBC News - Amazon boss Jeff Bezos rejects clai...   neutral    0.738145  \n2    @Microsoft Why do I pay for WORD when it funct...  negative    0.936622  \n3    CSGO matchmaking is so full of closet hacking,...  negative    0.961268  \n4    Now the President is slapping Americans in the...  negative    0.782214  \n..                                                 ...       ...         ...  \n995  ⭐️ Toronto is the arts and culture capital of ...  positive    0.950140  \n996  tHIS IS ACTUALLY A GOOD MOVE TOT BRING MORE VI...  positive    0.972971  \n997  Today sucked so it’s time to drink wine n play...  negative    0.903055  \n998  Bought a fraction of Microsoft today. Small wins.  positive    0.908308  \n999  Johnson & Johnson to stop selling talc baby po...   neutral    0.835981  \n\n[1000 rows x 6 columns]",
      "text/html": "<div>\n<style scoped>\n    .dataframe tbody tr th:only-of-type {\n        vertical-align: middle;\n    }\n\n    .dataframe tbody tr th {\n        vertical-align: top;\n    }\n\n    .dataframe thead th {\n        text-align: right;\n    }\n</style>\n<table border=\"1\" class=\"dataframe\">\n  <thead>\n    <tr style=\"text-align: right;\">\n      <th></th>\n      <th>Twitter ID</th>\n      <th>Topic</th>\n      <th>Sentiment</th>\n      <th>Text</th>\n      <th>Label</th>\n      <th>Confidence</th>\n    </tr>\n  </thead>\n  <tbody>\n    <tr>\n      <th>0</th>\n      <td>3364</td>\n      <td>Facebook</td>\n      <td>Irrelevant</td>\n      <td>I mentioned on Facebook that I was struggling ...</td>\n      <td>negative</td>\n      <td>0.645820</td>\n    </tr>\n    <tr>\n      <th>1</th>\n      <td>352</td>\n      <td>Amazon</td>\n      <td>Neutral</td>\n      <td>BBC News - Amazon boss Jeff Bezos rejects clai...</td>\n      <td>neutral</td>\n      <td>0.738145</td>\n    </tr>\n    <tr>\n      <th>2</th>\n      <td>8312</td>\n      <td>Microsoft</td>\n      <td>Negative</td>\n      <td>@Microsoft Why do I pay for WORD when it funct...</td>\n      <td>negative</td>\n      <td>0.936622</td>\n    </tr>\n    <tr>\n      <th>3</th>\n      <td>4371</td>\n      <td>CS-GO</td>\n      <td>Negative</td>\n      <td>CSGO matchmaking is so full of closet hacking,...</td>\n      <td>negative</td>\n      <td>0.961268</td>\n    </tr>\n    <tr>\n      <th>4</th>\n      <td>4433</td>\n      <td>Google</td>\n      <td>Neutral</td>\n      <td>Now the President is slapping Americans in the...</td>\n      <td>negative</td>\n      <td>0.782214</td>\n    </tr>\n    <tr>\n      <th>...</th>\n      <td>...</td>\n      <td>...</td>\n      <td>...</td>\n      <td>...</td>\n      <td>...</td>\n      <td>...</td>\n    </tr>\n    <tr>\n      <th>995</th>\n      <td>4891</td>\n      <td>GrandTheftAuto(GTA)</td>\n      <td>Irrelevant</td>\n      <td>⭐️ Toronto is the arts and culture capital of ...</td>\n      <td>positive</td>\n      <td>0.950140</td>\n    </tr>\n    <tr>\n      <th>996</th>\n      <td>4359</td>\n      <td>CS-GO</td>\n      <td>Irrelevant</td>\n      <td>tHIS IS ACTUALLY A GOOD MOVE TOT BRING MORE VI...</td>\n      <td>positive</td>\n      <td>0.972971</td>\n    </tr>\n    <tr>\n      <th>997</th>\n      <td>2652</td>\n      <td>Borderlands</td>\n      <td>Positive</td>\n      <td>Today sucked so it’s time to drink wine n play...</td>\n      <td>negative</td>\n      <td>0.903055</td>\n    </tr>\n    <tr>\n      <th>998</th>\n      <td>8069</td>\n      <td>Microsoft</td>\n      <td>Positive</td>\n      <td>Bought a fraction of Microsoft today. Small wins.</td>\n      <td>positive</td>\n      <td>0.908308</td>\n    </tr>\n    <tr>\n      <th>999</th>\n      <td>6960</td>\n      <td>johnson&amp;johnson</td>\n      <td>Neutral</td>\n      <td>Johnson &amp; Johnson to stop selling talc baby po...</td>\n      <td>neutral</td>\n      <td>0.835981</td>\n    </tr>\n  </tbody>\n</table>\n<p>1000 rows × 6 columns</p>\n</div>"
     },
     "execution_count": 69,
     "metadata": {},
     "output_type": "execute_result"
    }
   ],
   "source": [
    "df"
   ],
   "metadata": {
    "collapsed": false
   }
  },
  {
   "cell_type": "code",
   "execution_count": 70,
   "outputs": [
    {
     "name": "stdout",
     "output_type": "stream",
     "text": [
      "There are 4 types of sentiment label in our data set, \n",
      "Positive: 277 Negative: 266 Neutral: 285 Irrelevant: 172\n"
     ]
    }
   ],
   "source": [
    "count_positive, count_negative, count_neutral, count_irrelevant = count_label(df)\n",
    "print(\"There are 4 types of sentiment label in our data set, \\nPositive:\",count_positive, \"Negative:\",count_negative, \"Neutral:\",count_neutral, \"Irrelevant:\", count_irrelevant)"
   ],
   "metadata": {
    "collapsed": false
   }
  },
  {
   "cell_type": "code",
   "execution_count": 71,
   "outputs": [
    {
     "data": {
      "text/plain": "<Figure size 600x300 with 1 Axes>",
      "image/png": "[encoded data removed]"
     },
     "metadata": {},
     "output_type": "display_data"
    }
   ],
   "source": [
    "import matplotlib.pyplot as plt\n",
    "\n",
    "# Set the figure size\n",
    "fig = plt.figure(figsize=(6, 3))\n",
    "\n",
    "# Plot the chart\n",
    "plt.plot(df.index, df['Confidence'], marker='o', linestyle='', markersize=2)\n",
    "plt.xlabel('X-axis')\n",
    "plt.ylabel('Y-axis')\n",
    "plt.title('Confidence plot')\n",
    "plt.show()"
   ],
   "metadata": {
    "collapsed": false
   }
  },
  {
   "cell_type": "code",
   "execution_count": 73,
   "outputs": [],
   "source": [
    "# Evaluate the accuracy of\n",
    "good_labels, bad_labels, irr_labels = evalable(df)\n",
    "accuracy1 = good_labels / (good_labels + bad_labels)"
   ],
   "metadata": {
    "collapsed": false
   }
  },
  {
   "cell_type": "code",
   "execution_count": 74,
   "outputs": [],
   "source": [
    "# Keep high confidence predictions, might be able to use confidence score to filter data.\n",
    "df_highc = df[df['Confidence'] > 0.9]\n",
    "df_lowc = df[df['Confidence'] < 0.7]"
   ],
   "metadata": {
    "collapsed": false
   }
  },
  {
   "cell_type": "code",
   "execution_count": 75,
   "outputs": [],
   "source": [
    "# Evaluate the accuracy again\n",
    "good_labels, bad_labels, irr_labels = evalable(df_highc)\n",
    "accuracy2 = good_labels / (good_labels + bad_labels)"
   ],
   "metadata": {
    "collapsed": false
   }
  },
  {
   "cell_type": "code",
   "execution_count": 76,
   "outputs": [],
   "source": [
    "# Evaluate the accuracy again\n",
    "good_labels, bad_labels, irr_labels = evalable(df_lowc)\n",
    "accuracy3 = good_labels / (good_labels + bad_labels)"
   ],
   "metadata": {
    "collapsed": false
   }
  },
  {
   "cell_type": "code",
   "execution_count": 77,
   "outputs": [
    {
     "name": "stdout",
     "output_type": "stream",
     "text": [
      "Total accuracy is:  0.6594202898550725 \n",
      "After removing low confidence labels is:  0.7638483965014577 \n",
      "Accuracy for low confidence labels is:  0.5102040816326531\n"
     ]
    }
   ],
   "source": [
    "print(\"Total accuracy is: \", accuracy1, \"\\nAfter removing low confidence labels is: \", accuracy2, \"\\nAccuracy for low confidence labels is: \", accuracy3)"
   ],
   "metadata": {
    "collapsed": false
   }
  },
  {
   "cell_type": "code",
   "execution_count": 104,
   "outputs": [
    {
     "data": {
      "text/plain": "     Twitter ID                Topic   Sentiment  \\\n0          3364             Facebook  Irrelevant   \n1           352               Amazon     Neutral   \n2          8312            Microsoft    Negative   \n3          4371                CS-GO    Negative   \n4          4433               Google     Neutral   \n..          ...                  ...         ...   \n995        4891  GrandTheftAuto(GTA)  Irrelevant   \n996        4359                CS-GO  Irrelevant   \n997        2652          Borderlands    Positive   \n998        8069            Microsoft    Positive   \n999        6960      johnson&johnson     Neutral   \n\n                                                  Text     Label  Confidence  \n0    I mentioned on Facebook that I was struggling ...   Neutral    0.645820  \n1    BBC News - Amazon boss Jeff Bezos rejects clai...   Neutral    0.738145  \n2    @Microsoft Why do I pay for WORD when it funct...  negative    0.936622  \n3    CSGO matchmaking is so full of closet hacking,...  negative    0.961268  \n4    Now the President is slapping Americans in the...   Neutral    0.782214  \n..                                                 ...       ...         ...  \n995  ⭐️ Toronto is the arts and culture capital of ...  positive    0.950140  \n996  tHIS IS ACTUALLY A GOOD MOVE TOT BRING MORE VI...  positive    0.972971  \n997  Today sucked so it’s time to drink wine n play...  negative    0.903055  \n998  Bought a fraction of Microsoft today. Small wins.  positive    0.908308  \n999  Johnson & Johnson to stop selling talc baby po...   Neutral    0.835981  \n\n[1000 rows x 6 columns]",
      "text/html": "<div>\n<style scoped>\n    .dataframe tbody tr th:only-of-type {\n        vertical-align: middle;\n    }\n\n    .dataframe tbody tr th {\n        vertical-align: top;\n    }\n\n    .dataframe thead th {\n        text-align: right;\n    }\n</style>\n<table border=\"1\" class=\"dataframe\">\n  <thead>\n    <tr style=\"text-align: right;\">\n      <th></th>\n      <th>Twitter ID</th>\n      <th>Topic</th>\n      <th>Sentiment</th>\n      <th>Text</th>\n      <th>Label</th>\n      <th>Confidence</th>\n    </tr>\n  </thead>\n  <tbody>\n    <tr>\n      <th>0</th>\n      <td>3364</td>\n      <td>Facebook</td>\n      <td>Irrelevant</td>\n      <td>I mentioned on Facebook that I was struggling ...</td>\n      <td>Neutral</td>\n      <td>0.645820</td>\n    </tr>\n    <tr>\n      <th>1</th>\n      <td>352</td>\n      <td>Amazon</td>\n      <td>Neutral</td>\n      <td>BBC News - Amazon boss Jeff Bezos rejects clai...</td>\n      <td>Neutral</td>\n      <td>0.738145</td>\n    </tr>\n    <tr>\n      <th>2</th>\n      <td>8312</td>\n      <td>Microsoft</td>\n      <td>Negative</td>\n      <td>@Microsoft Why do I pay for WORD when it funct...</td>\n      <td>negative</td>\n      <td>0.936622</td>\n    </tr>\n    <tr>\n      <th>3</th>\n      <td>4371</td>\n      <td>CS-GO</td>\n      <td>Negative</td>\n      <td>CSGO matchmaking is so full of closet hacking,...</td>\n      <td>negative</td>\n      <td>0.961268</td>\n    </tr>\n    <tr>\n      <th>4</th>\n      <td>4433</td>\n      <td>Google</td>\n      <td>Neutral</td>\n      <td>Now the President is slapping Americans in the...</td>\n      <td>Neutral</td>\n      <td>0.782214</td>\n    </tr>\n    <tr>\n      <th>...</th>\n      <td>...</td>\n      <td>...</td>\n      <td>...</td>\n      <td>...</td>\n      <td>...</td>\n      <td>...</td>\n    </tr>\n    <tr>\n      <th>995</th>\n      <td>4891</td>\n      <td>GrandTheftAuto(GTA)</td>\n      <td>Irrelevant</td>\n      <td>⭐️ Toronto is the arts and culture capital of ...</td>\n      <td>positive</td>\n      <td>0.950140</td>\n    </tr>\n    <tr>\n      <th>996</th>\n      <td>4359</td>\n      <td>CS-GO</td>\n      <td>Irrelevant</td>\n      <td>tHIS IS ACTUALLY A GOOD MOVE TOT BRING MORE VI...</td>\n      <td>positive</td>\n      <td>0.972971</td>\n    </tr>\n    <tr>\n      <th>997</th>\n      <td>2652</td>\n      <td>Borderlands</td>\n      <td>Positive</td>\n      <td>Today sucked so it’s time to drink wine n play...</td>\n      <td>negative</td>\n      <td>0.903055</td>\n    </tr>\n    <tr>\n      <th>998</th>\n      <td>8069</td>\n      <td>Microsoft</td>\n      <td>Positive</td>\n      <td>Bought a fraction of Microsoft today. Small wins.</td>\n      <td>positive</td>\n      <td>0.908308</td>\n    </tr>\n    <tr>\n      <th>999</th>\n      <td>6960</td>\n      <td>johnson&amp;johnson</td>\n      <td>Neutral</td>\n      <td>Johnson &amp; Johnson to stop selling talc baby po...</td>\n      <td>Neutral</td>\n      <td>0.835981</td>\n    </tr>\n  </tbody>\n</table>\n<p>1000 rows × 6 columns</p>\n</div>"
     },
     "execution_count": 104,
     "metadata": {},
     "output_type": "execute_result"
    }
   ],
   "source": [
    "df_trans_lowc_to_neutral = df\n",
    "df_trans_lowc_to_neutral"
   ],
   "metadata": {
    "collapsed": false
   }
  },
  {
   "cell_type": "code",
   "execution_count": 105,
   "outputs": [
    {
     "data": {
      "text/plain": "     Twitter ID                Topic   Sentiment  \\\n0          3364             Facebook  Irrelevant   \n1           352               Amazon     Neutral   \n2          8312            Microsoft    Negative   \n3          4371                CS-GO    Negative   \n4          4433               Google     Neutral   \n..          ...                  ...         ...   \n995        4891  GrandTheftAuto(GTA)  Irrelevant   \n996        4359                CS-GO  Irrelevant   \n997        2652          Borderlands    Positive   \n998        8069            Microsoft    Positive   \n999        6960      johnson&johnson     Neutral   \n\n                                                  Text     Label  Confidence  \n0    I mentioned on Facebook that I was struggling ...   Neutral    0.645820  \n1    BBC News - Amazon boss Jeff Bezos rejects clai...   Neutral    0.738145  \n2    @Microsoft Why do I pay for WORD when it funct...  negative    0.936622  \n3    CSGO matchmaking is so full of closet hacking,...  negative    0.961268  \n4    Now the President is slapping Americans in the...   Neutral    0.782214  \n..                                                 ...       ...         ...  \n995  ⭐️ Toronto is the arts and culture capital of ...  positive    0.950140  \n996  tHIS IS ACTUALLY A GOOD MOVE TOT BRING MORE VI...  positive    0.972971  \n997  Today sucked so it’s time to drink wine n play...  negative    0.903055  \n998  Bought a fraction of Microsoft today. Small wins.  positive    0.908308  \n999  Johnson & Johnson to stop selling talc baby po...   Neutral    0.835981  \n\n[1000 rows x 6 columns]",
      "text/html": "<div>\n<style scoped>\n    .dataframe tbody tr th:only-of-type {\n        vertical-align: middle;\n    }\n\n    .dataframe tbody tr th {\n        vertical-align: top;\n    }\n\n    .dataframe thead th {\n        text-align: right;\n    }\n</style>\n<table border=\"1\" class=\"dataframe\">\n  <thead>\n    <tr style=\"text-align: right;\">\n      <th></th>\n      <th>Twitter ID</th>\n      <th>Topic</th>\n      <th>Sentiment</th>\n      <th>Text</th>\n      <th>Label</th>\n      <th>Confidence</th>\n    </tr>\n  </thead>\n  <tbody>\n    <tr>\n      <th>0</th>\n      <td>3364</td>\n      <td>Facebook</td>\n      <td>Irrelevant</td>\n      <td>I mentioned on Facebook that I was struggling ...</td>\n      <td>Neutral</td>\n      <td>0.645820</td>\n    </tr>\n    <tr>\n      <th>1</th>\n      <td>352</td>\n      <td>Amazon</td>\n      <td>Neutral</td>\n      <td>BBC News - Amazon boss Jeff Bezos rejects clai...</td>\n      <td>Neutral</td>\n      <td>0.738145</td>\n    </tr>\n    <tr>\n      <th>2</th>\n      <td>8312</td>\n      <td>Microsoft</td>\n      <td>Negative</td>\n      <td>@Microsoft Why do I pay for WORD when it funct...</td>\n      <td>negative</td>\n      <td>0.936622</td>\n    </tr>\n    <tr>\n      <th>3</th>\n      <td>4371</td>\n      <td>CS-GO</td>\n      <td>Negative</td>\n      <td>CSGO matchmaking is so full of closet hacking,...</td>\n      <td>negative</td>\n      <td>0.961268</td>\n    </tr>\n    <tr>\n      <th>4</th>\n      <td>4433</td>\n      <td>Google</td>\n      <td>Neutral</td>\n      <td>Now the President is slapping Americans in the...</td>\n      <td>Neutral</td>\n      <td>0.782214</td>\n    </tr>\n    <tr>\n      <th>...</th>\n      <td>...</td>\n      <td>...</td>\n      <td>...</td>\n      <td>...</td>\n      <td>...</td>\n      <td>...</td>\n    </tr>\n    <tr>\n      <th>995</th>\n      <td>4891</td>\n      <td>GrandTheftAuto(GTA)</td>\n      <td>Irrelevant</td>\n      <td>⭐️ Toronto is the arts and culture capital of ...</td>\n      <td>positive</td>\n      <td>0.950140</td>\n    </tr>\n    <tr>\n      <th>996</th>\n      <td>4359</td>\n      <td>CS-GO</td>\n      <td>Irrelevant</td>\n      <td>tHIS IS ACTUALLY A GOOD MOVE TOT BRING MORE VI...</td>\n      <td>positive</td>\n      <td>0.972971</td>\n    </tr>\n    <tr>\n      <th>997</th>\n      <td>2652</td>\n      <td>Borderlands</td>\n      <td>Positive</td>\n      <td>Today sucked so it’s time to drink wine n play...</td>\n      <td>negative</td>\n      <td>0.903055</td>\n    </tr>\n    <tr>\n      <th>998</th>\n      <td>8069</td>\n      <td>Microsoft</td>\n      <td>Positive</td>\n      <td>Bought a fraction of Microsoft today. Small wins.</td>\n      <td>positive</td>\n      <td>0.908308</td>\n    </tr>\n    <tr>\n      <th>999</th>\n      <td>6960</td>\n      <td>johnson&amp;johnson</td>\n      <td>Neutral</td>\n      <td>Johnson &amp; Johnson to stop selling talc baby po...</td>\n      <td>Neutral</td>\n      <td>0.835981</td>\n    </tr>\n  </tbody>\n</table>\n<p>1000 rows × 6 columns</p>\n</div>"
     },
     "execution_count": 105,
     "metadata": {},
     "output_type": "execute_result"
    }
   ],
   "source": [
    "df_trans_lowc_to_neutral.loc[df['Confidence'] < 0.4, 'Label'] = 'Neutral'\n",
    "df_trans_lowc_to_neutral"
   ],
   "metadata": {
    "collapsed": false
   }
  },
  {
   "cell_type": "code",
   "execution_count": 106,
   "outputs": [],
   "source": [
    "# Evaluate the accuracy of\n",
    "good_labels, bad_labels, irr_labels = evalable(df_trans_lowc_to_neutral)\n",
    "accuracy1 = good_labels / (good_labels + bad_labels)\n",
    "# Keep high confidence predictions, might be able to use confidence score to filter data.\n",
    "df_highc_phase2 = df[df['Confidence'] > 0.9]\n",
    "df_lowc_phase2 = df[df['Confidence'] < 0.7]\n",
    "# Evaluate the accuracy again\n",
    "good_labels, bad_labels, irr_labels = evalable(df_highc_phase2)\n",
    "accuracy2 = good_labels / (good_labels + bad_labels)\n",
    "# Evaluate the accuracy again\n",
    "good_labels, bad_labels, irr_labels = evalable(df_lowc_phase2)\n",
    "accuracy3 = good_labels / (good_labels + bad_labels)"
   ],
   "metadata": {
    "collapsed": false
   }
  },
  {
   "cell_type": "code",
   "execution_count": 107,
   "outputs": [
    {
     "name": "stdout",
     "output_type": "stream",
     "text": [
      "Total accuracy is:  0.6207729468599034 \n",
      "After removing low confidence labels is:  0.7638483965014577 \n",
      "Accuracy for low confidence labels is:  0.4489795918367347\n"
     ]
    }
   ],
   "source": [
    "print(\"Total accuracy is: \", accuracy1, \"\\nAfter removing low confidence labels is: \", accuracy2, \"\\nAccuracy for low confidence labels is: \", accuracy3)"
   ],
   "metadata": {
    "collapsed": false
   }
  },
  {
   "cell_type": "code",
   "execution_count": 107,
   "outputs": [],
   "source": [],
   "metadata": {
    "collapsed": false
   }
  },
  {
   "cell_type": "code",
   "execution_count": 103,
   "outputs": [],
   "source": [],
   "metadata": {
    "collapsed": false
   }
  }
 ],
 "metadata": {
  "kernelspec": {
   "display_name": "Python 3",
   "language": "python",
   "name": "python3"
  },
  "language_info": {
   "codemirror_mode": {
    "name": "ipython",
    "version": 2
   },
   "file_extension": ".py",
   "mimetype": "text/x-python",
   "name": "python",
   "nbconvert_exporter": "python",
   "pygments_lexer": "ipython2",
   "version": "2.7.6"
  }
 },
 "nbformat": 4,
 "nbformat_minor": 0
}
