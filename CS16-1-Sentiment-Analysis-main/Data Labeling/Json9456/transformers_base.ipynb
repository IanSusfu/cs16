{
 "cells": [
  {
   "cell_type": "code",
   "execution_count": 14,
   "id": "9fd2d950",
   "metadata": {},
   "outputs": [],
   "source": [
    "import numpy as np\n",
    "import pandas as pd\n",
    "from transformers import pipeline\n",
    "from transformers import AutoModelForSequenceClassification\n",
    "from transformers import TFAutoModelForSequenceClassification\n",
    "from transformers import AutoTokenizer"
   ]
  },
  {
   "cell_type": "code",
   "execution_count": 15,
   "outputs": [
    {
     "data": {
      "text/plain": "     Twitter ID                Topic Sentiment  \\\n0          3364             Facebook   Neutral   \n1           352               Amazon   Neutral   \n2          8312            Microsoft  Negative   \n3          4371                CS-GO  Negative   \n4          4433               Google   Neutral   \n..          ...                  ...       ...   \n995        4891  GrandTheftAuto(GTA)   Neutral   \n996        4359                CS-GO   Neutral   \n997        2652          Borderlands  Positive   \n998        8069            Microsoft  Positive   \n999        6960      johnson&johnson   Neutral   \n\n                                                  Text  \n0    I mentioned on Facebook that I was struggling ...  \n1    BBC News - Amazon boss Jeff Bezos rejects clai...  \n2    @user Why do I pay for WORD when it functions ...  \n3    CSGO matchmaking is so full of closet hacking,...  \n4    Now the President is slapping Americans in the...  \n..                                                 ...  \n995  ⭐️ Toronto is the arts and culture capital of ...  \n996  tHIS IS ACTUALLY A GOOD MOVE TOT BRING MORE VI...  \n997  Today sucked so it’s time to drink wine n play...  \n998  Bought a fraction of Microsoft today. Small wins.  \n999  Johnson & Johnson to stop selling talc baby po...  \n\n[1000 rows x 4 columns]",
      "text/html": "<div>\n<style scoped>\n    .dataframe tbody tr th:only-of-type {\n        vertical-align: middle;\n    }\n\n    .dataframe tbody tr th {\n        vertical-align: top;\n    }\n\n    .dataframe thead th {\n        text-align: right;\n    }\n</style>\n<table border=\"1\" class=\"dataframe\">\n  <thead>\n    <tr style=\"text-align: right;\">\n      <th></th>\n      <th>Twitter ID</th>\n      <th>Topic</th>\n      <th>Sentiment</th>\n      <th>Text</th>\n    </tr>\n  </thead>\n  <tbody>\n    <tr>\n      <th>0</th>\n      <td>3364</td>\n      <td>Facebook</td>\n      <td>Neutral</td>\n      <td>I mentioned on Facebook that I was struggling ...</td>\n    </tr>\n    <tr>\n      <th>1</th>\n      <td>352</td>\n      <td>Amazon</td>\n      <td>Neutral</td>\n      <td>BBC News - Amazon boss Jeff Bezos rejects clai...</td>\n    </tr>\n    <tr>\n      <th>2</th>\n      <td>8312</td>\n      <td>Microsoft</td>\n      <td>Negative</td>\n      <td>@user Why do I pay for WORD when it functions ...</td>\n    </tr>\n    <tr>\n      <th>3</th>\n      <td>4371</td>\n      <td>CS-GO</td>\n      <td>Negative</td>\n      <td>CSGO matchmaking is so full of closet hacking,...</td>\n    </tr>\n    <tr>\n      <th>4</th>\n      <td>4433</td>\n      <td>Google</td>\n      <td>Neutral</td>\n      <td>Now the President is slapping Americans in the...</td>\n    </tr>\n    <tr>\n      <th>...</th>\n      <td>...</td>\n      <td>...</td>\n      <td>...</td>\n      <td>...</td>\n    </tr>\n    <tr>\n      <th>995</th>\n      <td>4891</td>\n      <td>GrandTheftAuto(GTA)</td>\n      <td>Neutral</td>\n      <td>⭐️ Toronto is the arts and culture capital of ...</td>\n    </tr>\n    <tr>\n      <th>996</th>\n      <td>4359</td>\n      <td>CS-GO</td>\n      <td>Neutral</td>\n      <td>tHIS IS ACTUALLY A GOOD MOVE TOT BRING MORE VI...</td>\n    </tr>\n    <tr>\n      <th>997</th>\n      <td>2652</td>\n      <td>Borderlands</td>\n      <td>Positive</td>\n      <td>Today sucked so it’s time to drink wine n play...</td>\n    </tr>\n    <tr>\n      <th>998</th>\n      <td>8069</td>\n      <td>Microsoft</td>\n      <td>Positive</td>\n      <td>Bought a fraction of Microsoft today. Small wins.</td>\n    </tr>\n    <tr>\n      <th>999</th>\n      <td>6960</td>\n      <td>johnson&amp;johnson</td>\n      <td>Neutral</td>\n      <td>Johnson &amp; Johnson to stop selling talc baby po...</td>\n    </tr>\n  </tbody>\n</table>\n<p>1000 rows × 4 columns</p>\n</div>"
     },
     "execution_count": 15,
     "metadata": {},
     "output_type": "execute_result"
    }
   ],
   "source": [
    "# Load data\n",
    "df_orig = pd.read_csv('twitter_validation.csv', names=[\"Twitter ID\",\"Topic\",\"Sentiment\",\"Text\"])\n",
    "df = df_orig.iloc[0:1000]\n",
    "\n",
    "# Preprocessing (delete username and url)\n",
    "def preprocess(text):\n",
    "    temp = []\n",
    "\n",
    "    for t in text.split(\" \"): # split a sentence into words by spaces \" \".\n",
    "        t = '@user' if t.startswith('@') and len(t) > 1 else t\n",
    "        t = 'http' if t.startswith('http') else t\n",
    "        temp.append(t)\n",
    "    return \" \".join(temp)\n",
    "\n",
    "# Change Irrelevant label into Neutral as mentioned in the data set description.\n",
    "def adjust_ori_sentiment(sentiment):\n",
    "    if sentiment == \"Irrelevant\":\n",
    "        temp_str = \"Neutral\"\n",
    "        return temp_str\n",
    "    else:\n",
    "        return sentiment\n",
    "\n",
    "df['Text'] = df['Text'].apply(preprocess)\n",
    "df['Sentiment'] = df['Sentiment'].apply(adjust_ori_sentiment)\n",
    "df"
   ],
   "metadata": {
    "collapsed": false
   }
  },
  {
   "cell_type": "code",
   "execution_count": 16,
   "id": "34aaaf80",
   "metadata": {},
   "outputs": [
    {
     "name": "stderr",
     "output_type": "stream",
     "text": [
      "Some weights of the model checkpoint at cardiffnlp/twitter-roberta-base-sentiment-latest were not used when initializing RobertaForSequenceClassification: ['roberta.pooler.dense.bias', 'roberta.pooler.dense.weight']\n",
      "- This IS expected if you are initializing RobertaForSequenceClassification from the checkpoint of a model trained on another task or with another architecture (e.g. initializing a BertForSequenceClassification model from a BertForPreTraining model).\n",
      "- This IS NOT expected if you are initializing RobertaForSequenceClassification from the checkpoint of a model that you expect to be exactly identical (initializing a BertForSequenceClassification model from a BertForSequenceClassification model).\n"
     ]
    },
    {
     "data": {
      "text/plain": "     Twitter ID                Topic Sentiment  \\\n0          3364             Facebook   Neutral   \n1           352               Amazon   Neutral   \n2          8312            Microsoft  Negative   \n3          4371                CS-GO  Negative   \n4          4433               Google   Neutral   \n..          ...                  ...       ...   \n995        4891  GrandTheftAuto(GTA)   Neutral   \n996        4359                CS-GO   Neutral   \n997        2652          Borderlands  Positive   \n998        8069            Microsoft  Positive   \n999        6960      johnson&johnson   Neutral   \n\n                                                  Text     Label  Confidence  \n0    I mentioned on Facebook that I was struggling ...  negative    0.645820  \n1    BBC News - Amazon boss Jeff Bezos rejects clai...   neutral    0.693689  \n2    @user Why do I pay for WORD when it functions ...  negative    0.927796  \n3    CSGO matchmaking is so full of closet hacking,...  negative    0.961268  \n4    Now the President is slapping Americans in the...  negative    0.779104  \n..                                                 ...       ...         ...  \n995  ⭐️ Toronto is the arts and culture capital of ...  positive    0.939735  \n996  tHIS IS ACTUALLY A GOOD MOVE TOT BRING MORE VI...  positive    0.972971  \n997  Today sucked so it’s time to drink wine n play...  negative    0.903055  \n998  Bought a fraction of Microsoft today. Small wins.  positive    0.908308  \n999  Johnson & Johnson to stop selling talc baby po...   neutral    0.822811  \n\n[1000 rows x 6 columns]",
      "text/html": "<div>\n<style scoped>\n    .dataframe tbody tr th:only-of-type {\n        vertical-align: middle;\n    }\n\n    .dataframe tbody tr th {\n        vertical-align: top;\n    }\n\n    .dataframe thead th {\n        text-align: right;\n    }\n</style>\n<table border=\"1\" class=\"dataframe\">\n  <thead>\n    <tr style=\"text-align: right;\">\n      <th></th>\n      <th>Twitter ID</th>\n      <th>Topic</th>\n      <th>Sentiment</th>\n      <th>Text</th>\n      <th>Label</th>\n      <th>Confidence</th>\n    </tr>\n  </thead>\n  <tbody>\n    <tr>\n      <th>0</th>\n      <td>3364</td>\n      <td>Facebook</td>\n      <td>Neutral</td>\n      <td>I mentioned on Facebook that I was struggling ...</td>\n      <td>negative</td>\n      <td>0.645820</td>\n    </tr>\n    <tr>\n      <th>1</th>\n      <td>352</td>\n      <td>Amazon</td>\n      <td>Neutral</td>\n      <td>BBC News - Amazon boss Jeff Bezos rejects clai...</td>\n      <td>neutral</td>\n      <td>0.693689</td>\n    </tr>\n    <tr>\n      <th>2</th>\n      <td>8312</td>\n      <td>Microsoft</td>\n      <td>Negative</td>\n      <td>@user Why do I pay for WORD when it functions ...</td>\n      <td>negative</td>\n      <td>0.927796</td>\n    </tr>\n    <tr>\n      <th>3</th>\n      <td>4371</td>\n      <td>CS-GO</td>\n      <td>Negative</td>\n      <td>CSGO matchmaking is so full of closet hacking,...</td>\n      <td>negative</td>\n      <td>0.961268</td>\n    </tr>\n    <tr>\n      <th>4</th>\n      <td>4433</td>\n      <td>Google</td>\n      <td>Neutral</td>\n      <td>Now the President is slapping Americans in the...</td>\n      <td>negative</td>\n      <td>0.779104</td>\n    </tr>\n    <tr>\n      <th>...</th>\n      <td>...</td>\n      <td>...</td>\n      <td>...</td>\n      <td>...</td>\n      <td>...</td>\n      <td>...</td>\n    </tr>\n    <tr>\n      <th>995</th>\n      <td>4891</td>\n      <td>GrandTheftAuto(GTA)</td>\n      <td>Neutral</td>\n      <td>⭐️ Toronto is the arts and culture capital of ...</td>\n      <td>positive</td>\n      <td>0.939735</td>\n    </tr>\n    <tr>\n      <th>996</th>\n      <td>4359</td>\n      <td>CS-GO</td>\n      <td>Neutral</td>\n      <td>tHIS IS ACTUALLY A GOOD MOVE TOT BRING MORE VI...</td>\n      <td>positive</td>\n      <td>0.972971</td>\n    </tr>\n    <tr>\n      <th>997</th>\n      <td>2652</td>\n      <td>Borderlands</td>\n      <td>Positive</td>\n      <td>Today sucked so it’s time to drink wine n play...</td>\n      <td>negative</td>\n      <td>0.903055</td>\n    </tr>\n    <tr>\n      <th>998</th>\n      <td>8069</td>\n      <td>Microsoft</td>\n      <td>Positive</td>\n      <td>Bought a fraction of Microsoft today. Small wins.</td>\n      <td>positive</td>\n      <td>0.908308</td>\n    </tr>\n    <tr>\n      <th>999</th>\n      <td>6960</td>\n      <td>johnson&amp;johnson</td>\n      <td>Neutral</td>\n      <td>Johnson &amp; Johnson to stop selling talc baby po...</td>\n      <td>neutral</td>\n      <td>0.822811</td>\n    </tr>\n  </tbody>\n</table>\n<p>1000 rows × 6 columns</p>\n</div>"
     },
     "execution_count": 16,
     "metadata": {},
     "output_type": "execute_result"
    }
   ],
   "source": [
    "# Get the text data from csv file.\n",
    "data = df.Text.tolist()\n",
    "\n",
    "# Choose the pipeline model\n",
    "model_path = ['cardiffnlp/twitter-roberta-base-sentiment-latest']\n",
    "\n",
    "sentiment_task = pipeline(\"sentiment-analysis\", model=model_path[0], tokenizer=model_path[0])\n",
    "sentiment_task(\"Covid cases are increasing fast!\")\n",
    "\n",
    "df_result = pd.DataFrame(sentiment_task(data))\n",
    "\n",
    "#df = pd.DataFrame()\n",
    "df['Label'] = df_result.label.tolist()\n",
    "df['Confidence'] = df_result.score.tolist()\n",
    "\n",
    "df"
   ]
  },
  {
   "cell_type": "code",
   "execution_count": 17,
   "outputs": [],
   "source": [
    "def evalable(label):\n",
    "    good_label = 0\n",
    "    bad_label= 0\n",
    "    for i in range (df.shape[0]):\n",
    "        if str(df.loc[i,'Sentiment']).lower() == str(df.loc[i,'Label']).lower():\n",
    "            good_label += 1\n",
    "        else:\n",
    "            bad_label += 1\n",
    "    return good_label, bad_label"
   ],
   "metadata": {
    "collapsed": false
   }
  },
  {
   "cell_type": "code",
   "execution_count": 18,
   "outputs": [
    {
     "data": {
      "text/plain": "(577, 423)"
     },
     "execution_count": 18,
     "metadata": {},
     "output_type": "execute_result"
    }
   ],
   "source": [
    "evalable(df)"
   ],
   "metadata": {
    "collapsed": false
   }
  },
  {
   "cell_type": "code",
   "execution_count": 18,
   "outputs": [],
   "source": [],
   "metadata": {
    "collapsed": false
   }
  }
 ],
 "metadata": {
  "kernelspec": {
   "display_name": "Python 3",
   "language": "python",
   "name": "python3"
  },
  "language_info": {
   "codemirror_mode": {
    "name": "ipython",
    "version": 3
   },
   "file_extension": ".py",
   "mimetype": "text/x-python",
   "name": "python",
   "nbconvert_exporter": "python",
   "pygments_lexer": "ipython3",
   "version": "3.8.8"
  }
 },
 "nbformat": 4,
 "nbformat_minor": 5
}
