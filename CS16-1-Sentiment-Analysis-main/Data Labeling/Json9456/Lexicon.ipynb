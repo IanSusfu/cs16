{
 "cells": [
  {
   "cell_type": "code",
   "execution_count": 77,
   "id": "a24311ab",
   "metadata": {},
   "outputs": [],
   "source": [
    "import matplotlib.pyplot as plt\n",
    "import numpy as np\n",
    "import nltk\n",
    "from vaderSentiment.vaderSentiment import SentimentIntensityAnalyzer\n",
    "from transformers import AutoTokenizer, AutoConfig, AutoModelForCausalLM\n",
    "import pandas as pd\n",
    "import warnings\n",
    "warnings.filterwarnings(\"ignore\")\n",
    "import torch"
   ]
  },
  {
   "cell_type": "code",
   "execution_count": 78,
   "id": "bfad4f43",
   "metadata": {},
   "outputs": [],
   "source": [
    "# Load the pre-trained ChatGPT model and tokenizer\n",
    "model_name = \"EleutherAI/gpt-neo-125M\"\n",
    "tokenizer = AutoTokenizer.from_pretrained(model_name)\n",
    "model = AutoModelForCausalLM.from_pretrained(model_name)\n",
    "config = AutoConfig.from_pretrained(model_name)\n",
    "\n",
    "# Put it on gpu\n",
    "device = \"cuda:0\" if torch.cuda.is_available() else \"cpu\"\n",
    "model = model.to(device)"
   ]
  },
  {
   "cell_type": "code",
   "execution_count": 79,
   "outputs": [],
   "source": [
    "# Load the VADER sentiment lexicon\n",
    "analyzer = SentimentIntensityAnalyzer()"
   ],
   "metadata": {
    "collapsed": false
   }
  },
  {
   "cell_type": "code",
   "execution_count": 135,
   "id": "c4569b94",
   "metadata": {},
   "outputs": [
    {
     "data": {
      "text/plain": "     Twitter ID                Topic   Sentiment  \\\n0          3364             Facebook  Irrelevant   \n1           352               Amazon     Neutral   \n2          8312            Microsoft    Negative   \n3          4371                CS-GO    Negative   \n4          4433               Google     Neutral   \n..          ...                  ...         ...   \n995        4891  GrandTheftAuto(GTA)  Irrelevant   \n996        4359                CS-GO  Irrelevant   \n997        2652          Borderlands    Positive   \n998        8069            Microsoft    Positive   \n999        6960      johnson&johnson     Neutral   \n\n                                                  Text  \n0    I mentioned on Facebook that I was struggling ...  \n1    BBC News - Amazon boss Jeff Bezos rejects clai...  \n2    @Microsoft Why do I pay for WORD when it funct...  \n3    CSGO matchmaking is so full of closet hacking,...  \n4    Now the President is slapping Americans in the...  \n..                                                 ...  \n995  ⭐️ Toronto is the arts and culture capital of ...  \n996  tHIS IS ACTUALLY A GOOD MOVE TOT BRING MORE VI...  \n997  Today sucked so it’s time to drink wine n play...  \n998  Bought a fraction of Microsoft today. Small wins.  \n999  Johnson & Johnson to stop selling talc baby po...  \n\n[1000 rows x 4 columns]",
      "text/html": "<div>\n<style scoped>\n    .dataframe tbody tr th:only-of-type {\n        vertical-align: middle;\n    }\n\n    .dataframe tbody tr th {\n        vertical-align: top;\n    }\n\n    .dataframe thead th {\n        text-align: right;\n    }\n</style>\n<table border=\"1\" class=\"dataframe\">\n  <thead>\n    <tr style=\"text-align: right;\">\n      <th></th>\n      <th>Twitter ID</th>\n      <th>Topic</th>\n      <th>Sentiment</th>\n      <th>Text</th>\n    </tr>\n  </thead>\n  <tbody>\n    <tr>\n      <th>0</th>\n      <td>3364</td>\n      <td>Facebook</td>\n      <td>Irrelevant</td>\n      <td>I mentioned on Facebook that I was struggling ...</td>\n    </tr>\n    <tr>\n      <th>1</th>\n      <td>352</td>\n      <td>Amazon</td>\n      <td>Neutral</td>\n      <td>BBC News - Amazon boss Jeff Bezos rejects clai...</td>\n    </tr>\n    <tr>\n      <th>2</th>\n      <td>8312</td>\n      <td>Microsoft</td>\n      <td>Negative</td>\n      <td>@Microsoft Why do I pay for WORD when it funct...</td>\n    </tr>\n    <tr>\n      <th>3</th>\n      <td>4371</td>\n      <td>CS-GO</td>\n      <td>Negative</td>\n      <td>CSGO matchmaking is so full of closet hacking,...</td>\n    </tr>\n    <tr>\n      <th>4</th>\n      <td>4433</td>\n      <td>Google</td>\n      <td>Neutral</td>\n      <td>Now the President is slapping Americans in the...</td>\n    </tr>\n    <tr>\n      <th>...</th>\n      <td>...</td>\n      <td>...</td>\n      <td>...</td>\n      <td>...</td>\n    </tr>\n    <tr>\n      <th>995</th>\n      <td>4891</td>\n      <td>GrandTheftAuto(GTA)</td>\n      <td>Irrelevant</td>\n      <td>⭐️ Toronto is the arts and culture capital of ...</td>\n    </tr>\n    <tr>\n      <th>996</th>\n      <td>4359</td>\n      <td>CS-GO</td>\n      <td>Irrelevant</td>\n      <td>tHIS IS ACTUALLY A GOOD MOVE TOT BRING MORE VI...</td>\n    </tr>\n    <tr>\n      <th>997</th>\n      <td>2652</td>\n      <td>Borderlands</td>\n      <td>Positive</td>\n      <td>Today sucked so it’s time to drink wine n play...</td>\n    </tr>\n    <tr>\n      <th>998</th>\n      <td>8069</td>\n      <td>Microsoft</td>\n      <td>Positive</td>\n      <td>Bought a fraction of Microsoft today. Small wins.</td>\n    </tr>\n    <tr>\n      <th>999</th>\n      <td>6960</td>\n      <td>johnson&amp;johnson</td>\n      <td>Neutral</td>\n      <td>Johnson &amp; Johnson to stop selling talc baby po...</td>\n    </tr>\n  </tbody>\n</table>\n<p>1000 rows × 4 columns</p>\n</div>"
     },
     "execution_count": 135,
     "metadata": {},
     "output_type": "execute_result"
    }
   ],
   "source": [
    "df_orig = pd.read_csv('twitter_validation.csv', names=[\"Twitter ID\",\"Topic\",\"Sentiment\",\"Text\"])\n",
    "df = df_orig.iloc[0:1000]\n",
    "df"
   ]
  },
  {
   "cell_type": "code",
   "execution_count": 136,
   "outputs": [],
   "source": [
    "# Preprocessing (delete username and url)\n",
    "def preprocess(text):\n",
    "    temp = []\n",
    "\n",
    "    for t in text.split(\" \"): # split a sentence into words by spaces \" \".\n",
    "        t = '@user' if t.startswith('@') and len(t) > 1 else t\n",
    "        t = 'http' if t.startswith('http') else t\n",
    "        temp.append(t)\n",
    "    return \" \".join(temp)\n",
    "\n",
    "# Change Irrelevant label into Neutral as mentioned in the data set description.\n",
    "def adjust_ori_sentiment(sentiment):\n",
    "    if sentiment == \"Irrelevant\":\n",
    "        temp_str = \"Neutral\"\n",
    "        return temp_str\n",
    "    else:\n",
    "        return sentiment"
   ],
   "metadata": {
    "collapsed": false
   }
  },
  {
   "cell_type": "code",
   "execution_count": 137,
   "outputs": [
    {
     "data": {
      "text/plain": "     Twitter ID                Topic Sentiment  \\\n0          3364             Facebook   Neutral   \n1           352               Amazon   Neutral   \n2          8312            Microsoft  Negative   \n3          4371                CS-GO  Negative   \n4          4433               Google   Neutral   \n..          ...                  ...       ...   \n995        4891  GrandTheftAuto(GTA)   Neutral   \n996        4359                CS-GO   Neutral   \n997        2652          Borderlands  Positive   \n998        8069            Microsoft  Positive   \n999        6960      johnson&johnson   Neutral   \n\n                                                  Text  \n0    I mentioned on Facebook that I was struggling ...  \n1    BBC News - Amazon boss Jeff Bezos rejects clai...  \n2    @user Why do I pay for WORD when it functions ...  \n3    CSGO matchmaking is so full of closet hacking,...  \n4    Now the President is slapping Americans in the...  \n..                                                 ...  \n995  ⭐️ Toronto is the arts and culture capital of ...  \n996  tHIS IS ACTUALLY A GOOD MOVE TOT BRING MORE VI...  \n997  Today sucked so it’s time to drink wine n play...  \n998  Bought a fraction of Microsoft today. Small wins.  \n999  Johnson & Johnson to stop selling talc baby po...  \n\n[1000 rows x 4 columns]",
      "text/html": "<div>\n<style scoped>\n    .dataframe tbody tr th:only-of-type {\n        vertical-align: middle;\n    }\n\n    .dataframe tbody tr th {\n        vertical-align: top;\n    }\n\n    .dataframe thead th {\n        text-align: right;\n    }\n</style>\n<table border=\"1\" class=\"dataframe\">\n  <thead>\n    <tr style=\"text-align: right;\">\n      <th></th>\n      <th>Twitter ID</th>\n      <th>Topic</th>\n      <th>Sentiment</th>\n      <th>Text</th>\n    </tr>\n  </thead>\n  <tbody>\n    <tr>\n      <th>0</th>\n      <td>3364</td>\n      <td>Facebook</td>\n      <td>Neutral</td>\n      <td>I mentioned on Facebook that I was struggling ...</td>\n    </tr>\n    <tr>\n      <th>1</th>\n      <td>352</td>\n      <td>Amazon</td>\n      <td>Neutral</td>\n      <td>BBC News - Amazon boss Jeff Bezos rejects clai...</td>\n    </tr>\n    <tr>\n      <th>2</th>\n      <td>8312</td>\n      <td>Microsoft</td>\n      <td>Negative</td>\n      <td>@user Why do I pay for WORD when it functions ...</td>\n    </tr>\n    <tr>\n      <th>3</th>\n      <td>4371</td>\n      <td>CS-GO</td>\n      <td>Negative</td>\n      <td>CSGO matchmaking is so full of closet hacking,...</td>\n    </tr>\n    <tr>\n      <th>4</th>\n      <td>4433</td>\n      <td>Google</td>\n      <td>Neutral</td>\n      <td>Now the President is slapping Americans in the...</td>\n    </tr>\n    <tr>\n      <th>...</th>\n      <td>...</td>\n      <td>...</td>\n      <td>...</td>\n      <td>...</td>\n    </tr>\n    <tr>\n      <th>995</th>\n      <td>4891</td>\n      <td>GrandTheftAuto(GTA)</td>\n      <td>Neutral</td>\n      <td>⭐️ Toronto is the arts and culture capital of ...</td>\n    </tr>\n    <tr>\n      <th>996</th>\n      <td>4359</td>\n      <td>CS-GO</td>\n      <td>Neutral</td>\n      <td>tHIS IS ACTUALLY A GOOD MOVE TOT BRING MORE VI...</td>\n    </tr>\n    <tr>\n      <th>997</th>\n      <td>2652</td>\n      <td>Borderlands</td>\n      <td>Positive</td>\n      <td>Today sucked so it’s time to drink wine n play...</td>\n    </tr>\n    <tr>\n      <th>998</th>\n      <td>8069</td>\n      <td>Microsoft</td>\n      <td>Positive</td>\n      <td>Bought a fraction of Microsoft today. Small wins.</td>\n    </tr>\n    <tr>\n      <th>999</th>\n      <td>6960</td>\n      <td>johnson&amp;johnson</td>\n      <td>Neutral</td>\n      <td>Johnson &amp; Johnson to stop selling talc baby po...</td>\n    </tr>\n  </tbody>\n</table>\n<p>1000 rows × 4 columns</p>\n</div>"
     },
     "execution_count": 137,
     "metadata": {},
     "output_type": "execute_result"
    }
   ],
   "source": [
    "df['Text'] = df['Text'].apply(preprocess)\n",
    "df['Sentiment'] = df['Sentiment'].apply(adjust_ori_sentiment)\n",
    "df"
   ],
   "metadata": {
    "collapsed": false
   }
  },
  {
   "cell_type": "code",
   "execution_count": 138,
   "outputs": [],
   "source": [
    "def textlabel(tweet):\n",
    "    # Preprocess the tweet and use ChatGPT to extract keywords or phrases\n",
    "    inputs = tokenizer.encode(tweet, return_tensors=\"pt\").to(device)\n",
    "    outputs = model.generate(inputs, max_new_tokens=100, do_sample=True, temperature=x, pad_token_id=tokenizer.eos_token_id)\n",
    "    generated_tweet = tokenizer.decode(outputs[0], skip_special_tokens=True)\n",
    "    generated_tokens = nltk.word_tokenize(generated_tweet.lower())\n",
    "    #print(\"Assigning scores...\")\n",
    "    # Assign sentiment scores using the VADER sentiment lexicon\n",
    "    scores = []\n",
    "    for token in generated_tokens:\n",
    "        score = analyzer.polarity_scores(token)\n",
    "        scores.append(score[\"compound\"])\n",
    "\n",
    "    # Calculate the overall sentiment score for the tweet\n",
    "    overall_score = sum(scores) / len(scores)\n",
    "\n",
    "    # Determine the sentiment polarity of the tweet\n",
    "    if overall_score > 0:\n",
    "        return 'Positive'\n",
    "    elif overall_score < 0:\n",
    "        return 'Negative'\n",
    "    else:\n",
    "        return 'Neutral'\n",
    "\n",
    "# Check the accuracy\n",
    "def evalable(label):\n",
    "    good_label = 0\n",
    "    bad_label= 0\n",
    "    for i in range (df.shape[0]):\n",
    "        if str(df.iloc[i,2]) == str(df.iloc[i,4]):\n",
    "            good_label += 1\n",
    "        else:\n",
    "            bad_label += 1\n",
    "    return good_label, bad_label"
   ],
   "metadata": {
    "collapsed": false
   }
  },
  {
   "cell_type": "code",
   "execution_count": 84,
   "outputs": [],
   "source": [
    "x_list = [0.5, 0.6, 0.7, 0.8, 0.9, 1.0]\n",
    "acc_list = []\n",
    "for i in range(len(x_list)):\n",
    "    x = x_list[i]\n",
    "    df['results'] = df['Text'].apply(textlabel)\n",
    "    acc_list.append(evalable(df))"
   ],
   "metadata": {
    "collapsed": false
   }
  },
  {
   "cell_type": "code",
   "execution_count": 86,
   "outputs": [],
   "source": [
    "x_list2 = [0.2, 0.3, 0.35, 0.4, 0.45]\n",
    "acc_list2 = []\n",
    "for i in range(len(x_list2)):\n",
    "    x = x_list2[i]\n",
    "    df['results'] = df['Text'].apply(textlabel)\n",
    "    acc_list2.append(evalable(df))"
   ],
   "metadata": {
    "collapsed": false
   }
  },
  {
   "cell_type": "code",
   "execution_count": 133,
   "outputs": [
    {
     "data": {
      "text/plain": "[<matplotlib.lines.Line2D at 0x27287b2b160>]"
     },
     "execution_count": 133,
     "metadata": {},
     "output_type": "execute_result"
    },
    {
     "data": {
      "text/plain": "<Figure size 640x480 with 1 Axes>",
      "image/png": "[encoded data removed]"
     },
     "metadata": {},
     "output_type": "display_data"
    }
   ],
   "source": [
    "mid_acc_list = acc_list+acc_list2\n",
    "f_temp_list = x_list+x_list2\n",
    "\n",
    "f_acc_list = []\n",
    "for i in range(len(mid_acc_list)):\n",
    "    f_acc_list.append(mid_acc_list[i][0])\n",
    "\n",
    "plt.plot(f_temp_list, f_acc_list, 'o')"
   ],
   "metadata": {
    "collapsed": false
   }
  },
  {
   "cell_type": "code",
   "execution_count": 139,
   "outputs": [],
   "source": [
    "x = 0.5\n",
    "df['results'] = df['Text'].apply(textlabel)\n",
    "acc_list.append(evalable(df))"
   ],
   "metadata": {
    "collapsed": false
   }
  },
  {
   "cell_type": "code",
   "execution_count": 141,
   "outputs": [
    {
     "data": {
      "text/plain": "[(21, 29), (17, 33), (16, 34), (16, 34), (16, 34), (17, 33), (368, 632)]"
     },
     "execution_count": 141,
     "metadata": {},
     "output_type": "execute_result"
    }
   ],
   "source": [
    "acc_list"
   ],
   "metadata": {
    "collapsed": false
   }
  },
  {
   "cell_type": "code",
   "execution_count": null,
   "outputs": [],
   "source": [],
   "metadata": {
    "collapsed": false
   }
  }
 ],
 "metadata": {
  "kernelspec": {
   "display_name": "Python 3",
   "language": "python",
   "name": "python3"
  },
  "language_info": {
   "codemirror_mode": {
    "name": "ipython",
    "version": 3
   },
   "file_extension": ".py",
   "mimetype": "text/x-python",
   "name": "python",
   "nbconvert_exporter": "python",
   "pygments_lexer": "ipython3",
   "version": "3.8.8"
  }
 },
 "nbformat": 4,
 "nbformat_minor": 5
}
