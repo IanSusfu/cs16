{
 "cells": [
  {
   "cell_type": "markdown",
   "id": "70999146",
   "metadata": {},
   "source": [
    "# Week3 "
   ]
  },
  {
   "cell_type": "markdown",
   "id": "d51793da",
   "metadata": {},
   "source": [
    "# Machine Learning"
   ]
  },
  {
   "cell_type": "markdown",
   "id": "df198458",
   "metadata": {},
   "source": [
    "# MACHINE LEARNING"
   ]
  },
  {
   "cell_type": "code",
   "execution_count": 3,
   "id": "ae095d3c",
   "metadata": {},
   "outputs": [
    {
     "name": "stderr",
     "output_type": "stream",
     "text": [
      "C:\\Users\\andy\\anaconda3\\lib\\site-packages\\sklearn\\feature_extraction\\text.py:528: UserWarning: The parameter 'token_pattern' will not be used since 'tokenizer' is not None'\n",
      "  warnings.warn(\n"
     ]
    },
    {
     "name": "stdout",
     "output_type": "stream",
     "text": [
      "The execution time of this model is 0.01 seconds\n",
      "\n",
      "              precision    recall  f1-score   support\n",
      "\n",
      "           0       0.70      0.76      0.73      1239\n",
      "           4       0.74      0.68      0.71      1261\n",
      "\n",
      "    accuracy                           0.72      2500\n",
      "   macro avg       0.72      0.72      0.72      2500\n",
      "weighted avg       0.72      0.72      0.72      2500\n",
      "\n",
      "Accuracy Score: 0.7164\n"
     ]
    }
   ],
   "source": [
    "import pandas as pd\n",
    "import time\n",
    "\n",
    "from sklearn.feature_extraction.text import CountVectorizer\n",
    "from nltk.tokenize import RegexpTokenizer\n",
    "from sklearn.naive_bayes import MultinomialNB\n",
    "from sklearn.model_selection import train_test_split\n",
    "from sklearn import metrics\n",
    "from nltk.classify import NaiveBayesClassifier\n",
    "from sklearn.svm import SVC, LinearSVC\n",
    "from sklearn.linear_model import LogisticRegression\n",
    "from sklearn.metrics import confusion_matrix, classification_report\n",
    "from sklearn.ensemble import RandomForestClassifier\n",
    "\n",
    "data = pd.read_csv('twitter_with_label.csv')\n",
    "tok = RegexpTokenizer(r'[a-zA-Z0-9]+')\n",
    "\n",
    "vector = CountVectorizer(stop_words='english',\n",
    "                         ngram_range = (1,3),\n",
    "                         tokenizer = tok.tokenize)\n",
    "#data['text'] = data['text'].apply(preprocess_text)\n",
    "text = vector.fit_transform(data['text'])\n",
    "\n",
    "#Splitting trainig and testing\n",
    "X_train, X_test, Y_train, Y_test = train_test_split(text, data['rating'], test_size=0.25, random_state=41)\n",
    "\n",
    "#Training the model\n",
    "model =  MultinomialNB() \n",
    "start = time.time()\n",
    "model.fit(X_train, Y_train)\n",
    "end = time.time()\n",
    "\n",
    "#Caluclating the accuracy score of the model\n",
    "pred = model.predict(X_test)\n",
    "accscore = metrics.accuracy_score(pred, Y_test)\n",
    "#print(\"OH MY GOD, let check the Accuracuy Score: \",accscore)\n",
    "\n",
    "print(\"The execution time of this model is {:.2f} seconds\\n\".format(end-start))\n",
    "print(classification_report(Y_test, pred))\n",
    "print(\"Accuracy Score:\", model.score(X_test,Y_test))"
   ]
  },
  {
   "cell_type": "code",
   "execution_count": 5,
   "id": "1cb58055",
   "metadata": {},
   "outputs": [
    {
     "data": {
      "text/html": [
       "<div>\n",
       "<style scoped>\n",
       "    .dataframe tbody tr th:only-of-type {\n",
       "        vertical-align: middle;\n",
       "    }\n",
       "\n",
       "    .dataframe tbody tr th {\n",
       "        vertical-align: top;\n",
       "    }\n",
       "\n",
       "    .dataframe thead th {\n",
       "        text-align: right;\n",
       "    }\n",
       "</style>\n",
       "<table border=\"1\" class=\"dataframe\">\n",
       "  <thead>\n",
       "    <tr style=\"text-align: right;\">\n",
       "      <th></th>\n",
       "      <th>Tweet</th>\n",
       "    </tr>\n",
       "  </thead>\n",
       "  <tbody>\n",
       "    <tr>\n",
       "      <th>0</th>\n",
       "      <td>how is your morning going so far?</td>\n",
       "    </tr>\n",
       "    <tr>\n",
       "      <th>1</th>\n",
       "      <td>its so easy</td>\n",
       "    </tr>\n",
       "    <tr>\n",
       "      <th>2</th>\n",
       "      <td>well, ’ halfway through the book and you are ...</td>\n",
       "    </tr>\n",
       "    <tr>\n",
       "      <th>3</th>\n",
       "      <td>au' top telcos are losing ground to smaller pr...</td>\n",
       "    </tr>\n",
       "    <tr>\n",
       "      <th>4</th>\n",
       "      <td>new primate has just been listed : primate pr...</td>\n",
       "    </tr>\n",
       "    <tr>\n",
       "      <th>5</th>\n",
       "      <td>those are elevator cowboy boots. give .-.” of...</td>\n",
       "    </tr>\n",
       "    <tr>\n",
       "      <th>6</th>\n",
       "      <td>in scandinavia all the prime ministers look li...</td>\n",
       "    </tr>\n",
       "    <tr>\n",
       "      <th>7</th>\n",
       "      <td>are they having contest to see who' the most ...</td>\n",
       "    </tr>\n",
       "    <tr>\n",
       "      <th>8</th>\n",
       "      <td>sadly no, school gets in the way since ' amer...</td>\n",
       "    </tr>\n",
       "    <tr>\n",
       "      <th>9</th>\n",
       "      <td>god gave me you!\\naldub maichard no to solo p...</td>\n",
       "    </tr>\n",
       "  </tbody>\n",
       "</table>\n",
       "</div>"
      ],
      "text/plain": [
       "                                               Tweet\n",
       "0                  how is your morning going so far?\n",
       "1                                        its so easy\n",
       "2   well, ’ halfway through the book and you are ...\n",
       "3  au' top telcos are losing ground to smaller pr...\n",
       "4   new primate has just been listed : primate pr...\n",
       "5   those are elevator cowboy boots. give .-.” of...\n",
       "6  in scandinavia all the prime ministers look li...\n",
       "7   are they having contest to see who' the most ...\n",
       "8   sadly no, school gets in the way since ' amer...\n",
       "9   god gave me you!\\naldub maichard no to solo p..."
      ]
     },
     "execution_count": 5,
     "metadata": {},
     "output_type": "execute_result"
    }
   ],
   "source": [
    "#============================================\n",
    "# pre processing\n",
    "#============================================\n",
    "import re\n",
    "import string\n",
    "import pandas as pd\n",
    "punctuations = string.punctuation\n",
    "\n",
    "# Load the dataset\n",
    "data = pd.read_csv(\"tweet10K.csv\")\n",
    "\n",
    "def text_preprocessing(txt):\n",
    "    # convert to lowercase :\n",
    "    txt = txt.lower()\n",
    "    \n",
    "    # ##### REMOVING #####\n",
    "    # Remove mentions and hashtags\n",
    "    txt = re.sub(r'@\\w+|\\#\\w+', '', txt)\n",
    "    \n",
    "    # URL links :\n",
    "    txt = re.sub(r'https?:\\/\\/.*\\/\\w*', '', txt) \n",
    "    #or re.sub('https?://[A-Za-z0-9./]+','',txt)\n",
    "    \n",
    "    # Tags :\n",
    "    txt = re.sub(r'#\\w*', '', txt)\n",
    "    \n",
    "    # Some specific entities in H5 :\n",
    "    txt = re.sub(r'\\&\\w*;', '', txt)\n",
    "    \n",
    "    # Words fewer than 2 letters  :\n",
    "    txt = re.sub(r'\\b\\w{1}\\b', '', txt)\n",
    "    \n",
    "    # whitespace and new line characters :\n",
    "    txt = re.sub(r'\\s\\s+', ' ', txt)\n",
    "    \n",
    "    # removing characters beyond Unicode :\n",
    "    txt = ''.join(c for c in txt if c <= '\\uFFFF') \n",
    "    return txt\n",
    "\n",
    "# cleaning dataframe's text column\n",
    "data['Tweet'] = data['Tweet'].apply(text_preprocessing)\n",
    "# preview some cleaned tweets\n",
    "pd.DataFrame(data['Tweet'].head(10))"
   ]
  },
  {
   "cell_type": "code",
   "execution_count": 6,
   "id": "09185bc1",
   "metadata": {},
   "outputs": [
    {
     "data": {
      "text/html": [
       "<div>\n",
       "<style scoped>\n",
       "    .dataframe tbody tr th:only-of-type {\n",
       "        vertical-align: middle;\n",
       "    }\n",
       "\n",
       "    .dataframe tbody tr th {\n",
       "        vertical-align: top;\n",
       "    }\n",
       "\n",
       "    .dataframe thead th {\n",
       "        text-align: right;\n",
       "    }\n",
       "</style>\n",
       "<table border=\"1\" class=\"dataframe\">\n",
       "  <thead>\n",
       "    <tr style=\"text-align: right;\">\n",
       "      <th></th>\n",
       "      <th>Tweet</th>\n",
       "    </tr>\n",
       "  </thead>\n",
       "  <tbody>\n",
       "    <tr>\n",
       "      <th>0</th>\n",
       "      <td>how is your morning going so far?</td>\n",
       "    </tr>\n",
       "    <tr>\n",
       "      <th>1</th>\n",
       "      <td>its so easy</td>\n",
       "    </tr>\n",
       "    <tr>\n",
       "      <th>2</th>\n",
       "      <td>well, ’ halfway through the book and you are ...</td>\n",
       "    </tr>\n",
       "    <tr>\n",
       "      <th>3</th>\n",
       "      <td>au' top telcos are losing ground to smaller pr...</td>\n",
       "    </tr>\n",
       "    <tr>\n",
       "      <th>4</th>\n",
       "      <td>new primate has just been listed : primate pr...</td>\n",
       "    </tr>\n",
       "    <tr>\n",
       "      <th>5</th>\n",
       "      <td>those are elevator cowboy boots. give .-.” of...</td>\n",
       "    </tr>\n",
       "    <tr>\n",
       "      <th>6</th>\n",
       "      <td>in scandinavia all the prime ministers look li...</td>\n",
       "    </tr>\n",
       "    <tr>\n",
       "      <th>7</th>\n",
       "      <td>are they having contest to see who' the most ...</td>\n",
       "    </tr>\n",
       "    <tr>\n",
       "      <th>8</th>\n",
       "      <td>sadly no, school gets in the way since ' amer...</td>\n",
       "    </tr>\n",
       "    <tr>\n",
       "      <th>9</th>\n",
       "      <td>god gave me you!\\naldub maichard no to solo p...</td>\n",
       "    </tr>\n",
       "  </tbody>\n",
       "</table>\n",
       "</div>"
      ],
      "text/plain": [
       "                                               Tweet\n",
       "0                  how is your morning going so far?\n",
       "1                                        its so easy\n",
       "2   well, ’ halfway through the book and you are ...\n",
       "3  au' top telcos are losing ground to smaller pr...\n",
       "4   new primate has just been listed : primate pr...\n",
       "5   those are elevator cowboy boots. give .-.” of...\n",
       "6  in scandinavia all the prime ministers look li...\n",
       "7   are they having contest to see who' the most ...\n",
       "8   sadly no, school gets in the way since ' amer...\n",
       "9   god gave me you!\\naldub maichard no to solo p..."
      ]
     },
     "execution_count": 6,
     "metadata": {},
     "output_type": "execute_result"
    }
   ],
   "source": [
    "# cleaning dataframe's text column\n",
    "data['Tweet'] = data['Tweet'].apply(text_preprocessing)\n",
    "# preview some cleaned tweets\n",
    "pd.DataFrame(data['Tweet'].head(10))"
   ]
  },
  {
   "cell_type": "code",
   "execution_count": 7,
   "id": "c71a28c2",
   "metadata": {},
   "outputs": [
    {
     "name": "stdout",
     "output_type": "stream",
     "text": [
      "2.10.0\n",
      "C:\\Users\\andy\\anaconda3;C:\\Users\\andy\\anaconda3\\Library\\mingw-w64\\bin;C:\\Users\\andy\\anaconda3\\Library\\usr\\bin;C:\\Users\\andy\\anaconda3\\Library\\bin;C:\\Users\\andy\\anaconda3\\Scripts;C:\\Program Files (x86)\\Common Files\\Oracle\\Java\\javapath;C:\\WINDOWS\\system32;C:\\WINDOWS;C:\\WINDOWS\\System32\\Wbem;C:\\WINDOWS\\System32\\WindowsPowerShell\\v1.0\\;C:\\WINDOWS\\System32\\OpenSSH\\;C:\\Users\\andy\\AppData\\Local\\Microsoft\\WindowsApps;C:\\Program Files\\Graphviz\\bin;C:\\ffmpeg\\bin;\n"
     ]
    }
   ],
   "source": [
    "#Check the version of TensorFlow for DeepLearning\n",
    "import tensorflow as tf\n",
    "print(tf.__version__)\n",
    "import os\n",
    "print(os.environ['PATH'])"
   ]
  }
 ],
 "metadata": {
  "kernelspec": {
   "display_name": "Python 3 (ipykernel)",
   "language": "python",
   "name": "python3"
  },
  "language_info": {
   "codemirror_mode": {
    "name": "ipython",
    "version": 3
   },
   "file_extension": ".py",
   "mimetype": "text/x-python",
   "name": "python",
   "nbconvert_exporter": "python",
   "pygments_lexer": "ipython3",
   "version": "3.8.16"
  }
 },
 "nbformat": 4,
 "nbformat_minor": 5
}
