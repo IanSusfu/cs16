{
 "cells": [
  {
   "cell_type": "markdown",
   "id": "44660281",
   "metadata": {},
   "source": [
    "# Bi-Directional LSTM"
   ]
  },
  {
   "cell_type": "code",
   "execution_count": 20,
   "id": "1f5b2d7d",
   "metadata": {},
   "outputs": [],
   "source": [
    "from keras.layers import Input, Conv1D, MaxPooling1D, Bidirectional, LSTM, concatenate, Dense, GlobalAveragePooling1D, GlobalMaxPooling1D\n",
    "\n",
    "import pandas as pd\n",
    "import matplotlib.pyplot as plt\n",
    "# load the data\n",
    "df = pd.read_csv('3polarity.csv', encoding = 'utf-8')"
   ]
  },
  {
   "cell_type": "code",
   "execution_count": 21,
   "id": "9669707d",
   "metadata": {},
   "outputs": [],
   "source": [
    "from sklearn.metrics import classification_report\n",
    "\n",
    "def print_classification_report(model, X_test, y_test):\n",
    "    pred = model.predict(X_test)\n",
    "    pred_classes = np.argmax(pred, axis=1)\n",
    "    y_test_classes = np.argmax(y_test, axis=1)\n",
    "\n",
    "    print(classification_report(y_test_classes, pred_classes))\n",
    "    loss, accuracy = model.evaluate(X_test, y_test, verbose=0)\n",
    "    print('Test loss:', loss)\n",
    "    print('Test accuracy:', accuracy)\n"
   ]
  },
  {
   "cell_type": "code",
   "execution_count": 31,
   "id": "7f61b403",
   "metadata": {},
   "outputs": [],
   "source": [
    "from keras.preprocessing.text import Tokenizer\n",
    "from tensorflow.keras.preprocessing.sequence import pad_sequences\n",
    "from keras.layers import Input, Embedding, Dropout, Conv1D, MaxPooling1D, Flatten, Dense\n",
    "from keras.models import Model\n",
    "from sklearn.model_selection import train_test_split\n",
    "\n",
    "\n",
    "def preprocess_data(df):\n",
    "    tokenizer = Tokenizer(num_words=5000, split=' ')\n",
    "    tokenizer.fit_on_texts(df['Tweet'].values)\n",
    "    X = tokenizer.texts_to_sequences(df['Tweet'].values)\n",
    "    X = pad_sequences(X)\n",
    "    y = pd.get_dummies(df['Polarity']).values\n",
    "    return X, y\n",
    "\n",
    "\n",
    "def build_bilstm_model(input_shape):\n",
    "    inputs = Input(shape=input_shape)\n",
    "    x = Embedding(5000, 128, input_length=input_shape[0])(inputs)\n",
    "    x = Dropout(0.5)(x)\n",
    "    x = Bidirectional(LSTM(128, return_sequences=True))(x)\n",
    "    x = Conv1D(64, kernel_size=3, padding=\"valid\", kernel_initializer=\"glorot_uniform\")(x)\n",
    "    avg_pool = GlobalAveragePooling1D()(x)\n",
    "    max_pool = GlobalMaxPooling1D()(x)\n",
    "    x = concatenate([avg_pool, max_pool])\n",
    "    x = Dense(64, activation='relu')(x)  # add one more dense layer\n",
    "    x = Dropout(0.5)(x)\n",
    "    x = Dense(32, activation='relu')(x)  # add one more dense layer\n",
    "    x = Dropout(0.5)(x)\n",
    "    outputs = Dense(3, activation='softmax')(x)\n",
    "    model = Model(inputs=inputs, outputs=outputs)\n",
    "    model.compile(loss='categorical_crossentropy', optimizer='adam', metrics=['accuracy'])\n",
    "    return model\n",
    "\n",
    "def train_bilstm_model(df):\n",
    "    X, y = preprocess_data(df)\n",
    "    input_shape = X.shape[1:]\n",
    "    model = build_bilstm_model(input_shape)\n",
    "    X_train, X_test, y_train, y_test = train_test_split(X, y, test_size=0.2, random_state=42)\n",
    "    history = model.fit(X_train, y_train, validation_data=(X_test, y_test), epochs=10, batch_size=128)\n",
    "    loss, accuracy = model.evaluate(X_test, y_test, verbose=0)\n",
    "    print('Test loss:', loss)\n",
    "    print('Test accuracy:', accuracy)\n",
    "    return model, history\n"
   ]
  },
  {
   "cell_type": "code",
   "execution_count": 32,
   "id": "d2e6ef49",
   "metadata": {},
   "outputs": [
    {
     "name": "stdout",
     "output_type": "stream",
     "text": [
      "Epoch 1/10\n",
      "37/37 [==============================] - 15s 290ms/step - loss: 0.9851 - accuracy: 0.5296 - val_loss: 0.9352 - val_accuracy: 0.5346\n",
      "Epoch 2/10\n",
      "37/37 [==============================] - 10s 252ms/step - loss: 0.8219 - accuracy: 0.6456 - val_loss: 0.7662 - val_accuracy: 0.6852\n",
      "Epoch 3/10\n",
      "37/37 [==============================] - 10s 272ms/step - loss: 0.6349 - accuracy: 0.7438 - val_loss: 0.6696 - val_accuracy: 0.7160\n",
      "Epoch 4/10\n",
      "37/37 [==============================] - 11s 310ms/step - loss: 0.4534 - accuracy: 0.8093 - val_loss: 0.6378 - val_accuracy: 0.7297\n",
      "Epoch 5/10\n",
      "37/37 [==============================] - 11s 286ms/step - loss: 0.3207 - accuracy: 0.8481 - val_loss: 0.7374 - val_accuracy: 0.7177\n",
      "Epoch 6/10\n",
      "37/37 [==============================] - 9s 247ms/step - loss: 0.2609 - accuracy: 0.8729 - val_loss: 0.7840 - val_accuracy: 0.7169\n",
      "Epoch 7/10\n",
      "37/37 [==============================] - 9s 245ms/step - loss: 0.2393 - accuracy: 0.8817 - val_loss: 0.8619 - val_accuracy: 0.7228\n",
      "Epoch 8/10\n",
      "37/37 [==============================] - 10s 275ms/step - loss: 0.1917 - accuracy: 0.9011 - val_loss: 1.1086 - val_accuracy: 0.7015\n",
      "Epoch 9/10\n",
      "37/37 [==============================] - 10s 266ms/step - loss: 0.1815 - accuracy: 0.9033 - val_loss: 1.1122 - val_accuracy: 0.7023\n",
      "Epoch 10/10\n",
      "37/37 [==============================] - 9s 249ms/step - loss: 0.1818 - accuracy: 0.9037 - val_loss: 1.1652 - val_accuracy: 0.6895\n",
      "Test loss: 1.1652151346206665\n",
      "Test accuracy: 0.6894781589508057\n"
     ]
    }
   ],
   "source": [
    "bilstm_model,bilstm_history = train_bilstm_model(df)"
   ]
  }
 ],
 "metadata": {
  "kernelspec": {
   "display_name": "Python 3 (ipykernel)",
   "language": "python",
   "name": "python3"
  },
  "language_info": {
   "codemirror_mode": {
    "name": "ipython",
    "version": 3
   },
   "file_extension": ".py",
   "mimetype": "text/x-python",
   "name": "python",
   "nbconvert_exporter": "python",
   "pygments_lexer": "ipython3",
   "version": "3.10.10"
  }
 },
 "nbformat": 4,
 "nbformat_minor": 5
}
