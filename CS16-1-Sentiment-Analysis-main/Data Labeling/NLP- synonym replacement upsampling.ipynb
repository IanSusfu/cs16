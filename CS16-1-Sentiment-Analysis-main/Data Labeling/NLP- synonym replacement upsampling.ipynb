{
 "cells": [
  {
   "cell_type": "code",
   "execution_count": 2,
   "id": "5c0420cb",
   "metadata": {},
   "outputs": [],
   "source": [
    "import pandas as pd\n",
    "import numpy as np\n",
    "import matplotlib.pyplot as plt\n",
    "import re\n",
    "from nltk.corpus import stopwords\n",
    "from keras.preprocessing.text import Tokenizer\n",
    "\n",
    "df = pd.read_csv('single.txt')"
   ]
  },
  {
   "cell_type": "code",
   "execution_count": 3,
   "id": "f2ffc33d",
   "metadata": {},
   "outputs": [
    {
     "name": "stderr",
     "output_type": "stream",
     "text": [
      "[nltk_data] Downloading package wordnet to\n",
      "[nltk_data]     C:\\Users\\andy\\AppData\\Roaming\\nltk_data...\n",
      "[nltk_data]   Package wordnet is already up-to-date!\n"
     ]
    },
    {
     "name": "stdout",
     "output_type": "stream",
     "text": [
      "      Unnamed: 0.1  Unnamed: 0    ID  text_polarity  image_polarity  \\\n",
      "0                0           0     1              0               1   \n",
      "1                1           1     2              0               1   \n",
      "2                2           2     3              0               1   \n",
      "3                3           3     4              1               1   \n",
      "4                4           4     5              1               1   \n",
      "...            ...         ...   ...            ...             ...   \n",
      "4864          4864        4864  5125              0               1   \n",
      "4865          4865        4865  5126              1               0   \n",
      "4866          4866        4866  5127              1               1   \n",
      "4867          4867        4867  5128              0               1   \n",
      "4868          4868        4868  5129              1               1   \n",
      "\n",
      "                                                  tweet  polarity  \n",
      "0     How iodine feel today # legday # gelatin # ach...         1  \n",
      "1     grattis minute griskulting ! ! ! ? ? ? ? Virgi...         1  \n",
      "2     RT @ polynminion : The moment iodine found my ...         1  \n",
      "3     # bodyguard We rich_person angstrom young and ...         1  \n",
      "4     RT @ chrisashaffer : travel to SSC today to be...         1  \n",
      "...                                                 ...       ...  \n",
      "4864  hypertext_transfer_protocol : //t.co/Y4ZrSmq2K...         1  \n",
      "4865  yes ! # iniquitous # food # freefrom # glutenf...         1  \n",
      "4866  RT @ bookmyshow : # Disney 's lie - `` every d...         1  \n",
      "4867  RT @ MUBMI : two More days to submit your apps...         1  \n",
      "4868  RT @ khununeos : khun Washington literally Mai...         1  \n",
      "\n",
      "[4869 rows x 7 columns]\n"
     ]
    }
   ],
   "source": [
    "import pandas as pd\n",
    "import nltk\n",
    "from nltk.corpus import wordnet\n",
    "from nltk.tokenize import word_tokenize\n",
    "nltk.download('wordnet')\n",
    "dfr = df\n",
    "\n",
    "# Function for synonym replacement\n",
    "def replace_synonyms(text):\n",
    "    words = word_tokenize(text)\n",
    "    words_syn = []\n",
    "    for w in words:\n",
    "        synonyms = []\n",
    "        for syn in wordnet.synsets(w):\n",
    "            for lemma in syn.lemmas():\n",
    "                synonyms.append(lemma.name())\n",
    "        if len(synonyms) > 0:\n",
    "            w_syn = synonyms[0]\n",
    "        else:\n",
    "            w_syn = w\n",
    "        words_syn.append(w_syn)\n",
    "    return ' '.join(words_syn)\n",
    "\n",
    "# Apply the synonym replacement function to the 'tweet' column\n",
    "df['tweet'] = df['tweet'].apply(replace_synonyms)\n",
    "\n",
    "# Output\n",
    "print(df)"
   ]
  },
  {
   "cell_type": "code",
   "execution_count": 5,
   "id": "8653941b",
   "metadata": {},
   "outputs": [],
   "source": [
    "df.drop(columns=['Unnamed: 0', 'Unnamed: 0.1'], inplace=True)"
   ]
  },
  {
   "cell_type": "code",
   "execution_count": 7,
   "id": "1dccebf1",
   "metadata": {},
   "outputs": [],
   "source": [
    "df.to_csv('single_synrep.txt')"
   ]
  }
 ],
 "metadata": {
  "kernelspec": {
   "display_name": "Python 3",
   "language": "python",
   "name": "python3"
  },
  "language_info": {
   "codemirror_mode": {
    "name": "ipython",
    "version": 3
   },
   "file_extension": ".py",
   "mimetype": "text/x-python",
   "name": "python",
   "nbconvert_exporter": "python",
   "pygments_lexer": "ipython3",
   "version": "3.9.0"
  }
 },
 "nbformat": 4,
 "nbformat_minor": 5
}
