{
 "cells": [
  {
   "cell_type": "markdown",
   "id": "5c355426",
   "metadata": {},
   "source": [
    "# WEEK4 simple Recurrent neural network RNN"
   ]
  },
  {
   "cell_type": "code",
   "execution_count": 8,
   "id": "6e94f441",
   "metadata": {},
   "outputs": [
    {
     "data": {
      "text/html": [
       "<div>\n",
       "<style scoped>\n",
       "    .dataframe tbody tr th:only-of-type {\n",
       "        vertical-align: middle;\n",
       "    }\n",
       "\n",
       "    .dataframe tbody tr th {\n",
       "        vertical-align: top;\n",
       "    }\n",
       "\n",
       "    .dataframe thead th {\n",
       "        text-align: right;\n",
       "    }\n",
       "</style>\n",
       "<table border=\"1\" class=\"dataframe\">\n",
       "  <thead>\n",
       "    <tr style=\"text-align: right;\">\n",
       "      <th></th>\n",
       "      <th>text</th>\n",
       "      <th>rating</th>\n",
       "    </tr>\n",
       "  </thead>\n",
       "  <tbody>\n",
       "    <tr>\n",
       "      <th>0</th>\n",
       "      <td>hey yum sangria snorkel sound amaz glad fun</td>\n",
       "      <td>4</td>\n",
       "    </tr>\n",
       "    <tr>\n",
       "      <th>1</th>\n",
       "      <td>enjoy sunday dinner</td>\n",
       "      <td>4</td>\n",
       "    </tr>\n",
       "    <tr>\n",
       "      <th>2</th>\n",
       "      <td>show awesom vega u make last night tour memor</td>\n",
       "      <td>4</td>\n",
       "    </tr>\n",
       "    <tr>\n",
       "      <th>3</th>\n",
       "      <td>damon welcom twitter nation</td>\n",
       "      <td>4</td>\n",
       "    </tr>\n",
       "    <tr>\n",
       "      <th>4</th>\n",
       "      <td>amp think find mine leav guy thought well</td>\n",
       "      <td>0</td>\n",
       "    </tr>\n",
       "  </tbody>\n",
       "</table>\n",
       "</div>"
      ],
      "text/plain": [
       "                                            text  rating\n",
       "0    hey yum sangria snorkel sound amaz glad fun       4\n",
       "1                            enjoy sunday dinner       4\n",
       "2  show awesom vega u make last night tour memor       4\n",
       "3                    damon welcom twitter nation       4\n",
       "4      amp think find mine leav guy thought well       0"
      ]
     },
     "execution_count": 8,
     "metadata": {},
     "output_type": "execute_result"
    }
   ],
   "source": [
    "import pandas as pd\n",
    "import numpy as np\n",
    "#data = pd.read_csv('twitter_with_label.csv')\n",
    "data = pd.read_csv('cleaned_with_label.csv', encoding='ISO-8859-1')\n",
    "data=data[['text','rating']]\n",
    "data.head()"
   ]
  },
  {
   "cell_type": "code",
   "execution_count": 9,
   "id": "f778099b",
   "metadata": {},
   "outputs": [
    {
     "data": {
      "text/plain": [
       "<Axes: xlabel='rating', ylabel='count'>"
      ]
     },
     "execution_count": 9,
     "metadata": {},
     "output_type": "execute_result"
    },
    {
     "data": {
      "image/png": "[encoded data removed]",
      "text/plain": [
       "<Figure size 640x480 with 1 Axes>"
      ]
     },
     "metadata": {},
     "output_type": "display_data"
    }
   ],
   "source": [
    "import seaborn as sns\n",
    "sns.countplot(x='rating', data=data)"
   ]
  },
  {
   "cell_type": "code",
   "execution_count": 10,
   "id": "67a2273c",
   "metadata": {},
   "outputs": [],
   "source": [
    "# import necessary libraries\n",
    "import tensorflow.keras\n",
    "import numpy as np\n",
    "from tensorflow.keras.models import Sequential\n",
    "from tensorflow.keras.layers import InputLayer, Dense, SimpleRNN, Activation, Dropout, Conv1D\n",
    "from tensorflow.keras.layers import Embedding, Flatten, LSTM, GRU\n",
    "from tensorflow.keras.preprocessing.text import Tokenizer\n",
    "from tensorflow.keras.preprocessing.sequence import pad_sequences\n",
    "from tensorflow.keras.callbacks import EarlyStopping\n",
    "from sklearn.metrics import classification_report\n",
    "from sklearn.model_selection import train_test_split"
   ]
  },
  {
   "cell_type": "markdown",
   "id": "47f3590b",
   "metadata": {},
   "source": [
    "### Transforming Data for NN"
   ]
  },
  {
   "cell_type": "code",
   "execution_count": 12,
   "id": "16c9c6aa",
   "metadata": {},
   "outputs": [
    {
     "name": "stdout",
     "output_type": "stream",
     "text": [
      " 7940 unique tokens found.\n"
     ]
    }
   ],
   "source": [
    "data = data.dropna()\n",
    "\n",
    "# convert to numpy array \n",
    "text_ = data.text.to_numpy()\n",
    "\n",
    "rating_ = data.rating.to_numpy()\n",
    "rating = data.rating.replace(4,1)\n",
    "rating_ = pd.get_dummies(rating_).to_numpy()\n",
    "\n",
    "\n",
    "\n",
    "# Convert any numeric values in the list to strings\n",
    "text_ = [str(x) for x in text_ if not isinstance(x, (int, float))]\n",
    "\n",
    "#tokenizer = Tokenizer(num_words=nb_words) # eg. max vocab 20000\n",
    "tokenizer = Tokenizer(num_words=20000,\n",
    "               filters='!\"#$%&()*+,-./:;<=>?@[\\\\]^_`{|}~\\t\\n',\n",
    "               lower=True,\n",
    "               split=\" \")\n",
    "\n",
    "tokenizer.fit_on_texts(text_)\n",
    "\n",
    "\n",
    "# length of sequence \n",
    "max_len = 35\n",
    "\n",
    "# calcultaete number of words\n",
    "#  in order to limit the size of the vocabulary to prevent overfitting and improve model performance.\n",
    "nb_words = len(tokenizer.word_index) + 1\n",
    "\n",
    "#to convert a list of texts into sequences of integers\n",
    "sequences = tokenizer.texts_to_sequences(text_)\n",
    "\n",
    "# calculate the total tokens\n",
    "word_index = tokenizer.word_index\n",
    "print(' %s unique tokens found.' % len(word_index))\n",
    "\n",
    "# fixed length of vector to feed Neural Network\n",
    "data_seq = pad_sequences(sequences, maxlen=max_len, padding=\"post\")"
   ]
  },
  {
   "cell_type": "code",
   "execution_count": 13,
   "id": "5eb1e054",
   "metadata": {},
   "outputs": [
    {
     "name": "stdout",
     "output_type": "stream",
     "text": [
      "(9936, 35)\n",
      "(9936, 2)\n"
     ]
    }
   ],
   "source": [
    "print(data_seq.shape)\n",
    "print(rating_.shape)"
   ]
  },
  {
   "cell_type": "code",
   "execution_count": 14,
   "id": "8e8118fc",
   "metadata": {},
   "outputs": [],
   "source": [
    "# train and test split\n",
    "train_X, test_X, train_y, test_y = train_test_split(data_seq, rating_, \n",
    "                                                    test_size = 0.25, random_state=41, shuffle=True)\n"
   ]
  },
  {
   "cell_type": "markdown",
   "id": "4d547dbf",
   "metadata": {},
   "source": [
    "### Define and Combine the model"
   ]
  },
  {
   "cell_type": "code",
   "execution_count": 15,
   "id": "33c263d4",
   "metadata": {},
   "outputs": [],
   "source": [
    "# adopted from https://github.com/haochen23/nlp-rnn-lstm-sentiment/blob/master/senti_tran_eval.py\n",
    "# author : Dr. Hao Chen, Ph. D in Mechatronics Engineering.\n",
    "def build_model(nb_words, rnn_model=\"SimpleRNN\", embedding_matrix=None):\n",
    "\n",
    "    model = Sequential()\n",
    "    # add an embedding layer\n",
    "    if embedding_matrix is not None:\n",
    "        model.add(Embedding(nb_words, \n",
    "                        500, \n",
    "                        weights=[embedding_matrix], \n",
    "                        input_length= max_len,\n",
    "                        trainable = False))\n",
    "    else:\n",
    "        model.add(Embedding(nb_words, \n",
    "                        500, \n",
    "                        input_length= max_len,\n",
    "                        trainable = False))\n",
    "        \n",
    "    # add an RNN layer according to rnn_model\n",
    "    if rnn_model == \"SimpleRNN\":\n",
    "        model.add(SimpleRNN(200))\n",
    "    elif rnn_model == \"LSTM\":\n",
    "        model.add(LSTM(200))\n",
    "    else:\n",
    "        model.add(GRU(200))\n",
    "        \n",
    "    model.add(Dense(32, activation='relu'))\n",
    "    model.add(Dense(2, activation='softmax'))\n",
    "    #model.add(Dense(2, activation='sigmoid'))\n",
    "    model.compile(loss='categorical_crossentropy', #'categorical_crossentropy'\n",
    "                optimizer='adam',\n",
    "                metrics=['accuracy'])\n",
    "    return model\n"
   ]
  },
  {
   "cell_type": "code",
   "execution_count": 16,
   "id": "75c53a55",
   "metadata": {},
   "outputs": [
    {
     "name": "stdout",
     "output_type": "stream",
     "text": [
      "Null word embeddings: 7941\n"
     ]
    }
   ],
   "source": [
    "# calcultaete number of words\n",
    "nb_words = len(tokenizer.word_index) + 1\n",
    "\n",
    "# obtain the word embedding matrix\n",
    "embedding_matrix = np.zeros((nb_words,500)) #200\n",
    "\n",
    "#for word, i in word_index.items():\n",
    "#    embedding_vector = glove_model.get(word)\n",
    "#    if embedding_vector is not None:\n",
    "#        embedding_matrix[i] = embedding_vector\n",
    "print('Null word embeddings: %d' % np.sum(np.sum(embedding_matrix, axis=1) == 0))"
   ]
  },
  {
   "cell_type": "code",
   "execution_count": 17,
   "id": "23e7b1f1",
   "metadata": {},
   "outputs": [
    {
     "name": "stdout",
     "output_type": "stream",
     "text": [
      "Model: \"sequential\"\n",
      "_________________________________________________________________\n",
      " Layer (type)                Output Shape              Param #   \n",
      "=================================================================\n",
      " embedding (Embedding)       (None, 35, 500)           3970500   \n",
      "                                                                 \n",
      " simple_rnn (SimpleRNN)      (None, 200)               140200    \n",
      "                                                                 \n",
      " dense (Dense)               (None, 32)                6432      \n",
      "                                                                 \n",
      " dense_1 (Dense)             (None, 2)                 66        \n",
      "                                                                 \n",
      "=================================================================\n",
      "Total params: 4,117,198\n",
      "Trainable params: 146,698\n",
      "Non-trainable params: 3,970,500\n",
      "_________________________________________________________________\n"
     ]
    }
   ],
   "source": [
    "# building the model\n",
    "rnn = build_model(nb_words, \"SimpleRNN\", embedding_matrix)\n",
    "rnn.summary()"
   ]
  },
  {
   "cell_type": "code",
   "execution_count": 18,
   "id": "5c3c1aee",
   "metadata": {},
   "outputs": [
    {
     "name": "stdout",
     "output_type": "stream",
     "text": [
      "Epoch 1/10\n",
      "187/187 [==============================] - 8s 31ms/step - loss: 0.6932 - accuracy: 0.4940 - val_loss: 0.6930 - val_accuracy: 0.5111\n",
      "Epoch 2/10\n",
      "187/187 [==============================] - 4s 21ms/step - loss: 0.6932 - accuracy: 0.5041 - val_loss: 0.6930 - val_accuracy: 0.5111\n",
      "Epoch 3/10\n",
      "187/187 [==============================] - 6s 33ms/step - loss: 0.6932 - accuracy: 0.5041 - val_loss: 0.6930 - val_accuracy: 0.5111\n",
      "Epoch 4/10\n",
      "187/187 [==============================] - 5s 28ms/step - loss: 0.6932 - accuracy: 0.5041 - val_loss: 0.6931 - val_accuracy: 0.5111\n",
      "Epoch 5/10\n",
      "187/187 [==============================] - 6s 30ms/step - loss: 0.6932 - accuracy: 0.5041 - val_loss: 0.6931 - val_accuracy: 0.5111\n",
      "Epoch 6/10\n",
      "187/187 [==============================] - 5s 29ms/step - loss: 0.6932 - accuracy: 0.5041 - val_loss: 0.6931 - val_accuracy: 0.5111\n",
      "Epoch 7/10\n",
      "187/187 [==============================] - 6s 30ms/step - loss: 0.6932 - accuracy: 0.5041 - val_loss: 0.6930 - val_accuracy: 0.5111\n",
      "Epoch 8/10\n",
      "187/187 [==============================] - 4s 23ms/step - loss: 0.6932 - accuracy: 0.4951 - val_loss: 0.6930 - val_accuracy: 0.5111\n",
      "Epoch 9/10\n",
      "187/187 [==============================] - 7s 36ms/step - loss: 0.6932 - accuracy: 0.5041 - val_loss: 0.6930 - val_accuracy: 0.5111\n",
      "Epoch 10/10\n",
      "187/187 [==============================] - 6s 30ms/step - loss: 0.6932 - accuracy: 0.4967 - val_loss: 0.6930 - val_accuracy: 0.5111\n"
     ]
    }
   ],
   "source": [
    "history = rnn.fit(train_X, train_y, validation_split=0.2, epochs=10, batch_size=32)"
   ]
  },
  {
   "cell_type": "markdown",
   "id": "16a5e38f",
   "metadata": {},
   "source": [
    "### build and predict"
   ]
  },
  {
   "cell_type": "code",
   "execution_count": 19,
   "id": "cb881147",
   "metadata": {},
   "outputs": [
    {
     "name": "stdout",
     "output_type": "stream",
     "text": [
      "Epoch 1/10\n",
      "75/75 [==============================] - 3s 42ms/step - loss: 0.6931 - accuracy: 0.5055 - val_loss: 0.6933 - val_accuracy: 0.4968\n",
      "Epoch 2/10\n",
      "75/75 [==============================] - 2s 33ms/step - loss: 0.6931 - accuracy: 0.5055 - val_loss: 0.6932 - val_accuracy: 0.4968\n",
      "Epoch 3/10\n",
      "75/75 [==============================] - 3s 36ms/step - loss: 0.6931 - accuracy: 0.5055 - val_loss: 0.6933 - val_accuracy: 0.4968\n",
      "Epoch 4/10\n",
      "75/75 [==============================] - 2s 32ms/step - loss: 0.6931 - accuracy: 0.5055 - val_loss: 0.6932 - val_accuracy: 0.4968\n",
      "78/78 [==============================] - 2s 21ms/step\n",
      "              precision    recall  f1-score   support\n",
      "\n",
      "           0       0.00      0.00      0.00      1250\n",
      "           1       0.50      1.00      0.66      1234\n",
      "\n",
      "    accuracy                           0.50      2484\n",
      "   macro avg       0.25      0.50      0.33      2484\n",
      "weighted avg       0.25      0.50      0.33      2484\n",
      "\n"
     ]
    },
    {
     "name": "stderr",
     "output_type": "stream",
     "text": [
      "C:\\Users\\andy\\anaconda3\\lib\\site-packages\\sklearn\\metrics\\_classification.py:1344: UndefinedMetricWarning: Precision and F-score are ill-defined and being set to 0.0 in labels with no predicted samples. Use `zero_division` parameter to control this behavior.\n",
      "  _warn_prf(average, modifier, msg_start, len(result))\n",
      "C:\\Users\\andy\\anaconda3\\lib\\site-packages\\sklearn\\metrics\\_classification.py:1344: UndefinedMetricWarning: Precision and F-score are ill-defined and being set to 0.0 in labels with no predicted samples. Use `zero_division` parameter to control this behavior.\n",
      "  _warn_prf(average, modifier, msg_start, len(result))\n",
      "C:\\Users\\andy\\anaconda3\\lib\\site-packages\\sklearn\\metrics\\_classification.py:1344: UndefinedMetricWarning: Precision and F-score are ill-defined and being set to 0.0 in labels with no predicted samples. Use `zero_division` parameter to control this behavior.\n",
      "  _warn_prf(average, modifier, msg_start, len(result))\n"
     ]
    }
   ],
   "source": [
    "from sklearn.metrics import accuracy_score\n",
    "from sklearn.metrics import precision_recall_fscore_support\n",
    "from sklearn.metrics import confusion_matrix\n",
    "\n",
    "rnn_history =rnn.fit(train_X, train_y, epochs=10, batch_size=100,\n",
    "        validation_data=(test_X, test_y), \n",
    "        callbacks=EarlyStopping(monitor='val_accuracy', \n",
    "                                mode='min',\n",
    "                                patience=3))\n",
    "\n",
    "rnn_pred = rnn.predict(test_X)\n",
    "rnn_pred = rnn_pred.argmax(axis=1)\n",
    "# generate the report\n",
    "print(classification_report(test_y.argmax(axis=1), rnn_pred))"
   ]
  },
  {
   "cell_type": "code",
   "execution_count": 20,
   "id": "cefc15bd",
   "metadata": {},
   "outputs": [
    {
     "name": "stdout",
     "output_type": "stream",
     "text": [
      "Test loss: 0.6932462453842163\n",
      "Test accuracy: 0.4967793822288513\n"
     ]
    }
   ],
   "source": [
    "score = rnn.evaluate(test_X, test_y, verbose=0)\n",
    "print('Test loss:', score[0])\n",
    "print('Test accuracy:', score[1])"
   ]
  },
  {
   "cell_type": "markdown",
   "id": "938b1203",
   "metadata": {},
   "source": [
    "### plot the outcomes"
   ]
  },
  {
   "cell_type": "code",
   "execution_count": 21,
   "id": "4a45b093",
   "metadata": {},
   "outputs": [],
   "source": [
    "import matplotlib.pyplot as plt\n",
    "def plot_hist(history, title):\n",
    "    \"\"\"\n",
    "    Vars:\n",
    "    - history: A Keras History object representing the training history of a model.\n",
    "    \"\"\"\n",
    "    fig, (ax1, ax2) = plt.subplots(1,2, figsize=(10, 4))\n",
    "    \n",
    "    ax1.plot(history.history['accuracy'], c= 'b')\n",
    "    ax1.plot(history.history['val_accuracy'], c='r')\n",
    "    ax1.set_title('Model Accuracy')\n",
    "    ax1.set_ylabel('Accuracy')\n",
    "    ax1.set_xlabel('Epoch')\n",
    "    ax1.legend(['Train', 'Val'], loc='upper left')\n",
    "\n",
    "    ax2.plot(history.history['loss'], c='m')\n",
    "    ax2.plot(history.history['val_loss'], c='c')\n",
    "    ax2.set_title('Model Loss')\n",
    "    ax2.set_ylabel('Loss')\n",
    "    ax2.set_xlabel('Epoch')\n",
    "    ax2.legend(['Train', 'Val'], loc='upper left')\n",
    "     # Add a title to the entire image\n",
    "    fig.suptitle(title, fontsize=14)\n",
    "    plt.show()"
   ]
  },
  {
   "cell_type": "code",
   "execution_count": 22,
   "id": "7e5ae65b",
   "metadata": {},
   "outputs": [
    {
     "data": {
      "image/png": "[encoded data removed]",
      "text/plain": [
       "<Figure size 1000x400 with 2 Axes>"
      ]
     },
     "metadata": {},
     "output_type": "display_data"
    }
   ],
   "source": [
    "plot_hist(rnn_history,'Simple RNN')"
   ]
  },
  {
   "cell_type": "code",
   "execution_count": 65,
   "id": "c3eef48d",
   "metadata": {},
   "outputs": [
    {
     "name": "stdout",
     "output_type": "stream",
     "text": [
      "              precision    recall  f1-score   support\n",
      "\n",
      "           0       0.00      0.00      0.00      1250\n",
      "           1       0.50      1.00      0.66      1234\n",
      "\n",
      "    accuracy                           0.50      2484\n",
      "   macro avg       0.25      0.50      0.33      2484\n",
      "weighted avg       0.25      0.50      0.33      2484\n",
      "\n"
     ]
    },
    {
     "name": "stderr",
     "output_type": "stream",
     "text": [
      "C:\\Users\\andy\\anaconda3\\lib\\site-packages\\sklearn\\metrics\\_classification.py:1344: UndefinedMetricWarning: Precision and F-score are ill-defined and being set to 0.0 in labels with no predicted samples. Use `zero_division` parameter to control this behavior.\n",
      "  _warn_prf(average, modifier, msg_start, len(result))\n",
      "C:\\Users\\andy\\anaconda3\\lib\\site-packages\\sklearn\\metrics\\_classification.py:1344: UndefinedMetricWarning: Precision and F-score are ill-defined and being set to 0.0 in labels with no predicted samples. Use `zero_division` parameter to control this behavior.\n",
      "  _warn_prf(average, modifier, msg_start, len(result))\n",
      "C:\\Users\\andy\\anaconda3\\lib\\site-packages\\sklearn\\metrics\\_classification.py:1344: UndefinedMetricWarning: Precision and F-score are ill-defined and being set to 0.0 in labels with no predicted samples. Use `zero_division` parameter to control this behavior.\n",
      "  _warn_prf(average, modifier, msg_start, len(result))\n"
     ]
    }
   ],
   "source": [
    "rnn_pred\n",
    "print(classification_report(test_y.argmax(axis=1), rnn_pred))"
   ]
  },
  {
   "cell_type": "code",
   "execution_count": 23,
   "id": "88a059d3",
   "metadata": {},
   "outputs": [
    {
     "name": "stdout",
     "output_type": "stream",
     "text": [
      "Accuracy:\t49.7%\n"
     ]
    }
   ],
   "source": [
    "print('Accuracy:\\t{:0.1f}%'.format(accuracy_score(np.argmax(test_y,axis=1), rnn_pred)*100))"
   ]
  },
  {
   "cell_type": "code",
   "execution_count": null,
   "id": "87c104cb",
   "metadata": {},
   "outputs": [],
   "source": []
  }
 ],
 "metadata": {
  "kernelspec": {
   "display_name": "Python 3 (ipykernel)",
   "language": "python",
   "name": "python3"
  },
  "language_info": {
   "codemirror_mode": {
    "name": "ipython",
    "version": 3
   },
   "file_extension": ".py",
   "mimetype": "text/x-python",
   "name": "python",
   "nbconvert_exporter": "python",
   "pygments_lexer": "ipython3",
   "version": "3.8.16"
  }
 },
 "nbformat": 4,
 "nbformat_minor": 5
}
