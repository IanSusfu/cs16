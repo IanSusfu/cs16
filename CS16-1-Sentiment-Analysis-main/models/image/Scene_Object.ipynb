{
  "cells": [
    {
      "cell_type": "code",
      "execution_count": 3,
      "metadata": {
        "id": "ZqEldMbMOeGD"
      },
      "outputs": [],
      "source": [
        "import numpy as np\n",
        "import keras.backend as K\n",
        "from keras.layers import Dropout\n",
        "from keras.optimizers import Adam\n",
        "from keras.models import Model\n",
        "from keras.layers import Input, Conv2D, Concatenate, GlobalAveragePooling2D, Flatten, Dense, Input\n",
        "from keras.applications.vgg16 import VGG16\n",
        "from keras.preprocessing import image\n",
        "from keras.applications.vgg16 import preprocess_input, decode_predictions\n",
        "from keras.preprocessing.image import ImageDataGenerator\n",
        "from keras.models import Sequential\n",
        "from keras.callbacks import ModelCheckpoint\n",
        "from keras.utils import to_categorical"
      ]
    },
    {
      "cell_type": "code",
      "execution_count": 4,
      "metadata": {
        "colab": {
          "base_uri": "https://localhost:8080/"
        },
        "id": "Zq4gEarOOluh",
        "outputId": "c0f61cc7-c1c8-4f4c-b946-132e2109e56f"
      },
      "outputs": [],
      "source": [
        "train_data_path = './MVSA_Single/train'\n",
        "val_data_path = './MVSA_Single/val'\n",
        "test_data_path = './MVSA_Single/test'\n",
        "weights_path = './weight/vgg16-places365_weights_tf_dim_ordering_tf_kernels_notop.h5'"
      ]
    },
    {
      "cell_type": "code",
      "execution_count": 5,
      "metadata": {},
      "outputs": [],
      "source": [
        "import tensorflow as tf\n",
        "\n",
        "class F1Score(tf.keras.metrics.Metric):\n",
        "    def __init__(self, name='f1_score', **kwargs):\n",
        "        super(F1Score, self).__init__(name=name, **kwargs)\n",
        "        self.precision = tf.keras.metrics.Precision()\n",
        "        self.recall = tf.keras.metrics.Recall()\n",
        "\n",
        "    def update_state(self, y_true, y_pred, sample_weight=None):\n",
        "        self.precision.update_state(y_true, y_pred, sample_weight)\n",
        "        self.recall.update_state(y_true, y_pred, sample_weight)\n",
        "\n",
        "    def result(self):\n",
        "        precision = self.precision.result()\n",
        "        recall = self.recall.result()\n",
        "        return 2 * ((precision * recall) / (precision + recall + tf.keras.backend.epsilon()))\n",
        "\n",
        "    def reset_states(self):\n",
        "        self.precision.reset_state()\n",
        "        self.recall.reset_state()\n",
        "\n",
        "f1_score = F1Score()"
      ]
    },
    {
      "cell_type": "code",
      "execution_count": 6,
      "metadata": {},
      "outputs": [],
      "source": [
        "from keras.callbacks import ModelCheckpoint\n",
        "\n",
        "checkpoint_filepath = 'best_scene_object_model.h5'\n",
        "checkpoint_callback = ModelCheckpoint(\n",
        "    filepath=checkpoint_filepath,\n",
        "    monitor='val_loss',  # Save the model when the validation loss is minimized\n",
        "    save_best_only=True,  # Save only the best model\n",
        "    mode='min',  # Minimize the validation loss\n",
        "    verbose=1  # Print a message when the best model is saved\n",
        ")"
      ]
    },
    {
      "cell_type": "code",
      "execution_count": 7,
      "metadata": {
        "colab": {
          "base_uri": "https://localhost:8080/"
        },
        "id": "r_dPUnfbOrAr",
        "outputId": "9771e847-0174-4dba-d74b-3fa39da2ea95"
      },
      "outputs": [
        {
          "name": "stdout",
          "output_type": "stream",
          "text": [
            "Downloading data from https://storage.googleapis.com/tensorflow/keras-applications/vgg16/vgg16_weights_tf_dim_ordering_tf_kernels_notop.h5\n",
            "58889256/58889256 [==============================] - 42s 1us/step\n"
          ]
        }
      ],
      "source": [
        "# Set the input size of the VGG16 model\n",
        "input_shape = (224, 224, 3)\n",
        "\n",
        "input_tensor = Input(shape=input_shape)\n",
        "\n",
        "# Load the pre-trained VGG16 models\n",
        "object_vgg16 = VGG16(weights='imagenet', include_top=False, input_tensor=input_tensor)\n",
        "\n",
        "object_vgg16.layers.pop()\n",
        "\n",
        "# Freeze the convolutional layers, can not directly use, since all layer names should be unique.\n",
        "for layer in object_vgg16.layers:\n",
        "    layer.trainable = False\n",
        "    layer._name = 'object_detection_' + layer.name\n",
        "\n",
        "scene_model = VGG16(weights=None, include_top=False, input_tensor=input_tensor, classes=365)\n",
        "scene_model.load_weights(weights_path)\n",
        "\n",
        "scene_model.layers.pop()\n",
        "\n",
        "# Freeze the convolutional layers\n",
        "for layer in scene_model.layers:\n",
        "    layer.trainable = False\n",
        "\n",
        "# Combine the output of both models    \n",
        "combined_output = Concatenate()([object_vgg16.output, scene_model.output])\n",
        "\n",
        "# Add a GlobalAveragePooling2D layer to perform spatial average pooling\n",
        "pooled_output = GlobalAveragePooling2D()(combined_output)\n",
        "\n",
        "# Add a new final layer to the combined model\n",
        "final_output = Dense(1024, activation='relu')(pooled_output)\n",
        "final_output = Dropout(0.5)(final_output)\n",
        "final_output = Dense(512, activation='relu')(final_output)\n",
        "final_output = Dropout(0.5)(final_output)\n",
        "final_output_1 = Dense(256, activation='relu')(final_output)\n",
        "final_output_2 = Dropout(0.5)(final_output_1)\n",
        "final_output_class = Dense(3, activation='softmax')(final_output_2)\n",
        "\n",
        "# Create the final model\n",
        "final_model = Model(inputs= input_tensor, outputs=final_output_class)\n",
        "\n",
        "final_model.compile(loss='categorical_crossentropy', optimizer='adam', metrics=[f1_score,'accuracy'])"
      ]
    },
    {
      "cell_type": "code",
      "execution_count": 8,
      "metadata": {
        "colab": {
          "base_uri": "https://localhost:8080/"
        },
        "id": "Xmnoa29eT7wm",
        "outputId": "3013292c-6f03-407e-8a44-271a224800b4"
      },
      "outputs": [
        {
          "name": "stdout",
          "output_type": "stream",
          "text": [
            "Found 2415 images belonging to 3 classes.\n",
            "Found 303 images belonging to 3 classes.\n",
            "Found 480 images belonging to 3 classes.\n"
          ]
        }
      ],
      "source": [
        "# Set up data generators for data augmentation and feeding data to the model\n",
        "train_datagen = ImageDataGenerator(\n",
        "        rescale=1./255,\n",
        "        shear_range=0.2,\n",
        "        zoom_range=0.2,\n",
        "        horizontal_flip=True)\n",
        "\n",
        "train_generator = train_datagen.flow_from_directory(\n",
        "        train_data_path,\n",
        "        target_size=input_shape[:2],\n",
        "        batch_size=32,\n",
        "        class_mode='categorical')\n",
        "\n",
        "val_datagen = ImageDataGenerator(rescale=1./255)\n",
        "val_generator = val_datagen.flow_from_directory(\n",
        "        val_data_path,\n",
        "        target_size=input_shape[:2],\n",
        "        batch_size=32,\n",
        "        class_mode='categorical')\n",
        "\n",
        "test_datagen = ImageDataGenerator(rescale=1./255)\n",
        "test_generator = test_datagen.flow_from_directory(\n",
        "        test_data_path,\n",
        "        target_size=input_shape[:2],\n",
        "        batch_size=32,\n",
        "        class_mode='categorical')"
      ]
    },
    {
      "cell_type": "code",
      "execution_count": 9,
      "metadata": {
        "colab": {
          "base_uri": "https://localhost:8080/"
        },
        "id": "Yt74xrbWgbDr",
        "outputId": "59af7c62-df60-4d11-d89a-e5a47fe811d9"
      },
      "outputs": [
        {
          "name": "stderr",
          "output_type": "stream",
          "text": [
            "C:\\Users\\Jeffan\\AppData\\Local\\Temp\\ipykernel_16796\\763344743.py:4: UserWarning: `Model.fit_generator` is deprecated and will be removed in a future version. Please use `Model.fit`, which supports generators.\n",
            "  final_model.fit_generator(\n"
          ]
        },
        {
          "name": "stdout",
          "output_type": "stream",
          "text": [
            "Epoch 1/50\n",
            "62/62 [==============================] - ETA: 0s - loss: 1.2222 - f1_score: 0.2424 - accuracy: 0.3701"
          ]
        },
        {
          "name": "stderr",
          "output_type": "stream",
          "text": [
            "c:\\Users\\Jeffan\\.conda\\envs\\capstone\\lib\\site-packages\\keras\\engine\\training.py:2416: UserWarning: Metric F1Score implements a `reset_states()` method; rename it to `reset_state()` (without the final \"s\"). The name `reset_states()` has been deprecated to improve API consistency.\n",
            "  m.reset_state()\n"
          ]
        },
        {
          "name": "stdout",
          "output_type": "stream",
          "text": [
            "WARNING:tensorflow:Your input ran out of data; interrupting training. Make sure that your dataset or generator can generate at least `steps_per_epoch * epochs` batches (in this case, 25 batches). You may need to use the repeat() function when building your dataset.\n",
            "\n",
            "Epoch 1: val_loss improved from inf to 1.06908, saving model to best_scene_object_model.h5\n",
            "62/62 [==============================] - 422s 7s/step - loss: 1.2222 - f1_score: 0.2424 - accuracy: 0.3701 - val_loss: 1.0691 - val_f1_score: 0.0000e+00 - val_accuracy: 0.3828\n",
            "Epoch 2/50\n",
            "62/62 [==============================] - ETA: 0s - loss: 1.0955 - f1_score: 0.1732 - accuracy: 0.4093WARNING:tensorflow:Can save best model only with val_loss available, skipping.\n",
            "62/62 [==============================] - 371s 6s/step - loss: 1.0955 - f1_score: 0.1732 - accuracy: 0.4093\n",
            "Epoch 3/50\n",
            "62/62 [==============================] - ETA: 0s - loss: 1.0816 - f1_score: 0.1895 - accuracy: 0.4148WARNING:tensorflow:Can save best model only with val_loss available, skipping.\n",
            "62/62 [==============================] - 376s 6s/step - loss: 1.0816 - f1_score: 0.1895 - accuracy: 0.4148\n",
            "Epoch 4/50\n",
            "62/62 [==============================] - ETA: 0s - loss: 1.0553 - f1_score: 0.1788 - accuracy: 0.4433WARNING:tensorflow:Can save best model only with val_loss available, skipping.\n",
            "62/62 [==============================] - 378s 6s/step - loss: 1.0553 - f1_score: 0.1788 - accuracy: 0.4433\n",
            "Epoch 5/50\n",
            "62/62 [==============================] - ETA: 0s - loss: 1.0470 - f1_score: 0.2177 - accuracy: 0.4560WARNING:tensorflow:Can save best model only with val_loss available, skipping.\n",
            "62/62 [==============================] - 383s 6s/step - loss: 1.0470 - f1_score: 0.2177 - accuracy: 0.4560\n",
            "Epoch 6/50\n",
            "62/62 [==============================] - ETA: 0s - loss: 1.0393 - f1_score: 0.2412 - accuracy: 0.4560WARNING:tensorflow:Can save best model only with val_loss available, skipping.\n",
            "62/62 [==============================] - 380s 6s/step - loss: 1.0393 - f1_score: 0.2412 - accuracy: 0.4560\n",
            "Epoch 7/50\n",
            "62/62 [==============================] - ETA: 0s - loss: 1.0174 - f1_score: 0.2903 - accuracy: 0.4936WARNING:tensorflow:Can save best model only with val_loss available, skipping.\n",
            "62/62 [==============================] - 380s 6s/step - loss: 1.0174 - f1_score: 0.2903 - accuracy: 0.4936\n",
            "Epoch 8/50\n",
            "62/62 [==============================] - ETA: 0s - loss: 1.0097 - f1_score: 0.2933 - accuracy: 0.4809WARNING:tensorflow:Can save best model only with val_loss available, skipping.\n",
            "62/62 [==============================] - 381s 6s/step - loss: 1.0097 - f1_score: 0.2933 - accuracy: 0.4809\n",
            "Epoch 9/50\n",
            "62/62 [==============================] - ETA: 0s - loss: 1.0169 - f1_score: 0.2960 - accuracy: 0.4708WARNING:tensorflow:Can save best model only with val_loss available, skipping.\n",
            "62/62 [==============================] - 382s 6s/step - loss: 1.0169 - f1_score: 0.2960 - accuracy: 0.4708\n",
            "Epoch 10/50\n",
            "62/62 [==============================] - ETA: 0s - loss: 1.0041 - f1_score: 0.3187 - accuracy: 0.5003WARNING:tensorflow:Can save best model only with val_loss available, skipping.\n",
            "62/62 [==============================] - 378s 6s/step - loss: 1.0041 - f1_score: 0.3187 - accuracy: 0.5003\n",
            "Epoch 11/50\n",
            "62/62 [==============================] - ETA: 0s - loss: 1.0008 - f1_score: 0.3353 - accuracy: 0.5023WARNING:tensorflow:Can save best model only with val_loss available, skipping.\n",
            "62/62 [==============================] - 375s 6s/step - loss: 1.0008 - f1_score: 0.3353 - accuracy: 0.5023\n",
            "Epoch 12/50\n",
            "62/62 [==============================] - ETA: 0s - loss: 0.9915 - f1_score: 0.3364 - accuracy: 0.5130WARNING:tensorflow:Can save best model only with val_loss available, skipping.\n",
            "62/62 [==============================] - 364s 6s/step - loss: 0.9915 - f1_score: 0.3364 - accuracy: 0.5130\n",
            "Epoch 13/50\n",
            "62/62 [==============================] - ETA: 0s - loss: 0.9815 - f1_score: 0.3567 - accuracy: 0.5156WARNING:tensorflow:Can save best model only with val_loss available, skipping.\n",
            "62/62 [==============================] - 368s 6s/step - loss: 0.9815 - f1_score: 0.3567 - accuracy: 0.5156\n",
            "Epoch 14/50\n",
            "62/62 [==============================] - ETA: 0s - loss: 0.9841 - f1_score: 0.3563 - accuracy: 0.5089WARNING:tensorflow:Can save best model only with val_loss available, skipping.\n",
            "62/62 [==============================] - 365s 6s/step - loss: 0.9841 - f1_score: 0.3563 - accuracy: 0.5089\n",
            "Epoch 15/50\n",
            "62/62 [==============================] - ETA: 0s - loss: 0.9858 - f1_score: 0.3555 - accuracy: 0.5211WARNING:tensorflow:Can save best model only with val_loss available, skipping.\n",
            "62/62 [==============================] - 365s 6s/step - loss: 0.9858 - f1_score: 0.3555 - accuracy: 0.5211\n",
            "Epoch 16/50\n",
            "62/62 [==============================] - ETA: 0s - loss: 0.9791 - f1_score: 0.3667 - accuracy: 0.5160WARNING:tensorflow:Can save best model only with val_loss available, skipping.\n",
            "62/62 [==============================] - 372s 6s/step - loss: 0.9791 - f1_score: 0.3667 - accuracy: 0.5160\n",
            "Epoch 17/50\n",
            "62/62 [==============================] - ETA: 0s - loss: 0.9514 - f1_score: 0.4168 - accuracy: 0.5389WARNING:tensorflow:Can save best model only with val_loss available, skipping.\n",
            "62/62 [==============================] - 370s 6s/step - loss: 0.9514 - f1_score: 0.4168 - accuracy: 0.5389\n",
            "Epoch 18/50\n",
            "62/62 [==============================] - ETA: 0s - loss: 0.9664 - f1_score: 0.3761 - accuracy: 0.5232WARNING:tensorflow:Can save best model only with val_loss available, skipping.\n",
            "62/62 [==============================] - 372s 6s/step - loss: 0.9664 - f1_score: 0.3761 - accuracy: 0.5232\n",
            "Epoch 19/50\n",
            "62/62 [==============================] - ETA: 0s - loss: 0.9578 - f1_score: 0.4050 - accuracy: 0.5353WARNING:tensorflow:Can save best model only with val_loss available, skipping.\n",
            "62/62 [==============================] - 377s 6s/step - loss: 0.9578 - f1_score: 0.4050 - accuracy: 0.5353\n",
            "Epoch 20/50\n",
            "62/62 [==============================] - ETA: 0s - loss: 0.9740 - f1_score: 0.3838 - accuracy: 0.5302WARNING:tensorflow:Can save best model only with val_loss available, skipping.\n",
            "62/62 [==============================] - 373s 6s/step - loss: 0.9740 - f1_score: 0.3838 - accuracy: 0.5302\n",
            "Epoch 21/50\n",
            "62/62 [==============================] - ETA: 0s - loss: 0.9660 - f1_score: 0.3993 - accuracy: 0.5328WARNING:tensorflow:Can save best model only with val_loss available, skipping.\n",
            "62/62 [==============================] - 374s 6s/step - loss: 0.9660 - f1_score: 0.3993 - accuracy: 0.5328\n",
            "Epoch 22/50\n",
            "62/62 [==============================] - ETA: 0s - loss: 0.9583 - f1_score: 0.3928 - accuracy: 0.5302WARNING:tensorflow:Can save best model only with val_loss available, skipping.\n",
            "62/62 [==============================] - 373s 6s/step - loss: 0.9583 - f1_score: 0.3928 - accuracy: 0.5302\n",
            "Epoch 23/50\n",
            "62/62 [==============================] - ETA: 0s - loss: 0.9412 - f1_score: 0.4281 - accuracy: 0.5445WARNING:tensorflow:Can save best model only with val_loss available, skipping.\n",
            "62/62 [==============================] - 374s 6s/step - loss: 0.9412 - f1_score: 0.4281 - accuracy: 0.5445\n",
            "Epoch 24/50\n",
            "62/62 [==============================] - ETA: 0s - loss: 0.9594 - f1_score: 0.4156 - accuracy: 0.5323WARNING:tensorflow:Can save best model only with val_loss available, skipping.\n",
            "62/62 [==============================] - 377s 6s/step - loss: 0.9594 - f1_score: 0.4156 - accuracy: 0.5323\n",
            "Epoch 25/50\n",
            "62/62 [==============================] - ETA: 0s - loss: 0.9412 - f1_score: 0.4276 - accuracy: 0.5496WARNING:tensorflow:Can save best model only with val_loss available, skipping.\n",
            "62/62 [==============================] - 374s 6s/step - loss: 0.9412 - f1_score: 0.4276 - accuracy: 0.5496\n",
            "Epoch 26/50\n",
            "62/62 [==============================] - ETA: 0s - loss: 0.9377 - f1_score: 0.4127 - accuracy: 0.5414WARNING:tensorflow:Can save best model only with val_loss available, skipping.\n",
            "62/62 [==============================] - 378s 6s/step - loss: 0.9377 - f1_score: 0.4127 - accuracy: 0.5414\n",
            "Epoch 27/50\n",
            "62/62 [==============================] - ETA: 0s - loss: 0.9390 - f1_score: 0.4394 - accuracy: 0.5587WARNING:tensorflow:Can save best model only with val_loss available, skipping.\n",
            "62/62 [==============================] - 372s 6s/step - loss: 0.9390 - f1_score: 0.4394 - accuracy: 0.5587\n",
            "Epoch 28/50\n",
            "62/62 [==============================] - ETA: 0s - loss: 0.9390 - f1_score: 0.4591 - accuracy: 0.5597WARNING:tensorflow:Can save best model only with val_loss available, skipping.\n",
            "62/62 [==============================] - 381s 6s/step - loss: 0.9390 - f1_score: 0.4591 - accuracy: 0.5597\n",
            "Epoch 29/50\n",
            "62/62 [==============================] - ETA: 0s - loss: 0.9342 - f1_score: 0.4483 - accuracy: 0.5496WARNING:tensorflow:Can save best model only with val_loss available, skipping.\n",
            "62/62 [==============================] - 382s 6s/step - loss: 0.9342 - f1_score: 0.4483 - accuracy: 0.5496\n",
            "Epoch 30/50\n",
            "62/62 [==============================] - ETA: 0s - loss: 0.9172 - f1_score: 0.4750 - accuracy: 0.5648WARNING:tensorflow:Can save best model only with val_loss available, skipping.\n",
            "62/62 [==============================] - 389s 6s/step - loss: 0.9172 - f1_score: 0.4750 - accuracy: 0.5648\n",
            "Epoch 31/50\n",
            "62/62 [==============================] - ETA: 0s - loss: 0.9340 - f1_score: 0.4366 - accuracy: 0.5479WARNING:tensorflow:Can save best model only with val_loss available, skipping.\n",
            "62/62 [==============================] - 392s 6s/step - loss: 0.9340 - f1_score: 0.4366 - accuracy: 0.5479\n",
            "Epoch 32/50\n",
            "62/62 [==============================] - ETA: 0s - loss: 0.9330 - f1_score: 0.4403 - accuracy: 0.5499WARNING:tensorflow:Can save best model only with val_loss available, skipping.\n",
            "62/62 [==============================] - 379s 6s/step - loss: 0.9330 - f1_score: 0.4403 - accuracy: 0.5499\n",
            "Epoch 33/50\n",
            "62/62 [==============================] - ETA: 0s - loss: 0.9133 - f1_score: 0.4550 - accuracy: 0.5680WARNING:tensorflow:Can save best model only with val_loss available, skipping.\n",
            "62/62 [==============================] - 362s 6s/step - loss: 0.9133 - f1_score: 0.4550 - accuracy: 0.5680\n",
            "Epoch 34/50\n",
            "62/62 [==============================] - ETA: 0s - loss: 0.9283 - f1_score: 0.4622 - accuracy: 0.5669WARNING:tensorflow:Can save best model only with val_loss available, skipping.\n",
            "62/62 [==============================] - 337s 5s/step - loss: 0.9283 - f1_score: 0.4622 - accuracy: 0.5669\n",
            "Epoch 35/50\n",
            "62/62 [==============================] - ETA: 0s - loss: 0.9145 - f1_score: 0.4627 - accuracy: 0.5572WARNING:tensorflow:Can save best model only with val_loss available, skipping.\n",
            "62/62 [==============================] - 352s 6s/step - loss: 0.9145 - f1_score: 0.4627 - accuracy: 0.5572\n",
            "Epoch 36/50\n",
            "62/62 [==============================] - ETA: 0s - loss: 0.9095 - f1_score: 0.4620 - accuracy: 0.5696WARNING:tensorflow:Can save best model only with val_loss available, skipping.\n",
            "62/62 [==============================] - 362s 6s/step - loss: 0.9095 - f1_score: 0.4620 - accuracy: 0.5696\n",
            "Epoch 37/50\n",
            "62/62 [==============================] - ETA: 0s - loss: 0.9088 - f1_score: 0.4725 - accuracy: 0.5766WARNING:tensorflow:Can save best model only with val_loss available, skipping.\n",
            "62/62 [==============================] - 348s 6s/step - loss: 0.9088 - f1_score: 0.4725 - accuracy: 0.5766\n",
            "Epoch 38/50\n",
            "62/62 [==============================] - ETA: 0s - loss: 0.9263 - f1_score: 0.4441 - accuracy: 0.5557WARNING:tensorflow:Can save best model only with val_loss available, skipping.\n",
            "62/62 [==============================] - 344s 6s/step - loss: 0.9263 - f1_score: 0.4441 - accuracy: 0.5557\n",
            "Epoch 39/50\n",
            "62/62 [==============================] - ETA: 0s - loss: 0.8971 - f1_score: 0.4730 - accuracy: 0.5765WARNING:tensorflow:Can save best model only with val_loss available, skipping.\n",
            "62/62 [==============================] - 344s 6s/step - loss: 0.8971 - f1_score: 0.4730 - accuracy: 0.5765\n",
            "Epoch 40/50\n",
            "62/62 [==============================] - ETA: 0s - loss: 0.8955 - f1_score: 0.4822 - accuracy: 0.5711WARNING:tensorflow:Can save best model only with val_loss available, skipping.\n",
            "62/62 [==============================] - 347s 6s/step - loss: 0.8955 - f1_score: 0.4822 - accuracy: 0.5711\n",
            "Epoch 41/50\n",
            "62/62 [==============================] - ETA: 0s - loss: 0.8993 - f1_score: 0.4860 - accuracy: 0.5755WARNING:tensorflow:Can save best model only with val_loss available, skipping.\n",
            "62/62 [==============================] - 350s 6s/step - loss: 0.8993 - f1_score: 0.4860 - accuracy: 0.5755\n",
            "Epoch 42/50\n",
            "62/62 [==============================] - ETA: 0s - loss: 0.9012 - f1_score: 0.4735 - accuracy: 0.5684WARNING:tensorflow:Can save best model only with val_loss available, skipping.\n",
            "62/62 [==============================] - 354s 6s/step - loss: 0.9012 - f1_score: 0.4735 - accuracy: 0.5684\n",
            "Epoch 43/50\n",
            "62/62 [==============================] - ETA: 0s - loss: 0.8922 - f1_score: 0.5002 - accuracy: 0.5821WARNING:tensorflow:Can save best model only with val_loss available, skipping.\n",
            "62/62 [==============================] - 364s 6s/step - loss: 0.8922 - f1_score: 0.5002 - accuracy: 0.5821\n",
            "Epoch 44/50\n",
            "62/62 [==============================] - ETA: 0s - loss: 0.9005 - f1_score: 0.4884 - accuracy: 0.5597WARNING:tensorflow:Can save best model only with val_loss available, skipping.\n",
            "62/62 [==============================] - 368s 6s/step - loss: 0.9005 - f1_score: 0.4884 - accuracy: 0.5597\n",
            "Epoch 45/50\n",
            "62/62 [==============================] - ETA: 0s - loss: 0.8903 - f1_score: 0.4820 - accuracy: 0.5745WARNING:tensorflow:Can save best model only with val_loss available, skipping.\n",
            "62/62 [==============================] - 368s 6s/step - loss: 0.8903 - f1_score: 0.4820 - accuracy: 0.5745\n",
            "Epoch 46/50\n",
            "62/62 [==============================] - ETA: 0s - loss: 0.8933 - f1_score: 0.5051 - accuracy: 0.5791WARNING:tensorflow:Can save best model only with val_loss available, skipping.\n",
            "62/62 [==============================] - 371s 6s/step - loss: 0.8933 - f1_score: 0.5051 - accuracy: 0.5791\n",
            "Epoch 47/50\n",
            "62/62 [==============================] - ETA: 0s - loss: 0.8807 - f1_score: 0.4966 - accuracy: 0.5755WARNING:tensorflow:Can save best model only with val_loss available, skipping.\n",
            "62/62 [==============================] - 391s 6s/step - loss: 0.8807 - f1_score: 0.4966 - accuracy: 0.5755\n",
            "Epoch 48/50\n",
            "62/62 [==============================] - ETA: 0s - loss: 0.8805 - f1_score: 0.4920 - accuracy: 0.5776WARNING:tensorflow:Can save best model only with val_loss available, skipping.\n",
            "62/62 [==============================] - 455s 7s/step - loss: 0.8805 - f1_score: 0.4920 - accuracy: 0.5776\n",
            "Epoch 49/50\n",
            "62/62 [==============================] - ETA: 0s - loss: 0.9015 - f1_score: 0.4512 - accuracy: 0.5475WARNING:tensorflow:Can save best model only with val_loss available, skipping.\n",
            "62/62 [==============================] - 443s 7s/step - loss: 0.9015 - f1_score: 0.4512 - accuracy: 0.5475\n",
            "Epoch 50/50\n",
            "62/62 [==============================] - ETA: 0s - loss: 0.8944 - f1_score: 0.4831 - accuracy: 0.5806WARNING:tensorflow:Can save best model only with val_loss available, skipping.\n",
            "62/62 [==============================] - 425s 7s/step - loss: 0.8944 - f1_score: 0.4831 - accuracy: 0.5806\n"
          ]
        },
        {
          "data": {
            "text/plain": [
              "<keras.callbacks.History at 0x29e256a6340>"
            ]
          },
          "execution_count": 9,
          "metadata": {},
          "output_type": "execute_result"
        }
      ],
      "source": [
        "#train_labels = to_categorical(train_generator.labels, num_classes=3)\n",
        "\n",
        "# Train the model\n",
        "final_model.fit_generator(\n",
        "        train_generator,\n",
        "        steps_per_epoch=2000 // 32,\n",
        "        epochs=100,\n",
        "        validation_data=val_generator,\n",
        "        validation_steps=800 // 32,\n",
        "        callbacks=[checkpoint_callback])\n",
        "\n",
        "# Evaluate the model on the test set\n",
        "# test_loss, test_acc = final_model.evaluate_generator(test_generator, steps=50)\n",
        "# print('Test accuracy:', test_acc)"
      ]
    },
    {
      "cell_type": "code",
      "execution_count": 18,
      "metadata": {},
      "outputs": [
        {
          "name": "stderr",
          "output_type": "stream",
          "text": [
            "C:\\Users\\Jeffan\\AppData\\Local\\Temp\\ipykernel_16796\\110421484.py:1: UserWarning: `Model.evaluate_generator` is deprecated and will be removed in a future version. Please use `Model.evaluate`, which supports generators.\n",
            "  test_loss, test_f1_score= final_model.evaluate_generator(test_generator, steps=50)\n"
          ]
        },
        {
          "name": "stdout",
          "output_type": "stream",
          "text": [
            "WARNING:tensorflow:Your input ran out of data; interrupting training. Make sure that your dataset or generator can generate at least `steps_per_epoch * epochs` batches (in this case, 50 batches). You may need to use the repeat() function when building your dataset.\n",
            "Test f1_score: 0.5145833492279053\n"
          ]
        }
      ],
      "source": [
        "test_loss, test_f1_score= final_model.evaluate_generator(test_generator, steps=50)\n",
        "# print('Test accuracy:', test_accuracy)\n",
        "print('Test f1_score:', test_f1_score)"
      ]
    },
    {
      "cell_type": "code",
      "execution_count": 10,
      "metadata": {},
      "outputs": [
        {
          "name": "stderr",
          "output_type": "stream",
          "text": [
            "C:\\Users\\Jeffan\\AppData\\Local\\Temp\\ipykernel_16796\\2189405829.py:5: UserWarning: `Model.evaluate_generator` is deprecated and will be removed in a future version. Please use `Model.evaluate`, which supports generators.\n",
            "  test_loss, test_accuracy, test_f1_score = best_model.evaluate_generator(test_generator, steps=50)\n"
          ]
        },
        {
          "name": "stdout",
          "output_type": "stream",
          "text": [
            "WARNING:tensorflow:Your input ran out of data; interrupting training. Make sure that your dataset or generator can generate at least `steps_per_epoch * epochs` batches (in this case, 50 batches). You may need to use the repeat() function when building your dataset.\n",
            "Test accuracy: 0.0041580041870474815\n",
            "Test f1_score: 0.2541666626930237\n"
          ]
        }
      ],
      "source": [
        "from keras.models import load_model\n",
        "\n",
        "custom_objects = {'F1Score': F1Score}\n",
        "best_model = load_model('best_scene_object_model.h5', custom_objects=custom_objects)\n",
        "test_loss, test_accuracy, test_f1_score = best_model.evaluate_generator(test_generator, steps=50)\n",
        "print('Test accuracy:', test_accuracy)\n",
        "print('Test f1_score:', test_f1_score)"
      ]
    },
    {
      "cell_type": "code",
      "execution_count": 11,
      "metadata": {
        "colab": {
          "base_uri": "https://localhost:8080/"
        },
        "id": "PEcvWbkkI8-P",
        "outputId": "3ea686ca-76ec-49fe-8a64-df14b1c48031"
      },
      "outputs": [
        {
          "name": "stderr",
          "output_type": "stream",
          "text": [
            "C:\\Users\\Jeffan\\AppData\\Local\\Temp\\ipykernel_16796\\580406551.py:3: UserWarning: `Model.predict_generator` is deprecated and will be removed in a future version. Please use `Model.predict`, which supports generators.\n",
            "  predict_result = np.argmax(final_model.predict_generator(test_generator), axis=-1)\n"
          ]
        },
        {
          "data": {
            "text/plain": [
              "0.26875"
            ]
          },
          "execution_count": 11,
          "metadata": {},
          "output_type": "execute_result"
        }
      ],
      "source": [
        "from sklearn.metrics import f1_score\n",
        "\n",
        "predict_result = np.argmax(final_model.predict_generator(test_generator), axis=-1)\n",
        "actual_result = test_generator.classes\n",
        "\n",
        "f1_score(actual_result, predict_result, average='micro')"
      ]
    },
    {
      "cell_type": "code",
      "execution_count": 12,
      "metadata": {
        "colab": {
          "base_uri": "https://localhost:8080/"
        },
        "id": "LvArpCdNI-_K",
        "outputId": "74121177-2743-4835-bc54-a8449b424355"
      },
      "outputs": [
        {
          "data": {
            "text/plain": [
              "array([0.3356974 , 0.17171717, 0.24188791])"
            ]
          },
          "execution_count": 12,
          "metadata": {},
          "output_type": "execute_result"
        }
      ],
      "source": [
        "f1_score(actual_result, predict_result, average=None)"
      ]
    },
    {
      "cell_type": "code",
      "execution_count": 13,
      "metadata": {
        "colab": {
          "base_uri": "https://localhost:8080/"
        },
        "id": "IGfv0rksMpiI",
        "outputId": "44a04b47-f5d5-463f-fb77-8130828d9fd9"
      },
      "outputs": [
        {
          "name": "stderr",
          "output_type": "stream",
          "text": [
            "c:\\Users\\Jeffan\\.conda\\envs\\capstone\\lib\\site-packages\\keras\\optimizers\\optimizer_v2\\adam.py:117: UserWarning: The `lr` argument is deprecated, use `learning_rate` instead.\n",
            "  super().__init__(name, **kwargs)\n",
            "C:\\Users\\Jeffan\\AppData\\Local\\Temp\\ipykernel_16796\\1876040750.py:38: UserWarning: `Model.fit_generator` is deprecated and will be removed in a future version. Please use `Model.fit`, which supports generators.\n",
            "  final_model.fit_generator(\n"
          ]
        },
        {
          "name": "stdout",
          "output_type": "stream",
          "text": [
            "Epoch 1/50\n",
            "62/62 [==============================] - ETA: 0s - loss: 1.1617 - accuracy: 0.4078WARNING:tensorflow:Your input ran out of data; interrupting training. Make sure that your dataset or generator can generate at least `steps_per_epoch * epochs` batches (in this case, 25 batches). You may need to use the repeat() function when building your dataset.\n",
            "62/62 [==============================] - 489s 8s/step - loss: 1.1617 - accuracy: 0.4078 - val_loss: 1.0375 - val_accuracy: 0.4851\n",
            "Epoch 2/50\n",
            "62/62 [==============================] - 387s 6s/step - loss: 1.0222 - accuracy: 0.4738\n",
            "Epoch 3/50\n",
            "62/62 [==============================] - 352s 6s/step - loss: 1.0087 - accuracy: 0.4916\n",
            "Epoch 4/50\n",
            "62/62 [==============================] - 396s 6s/step - loss: 0.9744 - accuracy: 0.5099\n",
            "Epoch 5/50\n",
            "62/62 [==============================] - 373s 6s/step - loss: 0.9485 - accuracy: 0.5430\n",
            "Epoch 6/50\n",
            "62/62 [==============================] - 403s 6s/step - loss: 0.9390 - accuracy: 0.5536\n",
            "Epoch 7/50\n",
            "62/62 [==============================] - 391s 6s/step - loss: 0.9117 - accuracy: 0.5694\n",
            "Epoch 8/50\n",
            "62/62 [==============================] - 366s 6s/step - loss: 0.8873 - accuracy: 0.5765\n",
            "Epoch 9/50\n",
            "62/62 [==============================] - 341s 5s/step - loss: 0.8891 - accuracy: 0.5704\n",
            "Epoch 10/50\n",
            "62/62 [==============================] - 340s 5s/step - loss: 0.8637 - accuracy: 0.6019\n",
            "Epoch 11/50\n",
            "62/62 [==============================] - 338s 5s/step - loss: 0.8416 - accuracy: 0.6070\n",
            "Epoch 12/50\n",
            "62/62 [==============================] - 347s 6s/step - loss: 0.8070 - accuracy: 0.6406\n",
            "Epoch 13/50\n",
            " 7/62 [==>...........................] - ETA: 6:12 - loss: 0.8439 - accuracy: 0.5893"
          ]
        },
        {
          "ename": "KeyboardInterrupt",
          "evalue": "",
          "output_type": "error",
          "traceback": [
            "\u001b[1;31m---------------------------------------------------------------------------\u001b[0m",
            "\u001b[1;31mKeyboardInterrupt\u001b[0m                         Traceback (most recent call last)",
            "Cell \u001b[1;32mIn[13], line 38\u001b[0m\n\u001b[0;32m     35\u001b[0m final_model\u001b[39m.\u001b[39mcompile(loss\u001b[39m=\u001b[39m\u001b[39m'\u001b[39m\u001b[39mcategorical_crossentropy\u001b[39m\u001b[39m'\u001b[39m, optimizer\u001b[39m=\u001b[39mAdam(lr\u001b[39m=\u001b[39m\u001b[39m0.0001\u001b[39m), metrics\u001b[39m=\u001b[39m[\u001b[39m'\u001b[39m\u001b[39maccuracy\u001b[39m\u001b[39m'\u001b[39m])\n\u001b[0;32m     37\u001b[0m \u001b[39m# Train the model\u001b[39;00m\n\u001b[1;32m---> 38\u001b[0m final_model\u001b[39m.\u001b[39;49mfit_generator(\n\u001b[0;32m     39\u001b[0m         train_generator,\n\u001b[0;32m     40\u001b[0m         steps_per_epoch\u001b[39m=\u001b[39;49m\u001b[39m2000\u001b[39;49m \u001b[39m/\u001b[39;49m\u001b[39m/\u001b[39;49m \u001b[39m32\u001b[39;49m,\n\u001b[0;32m     41\u001b[0m         epochs\u001b[39m=\u001b[39;49m\u001b[39m50\u001b[39;49m,\n\u001b[0;32m     42\u001b[0m         validation_data\u001b[39m=\u001b[39;49mval_generator,\n\u001b[0;32m     43\u001b[0m         validation_steps\u001b[39m=\u001b[39;49m\u001b[39m800\u001b[39;49m \u001b[39m/\u001b[39;49m\u001b[39m/\u001b[39;49m \u001b[39m32\u001b[39;49m)\n\u001b[0;32m     45\u001b[0m \u001b[39m# Evaluate the model on the test set\u001b[39;00m\n\u001b[0;32m     46\u001b[0m test_loss, test_acc \u001b[39m=\u001b[39m final_model\u001b[39m.\u001b[39mevaluate_generator(test_generator, steps\u001b[39m=\u001b[39m\u001b[39m50\u001b[39m)\n",
            "File \u001b[1;32mc:\\Users\\Jeffan\\.conda\\envs\\capstone\\lib\\site-packages\\keras\\engine\\training.py:2604\u001b[0m, in \u001b[0;36mModel.fit_generator\u001b[1;34m(self, generator, steps_per_epoch, epochs, verbose, callbacks, validation_data, validation_steps, validation_freq, class_weight, max_queue_size, workers, use_multiprocessing, shuffle, initial_epoch)\u001b[0m\n\u001b[0;32m   2592\u001b[0m \u001b[39m\"\"\"Fits the model on data yielded batch-by-batch by a Python generator.\u001b[39;00m\n\u001b[0;32m   2593\u001b[0m \n\u001b[0;32m   2594\u001b[0m \u001b[39mDEPRECATED:\u001b[39;00m\n\u001b[0;32m   2595\u001b[0m \u001b[39m  `Model.fit` now supports generators, so there is no longer any need to\u001b[39;00m\n\u001b[0;32m   2596\u001b[0m \u001b[39m  use this endpoint.\u001b[39;00m\n\u001b[0;32m   2597\u001b[0m \u001b[39m\"\"\"\u001b[39;00m\n\u001b[0;32m   2598\u001b[0m warnings\u001b[39m.\u001b[39mwarn(\n\u001b[0;32m   2599\u001b[0m     \u001b[39m\"\u001b[39m\u001b[39m`Model.fit_generator` is deprecated and \u001b[39m\u001b[39m\"\u001b[39m\n\u001b[0;32m   2600\u001b[0m     \u001b[39m\"\u001b[39m\u001b[39mwill be removed in a future version. \u001b[39m\u001b[39m\"\u001b[39m\n\u001b[0;32m   2601\u001b[0m     \u001b[39m\"\u001b[39m\u001b[39mPlease use `Model.fit`, which supports generators.\u001b[39m\u001b[39m\"\u001b[39m,\n\u001b[0;32m   2602\u001b[0m     stacklevel\u001b[39m=\u001b[39m\u001b[39m2\u001b[39m,\n\u001b[0;32m   2603\u001b[0m )\n\u001b[1;32m-> 2604\u001b[0m \u001b[39mreturn\u001b[39;00m \u001b[39mself\u001b[39;49m\u001b[39m.\u001b[39;49mfit(\n\u001b[0;32m   2605\u001b[0m     generator,\n\u001b[0;32m   2606\u001b[0m     steps_per_epoch\u001b[39m=\u001b[39;49msteps_per_epoch,\n\u001b[0;32m   2607\u001b[0m     epochs\u001b[39m=\u001b[39;49mepochs,\n\u001b[0;32m   2608\u001b[0m     verbose\u001b[39m=\u001b[39;49mverbose,\n\u001b[0;32m   2609\u001b[0m     callbacks\u001b[39m=\u001b[39;49mcallbacks,\n\u001b[0;32m   2610\u001b[0m     validation_data\u001b[39m=\u001b[39;49mvalidation_data,\n\u001b[0;32m   2611\u001b[0m     validation_steps\u001b[39m=\u001b[39;49mvalidation_steps,\n\u001b[0;32m   2612\u001b[0m     validation_freq\u001b[39m=\u001b[39;49mvalidation_freq,\n\u001b[0;32m   2613\u001b[0m     class_weight\u001b[39m=\u001b[39;49mclass_weight,\n\u001b[0;32m   2614\u001b[0m     max_queue_size\u001b[39m=\u001b[39;49mmax_queue_size,\n\u001b[0;32m   2615\u001b[0m     workers\u001b[39m=\u001b[39;49mworkers,\n\u001b[0;32m   2616\u001b[0m     use_multiprocessing\u001b[39m=\u001b[39;49muse_multiprocessing,\n\u001b[0;32m   2617\u001b[0m     shuffle\u001b[39m=\u001b[39;49mshuffle,\n\u001b[0;32m   2618\u001b[0m     initial_epoch\u001b[39m=\u001b[39;49minitial_epoch,\n\u001b[0;32m   2619\u001b[0m )\n",
            "File \u001b[1;32mc:\\Users\\Jeffan\\.conda\\envs\\capstone\\lib\\site-packages\\keras\\utils\\traceback_utils.py:65\u001b[0m, in \u001b[0;36mfilter_traceback.<locals>.error_handler\u001b[1;34m(*args, **kwargs)\u001b[0m\n\u001b[0;32m     63\u001b[0m filtered_tb \u001b[39m=\u001b[39m \u001b[39mNone\u001b[39;00m\n\u001b[0;32m     64\u001b[0m \u001b[39mtry\u001b[39;00m:\n\u001b[1;32m---> 65\u001b[0m     \u001b[39mreturn\u001b[39;00m fn(\u001b[39m*\u001b[39margs, \u001b[39m*\u001b[39m\u001b[39m*\u001b[39mkwargs)\n\u001b[0;32m     66\u001b[0m \u001b[39mexcept\u001b[39;00m \u001b[39mException\u001b[39;00m \u001b[39mas\u001b[39;00m e:\n\u001b[0;32m     67\u001b[0m     filtered_tb \u001b[39m=\u001b[39m _process_traceback_frames(e\u001b[39m.\u001b[39m__traceback__)\n",
            "File \u001b[1;32mc:\\Users\\Jeffan\\.conda\\envs\\capstone\\lib\\site-packages\\keras\\engine\\training.py:1650\u001b[0m, in \u001b[0;36mModel.fit\u001b[1;34m(self, x, y, batch_size, epochs, verbose, callbacks, validation_split, validation_data, shuffle, class_weight, sample_weight, initial_epoch, steps_per_epoch, validation_steps, validation_batch_size, validation_freq, max_queue_size, workers, use_multiprocessing)\u001b[0m\n\u001b[0;32m   1642\u001b[0m \u001b[39mwith\u001b[39;00m tf\u001b[39m.\u001b[39mprofiler\u001b[39m.\u001b[39mexperimental\u001b[39m.\u001b[39mTrace(\n\u001b[0;32m   1643\u001b[0m     \u001b[39m\"\u001b[39m\u001b[39mtrain\u001b[39m\u001b[39m\"\u001b[39m,\n\u001b[0;32m   1644\u001b[0m     epoch_num\u001b[39m=\u001b[39mepoch,\n\u001b[1;32m   (...)\u001b[0m\n\u001b[0;32m   1647\u001b[0m     _r\u001b[39m=\u001b[39m\u001b[39m1\u001b[39m,\n\u001b[0;32m   1648\u001b[0m ):\n\u001b[0;32m   1649\u001b[0m     callbacks\u001b[39m.\u001b[39mon_train_batch_begin(step)\n\u001b[1;32m-> 1650\u001b[0m     tmp_logs \u001b[39m=\u001b[39m \u001b[39mself\u001b[39;49m\u001b[39m.\u001b[39;49mtrain_function(iterator)\n\u001b[0;32m   1651\u001b[0m     \u001b[39mif\u001b[39;00m data_handler\u001b[39m.\u001b[39mshould_sync:\n\u001b[0;32m   1652\u001b[0m         context\u001b[39m.\u001b[39masync_wait()\n",
            "File \u001b[1;32m~\\AppData\\Roaming\\Python\\Python39\\site-packages\\tensorflow\\python\\util\\traceback_utils.py:150\u001b[0m, in \u001b[0;36mfilter_traceback.<locals>.error_handler\u001b[1;34m(*args, **kwargs)\u001b[0m\n\u001b[0;32m    148\u001b[0m filtered_tb \u001b[39m=\u001b[39m \u001b[39mNone\u001b[39;00m\n\u001b[0;32m    149\u001b[0m \u001b[39mtry\u001b[39;00m:\n\u001b[1;32m--> 150\u001b[0m   \u001b[39mreturn\u001b[39;00m fn(\u001b[39m*\u001b[39margs, \u001b[39m*\u001b[39m\u001b[39m*\u001b[39mkwargs)\n\u001b[0;32m    151\u001b[0m \u001b[39mexcept\u001b[39;00m \u001b[39mException\u001b[39;00m \u001b[39mas\u001b[39;00m e:\n\u001b[0;32m    152\u001b[0m   filtered_tb \u001b[39m=\u001b[39m _process_traceback_frames(e\u001b[39m.\u001b[39m__traceback__)\n",
            "File \u001b[1;32m~\\AppData\\Roaming\\Python\\Python39\\site-packages\\tensorflow\\python\\eager\\polymorphic_function\\polymorphic_function.py:894\u001b[0m, in \u001b[0;36mFunction.__call__\u001b[1;34m(self, *args, **kwds)\u001b[0m\n\u001b[0;32m    891\u001b[0m compiler \u001b[39m=\u001b[39m \u001b[39m\"\u001b[39m\u001b[39mxla\u001b[39m\u001b[39m\"\u001b[39m \u001b[39mif\u001b[39;00m \u001b[39mself\u001b[39m\u001b[39m.\u001b[39m_jit_compile \u001b[39melse\u001b[39;00m \u001b[39m\"\u001b[39m\u001b[39mnonXla\u001b[39m\u001b[39m\"\u001b[39m\n\u001b[0;32m    893\u001b[0m \u001b[39mwith\u001b[39;00m OptionalXlaContext(\u001b[39mself\u001b[39m\u001b[39m.\u001b[39m_jit_compile):\n\u001b[1;32m--> 894\u001b[0m   result \u001b[39m=\u001b[39m \u001b[39mself\u001b[39m\u001b[39m.\u001b[39m_call(\u001b[39m*\u001b[39margs, \u001b[39m*\u001b[39m\u001b[39m*\u001b[39mkwds)\n\u001b[0;32m    896\u001b[0m new_tracing_count \u001b[39m=\u001b[39m \u001b[39mself\u001b[39m\u001b[39m.\u001b[39mexperimental_get_tracing_count()\n\u001b[0;32m    897\u001b[0m without_tracing \u001b[39m=\u001b[39m (tracing_count \u001b[39m==\u001b[39m new_tracing_count)\n",
            "File \u001b[1;32m~\\AppData\\Roaming\\Python\\Python39\\site-packages\\tensorflow\\python\\eager\\polymorphic_function\\polymorphic_function.py:926\u001b[0m, in \u001b[0;36mFunction._call\u001b[1;34m(self, *args, **kwds)\u001b[0m\n\u001b[0;32m    923\u001b[0m   \u001b[39mself\u001b[39m\u001b[39m.\u001b[39m_lock\u001b[39m.\u001b[39mrelease()\n\u001b[0;32m    924\u001b[0m   \u001b[39m# In this case we have created variables on the first call, so we run the\u001b[39;00m\n\u001b[0;32m    925\u001b[0m   \u001b[39m# defunned version which is guaranteed to never create variables.\u001b[39;00m\n\u001b[1;32m--> 926\u001b[0m   \u001b[39mreturn\u001b[39;00m \u001b[39mself\u001b[39m\u001b[39m.\u001b[39m_no_variable_creation_fn(\u001b[39m*\u001b[39margs, \u001b[39m*\u001b[39m\u001b[39m*\u001b[39mkwds)  \u001b[39m# pylint: disable=not-callable\u001b[39;00m\n\u001b[0;32m    927\u001b[0m \u001b[39melif\u001b[39;00m \u001b[39mself\u001b[39m\u001b[39m.\u001b[39m_variable_creation_fn \u001b[39mis\u001b[39;00m \u001b[39mnot\u001b[39;00m \u001b[39mNone\u001b[39;00m:\n\u001b[0;32m    928\u001b[0m   \u001b[39m# Release the lock early so that multiple threads can perform the call\u001b[39;00m\n\u001b[0;32m    929\u001b[0m   \u001b[39m# in parallel.\u001b[39;00m\n\u001b[0;32m    930\u001b[0m   \u001b[39mself\u001b[39m\u001b[39m.\u001b[39m_lock\u001b[39m.\u001b[39mrelease()\n",
            "File \u001b[1;32m~\\AppData\\Roaming\\Python\\Python39\\site-packages\\tensorflow\\python\\eager\\polymorphic_function\\tracing_compiler.py:143\u001b[0m, in \u001b[0;36mTracingCompiler.__call__\u001b[1;34m(self, *args, **kwargs)\u001b[0m\n\u001b[0;32m    140\u001b[0m \u001b[39mwith\u001b[39;00m \u001b[39mself\u001b[39m\u001b[39m.\u001b[39m_lock:\n\u001b[0;32m    141\u001b[0m   (concrete_function,\n\u001b[0;32m    142\u001b[0m    filtered_flat_args) \u001b[39m=\u001b[39m \u001b[39mself\u001b[39m\u001b[39m.\u001b[39m_maybe_define_function(args, kwargs)\n\u001b[1;32m--> 143\u001b[0m \u001b[39mreturn\u001b[39;00m concrete_function\u001b[39m.\u001b[39;49m_call_flat(\n\u001b[0;32m    144\u001b[0m     filtered_flat_args, captured_inputs\u001b[39m=\u001b[39;49mconcrete_function\u001b[39m.\u001b[39;49mcaptured_inputs)\n",
            "File \u001b[1;32m~\\AppData\\Roaming\\Python\\Python39\\site-packages\\tensorflow\\python\\eager\\polymorphic_function\\monomorphic_function.py:1757\u001b[0m, in \u001b[0;36mConcreteFunction._call_flat\u001b[1;34m(self, args, captured_inputs, cancellation_manager)\u001b[0m\n\u001b[0;32m   1753\u001b[0m possible_gradient_type \u001b[39m=\u001b[39m gradients_util\u001b[39m.\u001b[39mPossibleTapeGradientTypes(args)\n\u001b[0;32m   1754\u001b[0m \u001b[39mif\u001b[39;00m (possible_gradient_type \u001b[39m==\u001b[39m gradients_util\u001b[39m.\u001b[39mPOSSIBLE_GRADIENT_TYPES_NONE\n\u001b[0;32m   1755\u001b[0m     \u001b[39mand\u001b[39;00m executing_eagerly):\n\u001b[0;32m   1756\u001b[0m   \u001b[39m# No tape is watching; skip to running the function.\u001b[39;00m\n\u001b[1;32m-> 1757\u001b[0m   \u001b[39mreturn\u001b[39;00m \u001b[39mself\u001b[39m\u001b[39m.\u001b[39m_build_call_outputs(\u001b[39mself\u001b[39;49m\u001b[39m.\u001b[39;49m_inference_function\u001b[39m.\u001b[39;49mcall(\n\u001b[0;32m   1758\u001b[0m       ctx, args, cancellation_manager\u001b[39m=\u001b[39;49mcancellation_manager))\n\u001b[0;32m   1759\u001b[0m forward_backward \u001b[39m=\u001b[39m \u001b[39mself\u001b[39m\u001b[39m.\u001b[39m_select_forward_and_backward_functions(\n\u001b[0;32m   1760\u001b[0m     args,\n\u001b[0;32m   1761\u001b[0m     possible_gradient_type,\n\u001b[0;32m   1762\u001b[0m     executing_eagerly)\n\u001b[0;32m   1763\u001b[0m forward_function, args_with_tangents \u001b[39m=\u001b[39m forward_backward\u001b[39m.\u001b[39mforward()\n",
            "File \u001b[1;32m~\\AppData\\Roaming\\Python\\Python39\\site-packages\\tensorflow\\python\\eager\\polymorphic_function\\monomorphic_function.py:381\u001b[0m, in \u001b[0;36m_EagerDefinedFunction.call\u001b[1;34m(self, ctx, args, cancellation_manager)\u001b[0m\n\u001b[0;32m    379\u001b[0m \u001b[39mwith\u001b[39;00m _InterpolateFunctionError(\u001b[39mself\u001b[39m):\n\u001b[0;32m    380\u001b[0m   \u001b[39mif\u001b[39;00m cancellation_manager \u001b[39mis\u001b[39;00m \u001b[39mNone\u001b[39;00m:\n\u001b[1;32m--> 381\u001b[0m     outputs \u001b[39m=\u001b[39m execute\u001b[39m.\u001b[39;49mexecute(\n\u001b[0;32m    382\u001b[0m         \u001b[39mstr\u001b[39;49m(\u001b[39mself\u001b[39;49m\u001b[39m.\u001b[39;49msignature\u001b[39m.\u001b[39;49mname),\n\u001b[0;32m    383\u001b[0m         num_outputs\u001b[39m=\u001b[39;49m\u001b[39mself\u001b[39;49m\u001b[39m.\u001b[39;49m_num_outputs,\n\u001b[0;32m    384\u001b[0m         inputs\u001b[39m=\u001b[39;49margs,\n\u001b[0;32m    385\u001b[0m         attrs\u001b[39m=\u001b[39;49mattrs,\n\u001b[0;32m    386\u001b[0m         ctx\u001b[39m=\u001b[39;49mctx)\n\u001b[0;32m    387\u001b[0m   \u001b[39melse\u001b[39;00m:\n\u001b[0;32m    388\u001b[0m     outputs \u001b[39m=\u001b[39m execute\u001b[39m.\u001b[39mexecute_with_cancellation(\n\u001b[0;32m    389\u001b[0m         \u001b[39mstr\u001b[39m(\u001b[39mself\u001b[39m\u001b[39m.\u001b[39msignature\u001b[39m.\u001b[39mname),\n\u001b[0;32m    390\u001b[0m         num_outputs\u001b[39m=\u001b[39m\u001b[39mself\u001b[39m\u001b[39m.\u001b[39m_num_outputs,\n\u001b[1;32m   (...)\u001b[0m\n\u001b[0;32m    393\u001b[0m         ctx\u001b[39m=\u001b[39mctx,\n\u001b[0;32m    394\u001b[0m         cancellation_manager\u001b[39m=\u001b[39mcancellation_manager)\n",
            "File \u001b[1;32m~\\AppData\\Roaming\\Python\\Python39\\site-packages\\tensorflow\\python\\eager\\execute.py:52\u001b[0m, in \u001b[0;36mquick_execute\u001b[1;34m(op_name, num_outputs, inputs, attrs, ctx, name)\u001b[0m\n\u001b[0;32m     50\u001b[0m \u001b[39mtry\u001b[39;00m:\n\u001b[0;32m     51\u001b[0m   ctx\u001b[39m.\u001b[39mensure_initialized()\n\u001b[1;32m---> 52\u001b[0m   tensors \u001b[39m=\u001b[39m pywrap_tfe\u001b[39m.\u001b[39;49mTFE_Py_Execute(ctx\u001b[39m.\u001b[39;49m_handle, device_name, op_name,\n\u001b[0;32m     53\u001b[0m                                       inputs, attrs, num_outputs)\n\u001b[0;32m     54\u001b[0m \u001b[39mexcept\u001b[39;00m core\u001b[39m.\u001b[39m_NotOkStatusException \u001b[39mas\u001b[39;00m e:\n\u001b[0;32m     55\u001b[0m   \u001b[39mif\u001b[39;00m name \u001b[39mis\u001b[39;00m \u001b[39mnot\u001b[39;00m \u001b[39mNone\u001b[39;00m:\n",
            "\u001b[1;31mKeyboardInterrupt\u001b[0m: "
          ]
        }
      ],
      "source": [
        "# Set the input size of the VGG16 model\n",
        "input_shape = (224, 224, 3)\n",
        "\n",
        "input_tensor = Input(shape=input_shape)\n",
        "\n",
        "# Load the pre-trained VGG16 models\n",
        "object_vgg16 = VGG16(weights='imagenet', include_top=False, input_tensor=input_tensor)\n",
        "\n",
        "# Freeze the convolutional layers, can not directly use, since all layer names should be unique.\n",
        "for layer in object_vgg16.layers:\n",
        "    layer.trainable = False\n",
        "    layer._name = 'object_detection_' + layer.name\n",
        "\n",
        "scene_model = VGG16(weights=None, include_top=False, input_tensor=input_tensor, classes=365)\n",
        "scene_model.load_weights(weights_path)\n",
        "\n",
        "# Freeze the convolutional layers\n",
        "for layer in scene_model.layers:\n",
        "    layer.trainable = False\n",
        "\n",
        "# Combine the output of both models    \n",
        "combined_output = Concatenate()([object_vgg16.output, scene_model.output])\n",
        "\n",
        "# Add a Flatten layer\n",
        "pooled_output = Flatten()(combined_output)\n",
        "\n",
        "# Add a new final layer to the combined model\n",
        "final_output_1 = Dense(256, activation='relu')(pooled_output)\n",
        "final_output_2 = Dropout(0.5)(final_output_1)\n",
        "final_output_class = Dense(3, activation='softmax')(final_output_2)\n",
        "\n",
        "# Create the final model\n",
        "final_model = Model(inputs= input_tensor, outputs=final_output_class)\n",
        "\n",
        "final_model.compile(loss='categorical_crossentropy', optimizer=Adam(lr=0.0001), metrics=['accuracy'])\n",
        "\n",
        "# Train the model\n",
        "final_model.fit_generator(\n",
        "        train_generator,\n",
        "        steps_per_epoch=2000 // 32,\n",
        "        epochs=50,\n",
        "        validation_data=val_generator,\n",
        "        validation_steps=800 // 32)\n",
        "\n",
        "# Evaluate the model on the test set\n",
        "test_loss, test_acc = final_model.evaluate_generator(test_generator, steps=50)\n",
        "print('Test accuracy:', test_acc)"
      ]
    },
    {
      "cell_type": "code",
      "execution_count": null,
      "metadata": {
        "colab": {
          "base_uri": "https://localhost:8080/"
        },
        "id": "Lj9M5vz9M2qp",
        "outputId": "92fb749b-b3a9-4d75-8534-7fd6da00428b"
      },
      "outputs": [
        {
          "name": "stderr",
          "output_type": "stream",
          "text": [
            "<ipython-input-19-fd4bacd1307b>:1: UserWarning: `Model.predict_generator` is deprecated and will be removed in a future version. Please use `Model.predict`, which supports generators.\n",
            "  predict_result = np.argmax(final_model.predict_generator(test_generator), axis=-1)\n"
          ]
        },
        {
          "data": {
            "text/plain": [
              "0.45748116254036597"
            ]
          },
          "execution_count": 19,
          "metadata": {},
          "output_type": "execute_result"
        }
      ],
      "source": [
        "predict_result = np.argmax(final_model.predict_generator(test_generator), axis=-1)\n",
        "actual_result = test_generator.classes\n",
        "\n",
        "f1_score(actual_result, predict_result, average='micro')"
      ]
    },
    {
      "cell_type": "code",
      "execution_count": null,
      "metadata": {
        "colab": {
          "base_uri": "https://localhost:8080/"
        },
        "id": "JZBQmS7XUDJz",
        "outputId": "7c96d250-b861-4f57-8b5b-9e63e750e139"
      },
      "outputs": [
        {
          "data": {
            "text/plain": [
              "array([0.24145786, 0.1503268 , 0.59478886])"
            ]
          },
          "execution_count": 16,
          "metadata": {},
          "output_type": "execute_result"
        }
      ],
      "source": [
        "f1_score(actual_result, predict_result, average=None)"
      ]
    }
  ],
  "metadata": {
    "accelerator": "GPU",
    "colab": {
      "provenance": []
    },
    "gpuClass": "standard",
    "kernelspec": {
      "display_name": "Python 3",
      "name": "python3"
    },
    "language_info": {
      "codemirror_mode": {
        "name": "ipython",
        "version": 3
      },
      "file_extension": ".py",
      "mimetype": "text/x-python",
      "name": "python",
      "nbconvert_exporter": "python",
      "pygments_lexer": "ipython3",
      "version": "3.9.16"
    }
  },
  "nbformat": 4,
  "nbformat_minor": 0
}
