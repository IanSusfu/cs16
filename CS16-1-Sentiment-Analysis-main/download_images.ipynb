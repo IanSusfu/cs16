{
 "cells": [
  {
   "cell_type": "code",
   "execution_count": 46,
   "id": "ba6dcfdf",
   "metadata": {},
   "outputs": [],
   "source": [
    "import pandas as pd\n",
    "df = pd.read_csv('5000_eng_tweets_with_media_URL.csv')"
   ]
  },
  {
   "cell_type": "code",
   "execution_count": 47,
   "id": "a73eba62",
   "metadata": {},
   "outputs": [
    {
     "data": {
      "text/plain": [
       "0       [Photo(previewUrl='https://pbs.twimg.com/media...\n",
       "1       [Photo(previewUrl='https://pbs.twimg.com/media...\n",
       "2       [Photo(previewUrl='https://pbs.twimg.com/media...\n",
       "3       [Photo(previewUrl='https://pbs.twimg.com/media...\n",
       "4       [Gif(thumbnailUrl='https://pbs.twimg.com/tweet...\n",
       "                              ...                        \n",
       "4995    [Photo(previewUrl='https://pbs.twimg.com/media...\n",
       "4996    [Photo(previewUrl='https://pbs.twimg.com/media...\n",
       "4997    [Video(thumbnailUrl='https://pbs.twimg.com/ext...\n",
       "4998    [Photo(previewUrl='https://pbs.twimg.com/media...\n",
       "4999    [Photo(previewUrl='https://pbs.twimg.com/media...\n",
       "Name: Image_URL, Length: 5000, dtype: object"
      ]
     },
     "execution_count": 47,
     "metadata": {},
     "output_type": "execute_result"
    }
   ],
   "source": [
    "df['Image_URL']"
   ]
  },
  {
   "cell_type": "code",
   "execution_count": 48,
   "id": "6f63e10f",
   "metadata": {},
   "outputs": [],
   "source": [
    "import re\n",
    "# pattern = r'https?://\\S+'\n",
    "\n",
    "# Replace URLs with empty string\n",
    "def get_url(string):\n",
    "    #string = \"[Photo(previewUrl='https://pbs.twimg.com/media/FqLEU_kakAMI1LX?format=jpg&name=small', fullUrl='https://pbs.twimg.com/media/FqLEU_kakAMI1LX?format=jpg&name=orig', altText=None)]\"\n",
    "    url = string[string.find(\"http\"): string.find(\",\")-1]\n",
    "    #print(url)\n",
    "\n",
    "    return url\n",
    "\n",
    "new_df = df['Image_URL'].apply(get_url)"
   ]
  },
  {
   "cell_type": "code",
   "execution_count": 49,
   "id": "2cff624d",
   "metadata": {},
   "outputs": [],
   "source": [
    "# print(new_df[0])"
   ]
  },
  {
   "cell_type": "code",
   "execution_count": 50,
   "id": "f727d080",
   "metadata": {},
   "outputs": [],
   "source": [
    "# string = \"[Photo(previewUrl='https://pbs.twimg.com/media/FqLEU_kakAMI1LX?format=jpg&name=small', fullUrl='https://pbs.twimg.com/media/FqLEU_kakAMI1LX?format=jpg&name=orig', altText=None)]\"\n",
    "# url = string[string.find(\"http\"): string.find(\",\")-1]\n",
    "# print(url)\n"
   ]
  },
  {
   "cell_type": "code",
   "execution_count": 51,
   "id": "5621fb71",
   "metadata": {},
   "outputs": [
    {
     "name": "stdout",
     "output_type": "stream",
     "text": [
      "Failed to get: https://pbs.twimg.com/media/FqLESEjXoAEzdYq?format=jpg&name=small cannot identify image file <_io.BytesIO object at 0x00000151610DC040>\n"
     ]
    }
   ],
   "source": [
    "import pandas as pd\n",
    "import requests\n",
    "from io import BytesIO\n",
    "from PIL import Image\n",
    "\n",
    "# Read in pandas series of image URLs\n",
    "url = new_df[0:9]\n",
    "\n",
    "#Loop through each URL and download the corresponding image\n",
    "for index, url in image_urls.items():\n",
    "    try:\n",
    "        response = requests.get(url)\n",
    "        img = Image.open(BytesIO(response.content))\n",
    "        rgb_im = img.convert('RGB')\n",
    "        rgb_im.save(f\"Images/image_{index}.jpg\")\n",
    "    except Exception as ex:\n",
    "        print('Failed to get:',photos, ex)\n",
    "\n",
    "\n",
    "# import wget\n",
    "# import time  # for sleep\n",
    "\n",
    "# for photos in url.items:\n",
    "#     try: \n",
    "#        print('\\nGet:', photos)   \n",
    "#        wget.download(photos)\n",
    "#        time.sleep(1)  # pause 1 second, if needed\n",
    "#     except Exception as ex:\n",
    "#        print('Failed to get:',photos, ex)"
   ]
  },
  {
   "cell_type": "code",
   "execution_count": 52,
   "id": "bf0a121f",
   "metadata": {},
   "outputs": [],
   "source": [
    "# image_urls[3]"
   ]
  },
  {
   "cell_type": "code",
   "execution_count": 53,
   "id": "c214921f",
   "metadata": {},
   "outputs": [],
   "source": [
    "# image_urls = new_df[0:9]"
   ]
  },
  {
   "cell_type": "code",
   "execution_count": 54,
   "id": "88a20631",
   "metadata": {},
   "outputs": [],
   "source": [
    "# image_urls"
   ]
  },
  {
   "cell_type": "code",
   "execution_count": 55,
   "id": "cd496cfe",
   "metadata": {},
   "outputs": [],
   "source": [
    "# pip install wget"
   ]
  },
  {
   "cell_type": "code",
   "execution_count": null,
   "id": "e5132350",
   "metadata": {},
   "outputs": [],
   "source": []
  }
 ],
 "metadata": {
  "kernelspec": {
   "display_name": "Python 3 (ipykernel)",
   "language": "python",
   "name": "python3"
  },
  "language_info": {
   "codemirror_mode": {
    "name": "ipython",
    "version": 3
   },
   "file_extension": ".py",
   "mimetype": "text/x-python",
   "name": "python",
   "nbconvert_exporter": "python",
   "pygments_lexer": "ipython3",
   "version": "3.8.8"
  }
 },
 "nbformat": 4,
 "nbformat_minor": 5
}
